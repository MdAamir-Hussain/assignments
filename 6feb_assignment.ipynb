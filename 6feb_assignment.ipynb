{
 "cells": [
  {
   "cell_type": "code",
   "execution_count": null,
   "id": "09dd2f59-775d-429e-91d0-9ca70a057f9f",
   "metadata": {},
   "outputs": [],
   "source": [
    "1.\n",
    "from functools import reduce\n",
    "\n",
    "def flatten_list_and_get_product(lst):\n",
    "    flat_list = []\n",
    "    for item in lst:\n",
    "        if isinstance(item, (int, float)):\n",
    "            flat_list.append(item)\n",
    "        elif isinstance(item, (list, tuple, set)):\n",
    "            flat_list.extend(flatten_list_and_get_product(item))\n",
    "        elif isinstance(item, dict):\n",
    "            for key, value in item.items():\n",
    "                if isinstance(key, (int, float)):\n",
    "                    flat_list.append(key)\n",
    "                if isinstance(value, (int, float)):\n",
    "                    flat_list.append(value)\n",
    "                elif isinstance(value, (list, tuple, set)):\n",
    "                    flat_list.extend(flatten_list_and_get_product(value))\n",
    "    product = reduce(lambda x, y: x * y, flat_list)\n",
    "    return product\n",
    "\n",
    "list1 = [1, 2, 3, 4, [44, 55, 66, True], False, (34, 56, 78, 89, 34), {1, 2, 3, 3, 2, 1}, {1: 34, \"key2\": [55, 67, 78, 89], 4: (45, 22, 61, 34)}, [56, 'data science'], 'Machine Learning']\n",
    "result = flatten_list_and_get_product(list1)\n",
    "print(result)\n"
   ]
  },
  {
   "cell_type": "code",
   "execution_count": null,
   "id": "5f8a8d10-d566-4684-96df-c00c3af03ba6",
   "metadata": {},
   "outputs": [],
   "source": [
    "2.\n",
    "import string\n",
    "\n",
    "def encrypt_message(message):\n",
    "    message = message.lower().replace(\" \", \"$\")\n",
    "    alphabet = string.ascii_lowercase\n",
    "    encryption = {}\n",
    "    for i, char in enumerate(alphabet):\n",
    "        encryption[char] = alphabet[(i + 25) % 26]\n",
    "    encrypted_message = \"\".join([encryption[char] if char in encryption else char for char in message])\n",
    "    return encrypted_message\n",
    "\n",
    "message = \"I want to become a Data Scientist.\"\n",
    "encrypted_message = encrypt_message(message)\n",
    "print(encrypted_message)\n",
    "\n"
   ]
  }
 ],
 "metadata": {
  "kernelspec": {
   "display_name": "Python 3 (ipykernel)",
   "language": "python",
   "name": "python3"
  },
  "language_info": {
   "codemirror_mode": {
    "name": "ipython",
    "version": 3
   },
   "file_extension": ".py",
   "mimetype": "text/x-python",
   "name": "python",
   "nbconvert_exporter": "python",
   "pygments_lexer": "ipython3",
   "version": "3.10.8"
  }
 },
 "nbformat": 4,
 "nbformat_minor": 5
}
