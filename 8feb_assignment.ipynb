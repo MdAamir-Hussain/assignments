{
 "cells": [
  {
   "cell_type": "code",
   "execution_count": null,
   "id": "93eeb697-d21f-4769-9672-a01e7f1d07ed",
   "metadata": {},
   "outputs": [],
   "source": [
    "#1\n",
    "Abstraction in Object-Oriented Programming (OOP) is a concept that helps to reduce complexity by hiding the implementation details of a class and exposing only the necessary information to the users of the class.\n",
    "\n",
    "For example, consider a class named \"Car\". The user of the class only needs to know the actions (methods) that the Car class provides such as \"start\", \"stop\", \"accelerate\", and \"apply_brakes\". The user does not need to know how these methods are implemented, i.e., how the car engine starts, how the brakes are applied, etc. This is where abstraction comes into play, the Car class can hide these details and present the user with a simplified view of the class, which makes the class easier to use and understand."
   ]
  },
  {
   "cell_type": "code",
   "execution_count": null,
   "id": "dbf02dbb-08ae-4290-91bc-1728ca95a073",
   "metadata": {},
   "outputs": [],
   "source": [
    "#2.\n",
    "Abstraction and Encapsulation are two important concepts in Object-Oriented Programming (OOP). They are related but different in their purpose and implementation.\n",
    "\n",
    "Abstraction is the process of hiding complexity and only exposing essential information to the user. The idea is to present a simplified view of an object, class, or system to the user, which makes it easier to use and understand.\n",
    "\n",
    "Encapsulation, on the other hand, is the process of wrapping data and functions within a single unit or object. It provides a secure mechanism to protect the data from outside access and modification, by hiding the internal details of the object and providing public methods to access and manipulate the data.\n",
    "\n",
    "For example, consider a class named \"Car\". Abstraction can be achieved by hiding the internal details of the car engine and exposing only the essential information to the user like \"start\", \"stop\", \"accelerate\", and \"apply_brakes\". Encapsulation can be achieved by wrapping the data members (e.g. fuel, speed, etc.) and member functions (e.g. start, stop, etc.) within the Car class and providing getter and setter methods to access and modify the data. The user can access the data and functions only through these methods, which protects the data from outside access and modification.\n",
    "\n",
    "In short, Abstraction focuses on hiding complexity, while Encapsulation focuses on bundling data and methods within a single unit."
   ]
  },
  {
   "cell_type": "code",
   "execution_count": null,
   "id": "14fc624a-3347-47f1-b0c1-ce89c473cf47",
   "metadata": {},
   "outputs": [],
   "source": [
    "#3.\n",
    "The abc module in Python is the Abstract Base Classes module. It provides a way to define abstract base classes (ABCs) in Python, which are classes that cannot be instantiated but can be used as a base class for other classes.\n",
    "\n",
    "The purpose of using ABCs is to define a common interface for a set of related classes, without having to create a concrete implementation. This allows developers to define a blueprint for a set of classes, and then let other developers or code reuse the blueprint by implementing the ABC.\n",
    "\n",
    "For example, if you want to define a set of classes that represent shapes, you could define an ABC called \"Shape\" that defines the methods that all shapes must have, such as \"area\" and \"perimeter\". Subclasses of \"Shape\" would then provide concrete implementations of these methods.\n",
    "\n",
    "In Python, ABCs are implemented using the abc.ABC class and the @abc.abstractmethod decorator. To define an ABC, you create a class that inherits from abc.ABC and use the @abc.abstractmethod decorator on the methods that must be implemented by subclasses.\n",
    "\n",
    "The abc module provides a useful way to enforce interfaces and promote code reuse, making it an important tool in the development of structured and maintainable Python code."
   ]
  },
  {
   "cell_type": "code",
   "execution_count": null,
   "id": "215d6bb6-2a1b-48d3-842c-6c6701e0a28c",
   "metadata": {},
   "outputs": [],
   "source": [
    "#4.\n",
    "Data Abstraction is a process of hiding the implementation details and exposing only the essential information to the user. The goal of data abstraction is to reduce complexity and improve the maintainability of code.\n",
    "\n",
    "In Python, there are several ways to achieve data abstraction:\n",
    "\n",
    "(i)Encapsulation: Encapsulation is a process of bundling data and functions within a single unit or object. In Python, this can be achieved by creating classes and defining the data members as private and providing public methods (getters and setters) to access and modify the data. This protects the data from outside access and modification and provides a mechanism for controlling the data.\n",
    "\n",
    "(ii)Abstraction using Abstract Base Classes (ABCs): Python provides a module called abc that allows you to define abstract base classes (ABCs). An ABC is a class that cannot be instantiated but can be used as a base class for other classes. By defining an ABC, you can define a common interface for a set of related classes and enforce it through inheritance.\n",
    "\n",
    "(iii)Data Hiding: In Python, you can hide the implementation details of a class by defining the class members as private, using the double underscore (__) prefix. This makes the data members inaccessible from outside the class, promoting data abstraction and information hiding.\n",
    "\n",
    "(iv)Using Interfaces: In Python, you can define a set of methods that must be implemented by a class by using the abc.ABC class and the @abc.abstractmethod decorator. This can be used to define a common interface for a set of related classes, promoting data abstraction and code reuse."
   ]
  }
 ],
 "metadata": {
  "kernelspec": {
   "display_name": "Python 3 (ipykernel)",
   "language": "python",
   "name": "python3"
  },
  "language_info": {
   "codemirror_mode": {
    "name": "ipython",
    "version": 3
   },
   "file_extension": ".py",
   "mimetype": "text/x-python",
   "name": "python",
   "nbconvert_exporter": "python",
   "pygments_lexer": "ipython3",
   "version": "3.10.8"
  }
 },
 "nbformat": 4,
 "nbformat_minor": 5
}
