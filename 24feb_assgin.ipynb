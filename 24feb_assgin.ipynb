{
 "cells": [
  {
   "cell_type": "code",
   "execution_count": 1,
   "id": "58c4f4b7-a096-464b-b817-e31424d1fdf1",
   "metadata": {},
   "outputs": [
    {
     "name": "stdout",
     "output_type": "stream",
     "text": [
      "   Name  Age  Gender\n",
      "0  John   25    Male\n",
      "1  Jane   30  Female\n",
      "2   Bob   40    Male\n"
     ]
    }
   ],
   "source": [
    "#1.\n",
    "\n",
    "import pandas as pd\n",
    "\n",
    "# Read a CSV file and create a DataFrame\n",
    "df = pd.read_csv('data.csv')\n",
    "print(df)\n"
   ]
  },
  {
   "cell_type": "code",
   "execution_count": 2,
   "id": "8df3f97c-dca6-498f-8600-aff7d58768c1",
   "metadata": {},
   "outputs": [
    {
     "name": "stdout",
     "output_type": "stream",
     "text": [
      "      Name  Age      City\n",
      "0     John   25  New York\n",
      "1     Emma   28    London\n",
      "2  Michael   32     Paris\n"
     ]
    }
   ],
   "source": [
    "import pandas as pd\n",
    "\n",
    "# Create a DataFrame\n",
    "data = {'Name': ['John', 'Emma', 'Michael', 'Sophia', 'William'],\n",
    "        'Age': [25, 28, 32, 27, 30],\n",
    "        'City': ['New York', 'London', 'Paris', 'Tokyo', 'Sydney']}\n",
    "df = pd.DataFrame(data)\n",
    "\n",
    "# Display the first 3 rows of the DataFrame\n",
    "print(df.head(3))\n"
   ]
  },
  {
   "cell_type": "code",
   "execution_count": 3,
   "id": "90f2962a-583a-4fe0-91e0-c6070d6f4d44",
   "metadata": {},
   "outputs": [
    {
     "name": "stdout",
     "output_type": "stream",
     "text": [
      "<class 'pandas.core.frame.DataFrame'>\n",
      "RangeIndex: 3 entries, 0 to 2\n",
      "Data columns (total 3 columns):\n",
      " #   Column  Non-Null Count  Dtype \n",
      "---  ------  --------------  ----- \n",
      " 0   Name    3 non-null      object\n",
      " 1   Age     3 non-null      int64 \n",
      " 2   City    3 non-null      object\n",
      "dtypes: int64(1), object(2)\n",
      "memory usage: 200.0+ bytes\n",
      "None\n"
     ]
    }
   ],
   "source": [
    "import pandas as pd\n",
    "\n",
    "# Create a DataFrame\n",
    "data = {'Name': ['John', 'Emma', 'Michael'],\n",
    "        'Age': [25, 28, 32],\n",
    "        'City': ['New York', 'London', 'Paris']}\n",
    "df = pd.DataFrame(data)\n",
    "\n",
    "# Display information about the DataFrame\n",
    "print(df.info())\n"
   ]
  },
  {
   "cell_type": "code",
   "execution_count": 4,
   "id": "7ff544ab-33c8-4656-ba21-cad9c89d6f3a",
   "metadata": {},
   "outputs": [
    {
     "name": "stdout",
     "output_type": "stream",
     "text": [
      "             Age\n",
      "count   3.000000\n",
      "mean   28.333333\n",
      "std     3.511885\n",
      "min    25.000000\n",
      "25%    26.500000\n",
      "50%    28.000000\n",
      "75%    30.000000\n",
      "max    32.000000\n"
     ]
    }
   ],
   "source": [
    "import pandas as pd\n",
    "\n",
    "# Create a DataFrame\n",
    "data = {'Name': ['John', 'Emma', 'Michael'],\n",
    "        'Age': [25, 28, 32],\n",
    "        'City': ['New York', 'London', 'Paris']}\n",
    "df = pd.DataFrame(data)\n",
    "\n",
    "# Generate descriptive statistics\n",
    "print(df.describe())\n"
   ]
  },
  {
   "cell_type": "code",
   "execution_count": 5,
   "id": "906aba44-12db-495b-a3d3-ed79a8a9a538",
   "metadata": {},
   "outputs": [
    {
     "name": "stdout",
     "output_type": "stream",
     "text": [
      "Name\n",
      "Emma       26.0\n",
      "John       26.0\n",
      "Michael    32.0\n",
      "Name: Age, dtype: float64\n"
     ]
    }
   ],
   "source": [
    "import pandas as pd\n",
    "\n",
    "# Create a DataFrame\n",
    "data = {'Name': ['John', 'Emma', 'Michael', 'Emma', 'John'],\n",
    "        'Age': [25, 28, 32, 24, 27],\n",
    "        'City': ['New York', 'London', 'Paris', 'London', 'New York']}\n",
    "df = pd.DataFrame(data)\n",
    "\n",
    "# Group data by 'Name' and calculate the mean age\n",
    "grouped_data = df.groupby('Name')['Age'].mean()\n",
    "print(grouped_data)\n"
   ]
  },
  {
   "cell_type": "code",
   "execution_count": 6,
   "id": "419f61ea-7f98-4ec7-85fa-0abf312dcf4d",
   "metadata": {},
   "outputs": [
    {
     "name": "stdout",
     "output_type": "stream",
     "text": [
      "    A   B   C\n",
      "1  10  40  70\n",
      "3  20  50  80\n",
      "5  30  60  90\n"
     ]
    }
   ],
   "source": [
    "#2.\n",
    "\n",
    "import pandas as pd\n",
    "\n",
    "def reindex_dataframe(df):\n",
    "    new_index = pd.Index(range(1, len(df) * 2, 2))  # Generate the new index\n",
    "    df = df.reset_index(drop=True)  # Reset the existing index\n",
    "    df = df.set_index(new_index)  # Set the new index\n",
    "    return df\n",
    "\n",
    "# Example usage:\n",
    "data = {'A': [10, 20, 30],\n",
    "        'B': [40, 50, 60],\n",
    "        'C': [70, 80, 90]}\n",
    "df = pd.DataFrame(data)\n",
    "\n",
    "# Reindex the DataFrame\n",
    "df_reindexed = reindex_dataframe(df)\n",
    "print(df_reindexed)\n"
   ]
  },
  {
   "cell_type": "code",
   "execution_count": 7,
   "id": "6a9ddf5e-ba1c-42b7-9839-2a6596787131",
   "metadata": {},
   "outputs": [
    {
     "name": "stdout",
     "output_type": "stream",
     "text": [
      "Sum of the first three values: 60\n"
     ]
    }
   ],
   "source": [
    "#3.\n",
    "\n",
    "import pandas as pd\n",
    "\n",
    "def calculate_sum(df):\n",
    "    values_sum = sum(df['Values'].head(3))\n",
    "    print(\"Sum of the first three values:\", values_sum)\n",
    "\n",
    "# Example usage:\n",
    "data = {'Values': [10, 20, 30, 40, 50]}\n",
    "df = pd.DataFrame(data)\n",
    "\n",
    "# Calculate and print the sum of the first three values\n",
    "calculate_sum(df)\n"
   ]
  },
  {
   "cell_type": "code",
   "execution_count": 8,
   "id": "e2449919-a7b4-49fb-b6dc-d74a1f92e1a4",
   "metadata": {},
   "outputs": [
    {
     "name": "stdout",
     "output_type": "stream",
     "text": [
      "                         Text  Word_Count\n",
      "0         Hello, how are you?           4\n",
      "1           I am doing great.           4\n",
      "2  Python programming is fun!           4\n"
     ]
    }
   ],
   "source": [
    "#4.\n",
    "import pandas as pd\n",
    "\n",
    "def add_word_count_column(df):\n",
    "    df['Word_Count'] = df['Text'].apply(lambda x: len(str(x).split()))\n",
    "    return df\n",
    "\n",
    "# Example usage:\n",
    "data = {'Text': ['Hello, how are you?', 'I am doing great.', 'Python programming is fun!']}\n",
    "df = pd.DataFrame(data)\n",
    "\n",
    "# Add the 'Word_Count' column to the DataFrame\n",
    "df_with_word_count = add_word_count_column(df)\n",
    "print(df_with_word_count)\n",
    "\n"
   ]
  },
  {
   "cell_type": "code",
   "execution_count": 9,
   "id": "57b0ec17-be6f-4d6e-a9f6-11c40ff97131",
   "metadata": {},
   "outputs": [
    {
     "name": "stdout",
     "output_type": "stream",
     "text": [
      "6\n"
     ]
    }
   ],
   "source": [
    "#5.\n",
    "\n",
    "import pandas as pd\n",
    "\n",
    "# Create a DataFrame\n",
    "data = {'A': [1, 2, 3],\n",
    "        'B': [4, 5, 6]}\n",
    "df = pd.DataFrame(data)\n",
    "\n",
    "# Get the size of the DataFrame\n",
    "size = df.size\n",
    "print(size)\n"
   ]
  },
  {
   "cell_type": "code",
   "execution_count": 10,
   "id": "39528f3c-1514-4b0b-a43e-0a3c2aefc5cb",
   "metadata": {},
   "outputs": [
    {
     "name": "stdout",
     "output_type": "stream",
     "text": [
      "(3, 2)\n"
     ]
    }
   ],
   "source": [
    "import pandas as pd\n",
    "\n",
    "# Create a DataFrame\n",
    "data = {'A': [1, 2, 3],\n",
    "        'B': [4, 5, 6]}\n",
    "df = pd.DataFrame(data)\n",
    "\n",
    "# Get the shape of the DataFrame\n",
    "shape = df.shape\n",
    "print(shape)\n"
   ]
  },
  {
   "cell_type": "code",
   "execution_count": 12,
   "id": "edefd92d-5a4e-4147-82b0-03d4ab821a03",
   "metadata": {},
   "outputs": [
    {
     "data": {
      "text/plain": [
       "'In this example, the DataFrame df has 3 rows and 2 columns. The df.shape attribute returns a tuple (3, 2) as the output, where the first value represents the number of rows and the second value represents the number of columns.\\n\\nIn summary, DataFrame.size provides the total number of elements in the DataFrame, while DataFrame.shape provides the dimensions (number of rows and columns) of the DataFrame as a tuple.'"
      ]
     },
     "execution_count": 12,
     "metadata": {},
     "output_type": "execute_result"
    }
   ],
   "source": [
    "'''In this example, the DataFrame df has 3 rows and 2 columns. The df.shape attribute returns a tuple (3, 2) as the output, where the first value represents the number of rows and the second value represents the number of columns.\n",
    "\n",
    "In summary, DataFrame.size provides the total number of elements in the DataFrame, while DataFrame.shape provides the dimensions (number of rows and columns) of the DataFrame as a tuple.'''"
   ]
  },
  {
   "cell_type": "code",
   "execution_count": 14,
   "id": "63f1fb7a-7a78-4ff7-87fd-19027de5f789",
   "metadata": {},
   "outputs": [
    {
     "name": "stdout",
     "output_type": "stream",
     "text": [
      "           Airline Date_of_Journey    Source Destination  \\\n",
      "0           IndiGo      24/03/2019  Banglore   New Delhi   \n",
      "1        Air India       1/05/2019   Kolkata    Banglore   \n",
      "2      Jet Airways       9/06/2019     Delhi      Cochin   \n",
      "3           IndiGo      12/05/2019   Kolkata    Banglore   \n",
      "4           IndiGo      01/03/2019  Banglore   New Delhi   \n",
      "...            ...             ...       ...         ...   \n",
      "10678     Air Asia       9/04/2019   Kolkata    Banglore   \n",
      "10679    Air India      27/04/2019   Kolkata    Banglore   \n",
      "10680  Jet Airways      27/04/2019  Banglore       Delhi   \n",
      "10681      Vistara      01/03/2019  Banglore   New Delhi   \n",
      "10682    Air India       9/05/2019     Delhi      Cochin   \n",
      "\n",
      "                       Route Dep_Time  Arrival_Time Duration Total_Stops  \\\n",
      "0                  BLR → DEL    22:20  01:10 22 Mar   2h 50m    non-stop   \n",
      "1      CCU → IXR → BBI → BLR    05:50         13:15   7h 25m     2 stops   \n",
      "2      DEL → LKO → BOM → COK    09:25  04:25 10 Jun      19h     2 stops   \n",
      "3            CCU → NAG → BLR    18:05         23:30   5h 25m      1 stop   \n",
      "4            BLR → NAG → DEL    16:50         21:35   4h 45m      1 stop   \n",
      "...                      ...      ...           ...      ...         ...   \n",
      "10678              CCU → BLR    19:55         22:25   2h 30m    non-stop   \n",
      "10679              CCU → BLR    20:45         23:20   2h 35m    non-stop   \n",
      "10680              BLR → DEL    08:20         11:20       3h    non-stop   \n",
      "10681              BLR → DEL    11:30         14:10   2h 40m    non-stop   \n",
      "10682  DEL → GOI → BOM → COK    10:55         19:15   8h 20m     2 stops   \n",
      "\n",
      "      Additional_Info  Price  \n",
      "0             No info   3897  \n",
      "1             No info   7662  \n",
      "2             No info  13882  \n",
      "3             No info   6218  \n",
      "4             No info  13302  \n",
      "...               ...    ...  \n",
      "10678         No info   4107  \n",
      "10679         No info   4145  \n",
      "10680         No info   7229  \n",
      "10681         No info  12648  \n",
      "10682         No info  11753  \n",
      "\n",
      "[10683 rows x 11 columns]\n"
     ]
    }
   ],
   "source": [
    "#6.\n",
    "\n",
    "import pandas as pd\n",
    "\n",
    "# Read an Excel file and create a DataFrame\n",
    "df = pd.read_excel('flight_price.xlsx')\n",
    "print(df)\n"
   ]
  },
  {
   "cell_type": "code",
   "execution_count": 15,
   "id": "aa503419-4cf4-48c1-8257-f837942c5040",
   "metadata": {},
   "outputs": [
    {
     "name": "stdout",
     "output_type": "stream",
     "text": [
      "                       Email       Username\n",
      "0       john.doe@example.com       john.doe\n",
      "1     emma.smith@example.com     emma.smith\n",
      "2  michael.brown@example.com  michael.brown\n"
     ]
    }
   ],
   "source": [
    "#7.\n",
    "\n",
    "import pandas as pd\n",
    "\n",
    "def extract_username(df):\n",
    "    df['Username'] = df['Email'].str.split('@').str.get(0)\n",
    "    return df\n",
    "\n",
    "# Example usage:\n",
    "data = {'Email': ['john.doe@example.com', 'emma.smith@example.com', 'michael.brown@example.com']}\n",
    "df = pd.DataFrame(data)\n",
    "\n",
    "# Extract the username and add the 'Username' column to the DataFrame\n",
    "df_with_username = extract_username(df)\n",
    "print(df_with_username)\n"
   ]
  },
  {
   "cell_type": "code",
   "execution_count": 17,
   "id": "e4e0ac36-ff6d-4abb-938b-05913435bb51",
   "metadata": {},
   "outputs": [
    {
     "name": "stdout",
     "output_type": "stream",
     "text": [
      "   A  B  C\n",
      "1  8  2  7\n",
      "2  6  9  4\n",
      "4  9  1  2\n"
     ]
    }
   ],
   "source": [
    "#8.\n",
    "\n",
    "\n",
    "import pandas as pd\n",
    "\n",
    "def select_rows(df):\n",
    "    selected_rows = df[(df['A'] > 5) & (df['B'] < 10)]\n",
    "    return selected_rows\n",
    "\n",
    "# Example usage:\n",
    "data = {'A': [3, 8, 6, 2, 9],\n",
    "        'B': [5, 2, 9, 3, 1],\n",
    "        'C': [1, 7, 4, 5, 2]}\n",
    "df = pd.DataFrame(data)\n",
    "\n",
    "# Select rows based on the conditions and create a new DataFrame\n",
    "selected_df = select_rows(df)\n",
    "print(selected_df)\n",
    "\n"
   ]
  },
  {
   "cell_type": "code",
   "execution_count": 18,
   "id": "c5819afe-18cf-4dd4-90df-9e970678c660",
   "metadata": {},
   "outputs": [
    {
     "name": "stdout",
     "output_type": "stream",
     "text": [
      "Mean: 30.0\n",
      "Median: 30.0\n",
      "Standard Deviation: 15.811388300841896\n"
     ]
    }
   ],
   "source": [
    "#9.\n",
    "\n",
    "import pandas as pd\n",
    "\n",
    "def calculate_statistics(df):\n",
    "    mean_value = df['Values'].mean()\n",
    "    median_value = df['Values'].median()\n",
    "    std_value = df['Values'].std()\n",
    "    return mean_value, median_value, std_value\n",
    "\n",
    "# Example usage:\n",
    "data = {'Values': [10, 20, 30, 40, 50]}\n",
    "df = pd.DataFrame(data)\n",
    "\n",
    "# Calculate the mean, median, and standard deviation\n",
    "mean, median, std = calculate_statistics(df)\n",
    "print(\"Mean:\", mean)\n",
    "print(\"Median:\", median)\n",
    "print(\"Standard Deviation:\", std)\n"
   ]
  },
  {
   "cell_type": "code",
   "execution_count": 19,
   "id": "0da2e882-8e67-461d-bf3b-1cd80f132da2",
   "metadata": {},
   "outputs": [
    {
     "name": "stdout",
     "output_type": "stream",
     "text": [
      "   Sales       Date  MovingAverage\n",
      "0     10 2022-01-01           10.0\n",
      "1     15 2022-01-02           12.5\n",
      "2     20 2022-01-03           15.0\n",
      "3     25 2022-01-04           17.5\n",
      "4     30 2022-01-05           20.0\n",
      "5     35 2022-01-06           22.5\n",
      "6     40 2022-01-07           25.0\n",
      "7     45 2022-01-08           30.0\n",
      "8     50 2022-01-09           35.0\n",
      "9     55 2022-01-10           40.0\n"
     ]
    }
   ],
   "source": [
    "#10.\n",
    "\n",
    "import pandas as pd\n",
    "\n",
    "def calculate_moving_average(df):\n",
    "    df['MovingAverage'] = df['Sales'].rolling(window=7, min_periods=1).mean()\n",
    "    return df\n",
    "\n",
    "# Example usage:\n",
    "data = {'Sales': [10, 15, 20, 25, 30, 35, 40, 45, 50, 55],\n",
    "        'Date': pd.date_range('2022-01-01', periods=10)}\n",
    "df = pd.DataFrame(data)\n",
    "\n",
    "# Calculate the moving average and add the 'MovingAverage' column to the DataFrame\n",
    "df_with_ma = calculate_moving_average(df)\n",
    "print(df_with_ma)\n"
   ]
  },
  {
   "cell_type": "code",
   "execution_count": 20,
   "id": "84872f6a-560a-4369-960d-38f991ab8472",
   "metadata": {},
   "outputs": [
    {
     "name": "stdout",
     "output_type": "stream",
     "text": [
      "        Date    Weekday\n",
      "0 2023-01-01     Sunday\n",
      "1 2023-01-02     Monday\n",
      "2 2023-01-03    Tuesday\n",
      "3 2023-01-04  Wednesday\n",
      "4 2023-01-05   Thursday\n"
     ]
    }
   ],
   "source": [
    "#11.\n",
    "\n",
    "import pandas as pd\n",
    "\n",
    "def add_weekday_column(df):\n",
    "    df['Weekday'] = df['Date'].dt.strftime('%A')\n",
    "    return df\n",
    "\n",
    "# Example usage:\n",
    "data = {'Date': ['2023-01-01', '2023-01-02', '2023-01-03', '2023-01-04', '2023-01-05']}\n",
    "df = pd.DataFrame(data)\n",
    "df['Date'] = pd.to_datetime(df['Date'])  # Convert 'Date' column to datetime format\n",
    "\n",
    "# Add the 'Weekday' column to the DataFrame\n",
    "df_with_weekday = add_weekday_column(df)\n",
    "print(df_with_weekday)\n"
   ]
  },
  {
   "cell_type": "code",
   "execution_count": 21,
   "id": "90a70f08-0537-4888-b64f-081d820e8d78",
   "metadata": {},
   "outputs": [
    {
     "name": "stdout",
     "output_type": "stream",
     "text": [
      "        Date\n",
      "0 2023-01-01\n",
      "1 2023-01-15\n",
      "2 2023-01-31\n"
     ]
    }
   ],
   "source": [
    "#12.\n",
    "\n",
    "import pandas as pd\n",
    "\n",
    "def select_rows_between_dates(df):\n",
    "    start_date = pd.to_datetime('2023-01-01')\n",
    "    end_date = pd.to_datetime('2023-01-31')\n",
    "    selected_rows = df[(df['Date'] >= start_date) & (df['Date'] <= end_date)]\n",
    "    return selected_rows\n",
    "\n",
    "# Example usage:\n",
    "data = {'Date': ['2023-01-01', '2023-01-15', '2023-01-31', '2023-02-15']}\n",
    "df = pd.DataFrame(data)\n",
    "df['Date'] = pd.to_datetime(df['Date'])  # Convert 'Date' column to datetime format\n",
    "\n",
    "# Select rows between '2023-01-01' and '2023-01-31'\n",
    "selected_df = select_rows_between_dates(df)\n",
    "print(selected_df)\n"
   ]
  },
  {
   "cell_type": "code",
   "execution_count": 25,
   "id": "4999196e-4221-4f78-b9c3-357e297a4ee3",
   "metadata": {},
   "outputs": [
    {
     "data": {
      "text/plain": [
       "'The first and foremost necessary library that needs to be imported to use the basic functions of pandas is the pandas library itself. You can import it using the import statement in Python:'"
      ]
     },
     "execution_count": 25,
     "metadata": {},
     "output_type": "execute_result"
    }
   ],
   "source": [
    "#13.\n",
    "\n",
    "'''The first and foremost necessary library that needs to be imported to use the basic functions of pandas is the pandas library itself. You can import it using the import statement in Python:'''"
   ]
  },
  {
   "cell_type": "code",
   "execution_count": 24,
   "id": "17a26ce6-15ad-441f-bce7-4c223f15fc6c",
   "metadata": {},
   "outputs": [],
   "source": [
    "import pandas as pd\n"
   ]
  },
  {
   "cell_type": "code",
   "execution_count": null,
   "id": "2116bfb3-0606-47b6-b542-d482152aac2a",
   "metadata": {},
   "outputs": [],
   "source": []
  }
 ],
 "metadata": {
  "kernelspec": {
   "display_name": "Python 3 (ipykernel)",
   "language": "python",
   "name": "python3"
  },
  "language_info": {
   "codemirror_mode": {
    "name": "ipython",
    "version": 3
   },
   "file_extension": ".py",
   "mimetype": "text/x-python",
   "name": "python",
   "nbconvert_exporter": "python",
   "pygments_lexer": "ipython3",
   "version": "3.10.8"
  }
 },
 "nbformat": 4,
 "nbformat_minor": 5
}
