{
 "cells": [
  {
   "cell_type": "code",
   "execution_count": 3,
   "id": "e356b2c1-ff0e-44f4-9b39-3aa89db3676b",
   "metadata": {},
   "outputs": [],
   "source": [
    "#1.\n",
    "from collections.abc import Iterable\n",
    "\n",
    "def product_of_numbers(lst):\n",
    "    flat_list = []\n",
    "    def flatten(lst):\n",
    "        for i in lst:\n",
    "            if isinstance(i, Iterable) and not isinstance(i, (str, bytes)):\n",
    "                flatten(i)\n",
    "            else:\n",
    "                flat_list.append(i)\n",
    "    flatten(lst)\n",
    "    \n",
    "    product = 1\n",
    "    for item in flat_list:\n",
    "        if type(item) in [int, float]:\n",
    "            product *= item\n",
    "        elif isinstance(item, dict):\n",
    "            for key, value in item.items():\n",
    "                if type(key) in [int, float]:\n",
    "                    product *= key\n",
    "                if type(value) in [int, float]:\n",
    "                    product *= value\n",
    "                elif isinstance(value, Iterable) and not isinstance(value, (str, bytes)):\n",
    "                    flatten(value)\n",
    "    return product\n"
   ]
  },
  {
   "cell_type": "code",
   "execution_count": 4,
   "id": "410d4c27-e349-4967-ac9f-4ea7c0751d65",
   "metadata": {},
   "outputs": [
    {
     "name": "stdout",
     "output_type": "stream",
     "text": [
      "2315262738624675840\n"
     ]
    }
   ],
   "source": [
    "list1 = [1,2,3,4, [44,55,66, True], False, (34,56,78,89,34), {1,2,3,3,2,1}, {1:34, \"key2\": [55, 67, 78, 89], 4: (45, 22, 61, 34)}, [56, 'data science'], 'Machine Learning']\n",
    "print(product_of_numbers(list1))\n"
   ]
  },
  {
   "cell_type": "code",
   "execution_count": 5,
   "id": "ad4f3bc7-3d0a-4f1b-93a1-34134d71ac97",
   "metadata": {},
   "outputs": [
    {
     "name": "stdout",
     "output_type": "stream",
     "text": [
      "Encrypted Message: r$dzmg$gl$yvxlnv$z$wzgz$hxrvmgrhg.\n"
     ]
    }
   ],
   "source": [
    "#2.\n",
    "def encrypt(message):\n",
    "    message = message.lower()\n",
    "    encryption_dict = {\n",
    "        'a': 'z', 'b': 'y', 'c': 'x', 'd': 'w', 'e': 'v',\n",
    "        'f': 'u', 'g': 't', 'h': 's', 'i': 'r', 'j': 'q',\n",
    "        'k': 'p', 'l': 'o', 'm': 'n', 'n': 'm', 'o': 'l',\n",
    "        'p': 'k', 'q': 'j', 'r': 'i', 's': 'h', 't': 'g',\n",
    "        'u': 'f', 'v': 'e', 'w': 'd', 'x': 'c', 'y': 'b',\n",
    "        'z': 'a', ' ': '$'\n",
    "    }\n",
    "    encrypted_message = \"\"\n",
    "    for char in message:\n",
    "        if char in encryption_dict:\n",
    "            encrypted_message += encryption_dict[char]\n",
    "        else:\n",
    "            encrypted_message += char\n",
    "    return encrypted_message\n",
    "\n",
    "message = \"I want to become a Data Scientist.\"\n",
    "encrypted_message = encrypt(message)\n",
    "print(\"Encrypted Message:\", encrypted_message)\n"
   ]
  },
  {
   "cell_type": "code",
   "execution_count": null,
   "id": "a165fa56-a724-41b2-b2c7-f0093afdccc8",
   "metadata": {},
   "outputs": [],
   "source": []
  }
 ],
 "metadata": {
  "kernelspec": {
   "display_name": "Python 3 (ipykernel)",
   "language": "python",
   "name": "python3"
  },
  "language_info": {
   "codemirror_mode": {
    "name": "ipython",
    "version": 3
   },
   "file_extension": ".py",
   "mimetype": "text/x-python",
   "name": "python",
   "nbconvert_exporter": "python",
   "pygments_lexer": "ipython3",
   "version": "3.10.8"
  }
 },
 "nbformat": 4,
 "nbformat_minor": 5
}
