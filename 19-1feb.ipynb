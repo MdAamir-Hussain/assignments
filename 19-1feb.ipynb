{
 "cells": [
  {
   "cell_type": "code",
   "execution_count": 4,
   "id": "ddac349e-80ff-41ee-8d94-dbd78d2d56d7",
   "metadata": {},
   "outputs": [
    {
     "data": {
      "text/plain": [
       "\"Flask is a micro web framework written in Python. It is designed to be lightweight and modular, making it easy to use and extend. Flask was created by Armin Ronacher in 2010 and has since become one of the most popular Python web frameworks.\\n\\nHere are some advantages of Flask:\\n\\nLightweight: Flask is a micro-framework, meaning it is minimalistic and has a small core. It does not require particular libraries or tools, which makes it easy to use and deploy.\\n\\nEasy to Use: Flask has a simple and intuitive API that makes it easy for developers to get started with. It also has a built-in development server and debugger, making it easy to test and debug applications.\\n\\nFlexible: Flask is highly customizable and allows developers to add or remove features as needed. This makes it easy to adapt to different use cases and project requirements.\\n\\nModular: Flask is designed to be modular, with many extensions and plugins available to add functionality as needed. This makes it easy to add features like authentication, database integration, and more.\\n\\nPythonic: Flask is written in Python and follows Python's design philosophy, making it easy for Python developers to understand and work with. This also means it integrates well with other Python libraries and tools.\\n\\nOverall, Flask is a powerful and flexible web framework that is easy to use and extend. Its lightweight and modular design make it ideal for a wide range of web applications.\""
      ]
     },
     "execution_count": 4,
     "metadata": {},
     "output_type": "execute_result"
    }
   ],
   "source": [
    "#1.\n",
    "'''Flask is a micro web framework written in Python. It is designed to be lightweight and modular, making it easy to use and extend. Flask was created by Armin Ronacher in 2010 and has since become one of the most popular Python web frameworks.\n",
    "\n",
    "Here are some advantages of Flask:\n",
    "\n",
    "Lightweight: Flask is a micro-framework, meaning it is minimalistic and has a small core. It does not require particular libraries or tools, which makes it easy to use and deploy.\n",
    "\n",
    "Easy to Use: Flask has a simple and intuitive API that makes it easy for developers to get started with. It also has a built-in development server and debugger, making it easy to test and debug applications.\n",
    "\n",
    "Flexible: Flask is highly customizable and allows developers to add or remove features as needed. This makes it easy to adapt to different use cases and project requirements.\n",
    "\n",
    "Modular: Flask is designed to be modular, with many extensions and plugins available to add functionality as needed. This makes it easy to add features like authentication, database integration, and more.\n",
    "\n",
    "Pythonic: Flask is written in Python and follows Python's design philosophy, making it easy for Python developers to understand and work with. This also means it integrates well with other Python libraries and tools.\n",
    "\n",
    "Overall, Flask is a powerful and flexible web framework that is easy to use and extend. Its lightweight and modular design make it ideal for a wide range of web applications.'''\n"
   ]
  },
  {
   "cell_type": "code",
   "execution_count": null,
   "id": "1dd7eb43-7bff-46c5-a074-40d802466bb8",
   "metadata": {},
   "outputs": [],
   "source": []
  },
  {
   "cell_type": "code",
   "execution_count": null,
   "id": "7d47f6e3-2e02-4fd3-9046-63a461895fcc",
   "metadata": {},
   "outputs": [],
   "source": [
    "#2.\n",
    "#A simple Flask application that displays \"Hello World!\":"
   ]
  },
  {
   "cell_type": "markdown",
   "id": "3dbe2efd-76a5-460f-b349-8be873ede123",
   "metadata": {},
   "source": [
    "<img src=\"flask.png\" />"
   ]
  },
  {
   "cell_type": "code",
   "execution_count": 3,
   "id": "39419667-3790-49fb-a74e-5f8155274d27",
   "metadata": {},
   "outputs": [
    {
     "data": {
      "text/plain": [
       "'In Flask, App routing refers to the process of mapping a URL endpoint to a Python function that handles the request and returns a response. Flask provides a decorator called @app.route() that we use to define the URL endpoint for a given function.\\nWe use app routes in Flask to define the different pages and functionality of our web application. By mapping URLs to specific functions, we can create a logical structure for our application and handle user requests in a meaningful way.\\n\\nApp routing also allows us to build dynamic web applications by including variables in the URL endpoint. For example, we could define an endpoint like @app.route(\"/users/<username>\") to handle requests for user-specific pages, where <username> is a variable that can be passed to the function as a parameter.\\n\\nOverall, app routing is a fundamental feature of Flask that allows us to create powerful and flexible web applications.'"
      ]
     },
     "execution_count": 3,
     "metadata": {},
     "output_type": "execute_result"
    }
   ],
   "source": [
    "#3.\n",
    "\n",
    "'''In Flask, App routing refers to the process of mapping a URL endpoint to a Python function that handles the request and returns a response. Flask provides a decorator called @app.route() that we use to define the URL endpoint for a given function.\n",
    "We use app routes in Flask to define the different pages and functionality of our web application. By mapping URLs to specific functions, we can create a logical structure for our application and handle user requests in a meaningful way.\n",
    "\n",
    "App routing also allows us to build dynamic web applications by including variables in the URL endpoint. For example, we could define an endpoint like @app.route(\"/users/<username>\") to handle requests for user-specific pages, where <username> is a variable that can be passed to the function as a parameter.\n",
    "\n",
    "Overall, app routing is a fundamental feature of Flask that allows us to create powerful and flexible web applications.'''"
   ]
  },
  {
   "cell_type": "code",
   "execution_count": null,
   "id": "88c6784c-6374-436f-b2b2-5d37a03c4f88",
   "metadata": {},
   "outputs": [],
   "source": [
    "#4."
   ]
  },
  {
   "cell_type": "markdown",
   "id": "80831a76-5b3f-4de0-ae33-c15561c679dd",
   "metadata": {},
   "source": [
    "<img src=\"s19-3.png\" />"
   ]
  },
  {
   "cell_type": "code",
   "execution_count": null,
   "id": "43551c42-135a-45f6-8b6f-8ba131d710ec",
   "metadata": {},
   "outputs": [],
   "source": [
    "#5.\n",
    "\n",
    "'''In Flask, the url_for() function is used for URL building. This function takes the name of a view function (i.e., the name of a function decorated with @app.route()) and any arguments that the function expects, and returns a URL that corresponds to that view.\n",
    "\n",
    "from flask import Flask, url_for\n",
    "\n",
    "app = Flask(__name__)\n",
    "\n",
    "@app.route(\"/\")\n",
    "def home():\n",
    "    return \"This is the home page.\"\n",
    "\n",
    "@app.route(\"/about\")\n",
    "def about():\n",
    "    return \"This is the about page.\"\n",
    "\n",
    "@app.route(\"/contact\")\n",
    "def contact():\n",
    "    return \"This is the contact page.\"\n",
    "\n",
    "if __name__ == \"__main__\":\n",
    "    with app.test_request_context():\n",
    "        print(url_for(\"home\"))       # Output: /\n",
    "        print(url_for(\"about\"))      # Output: /about\n",
    "        print(url_for(\"contact\"))    # Output: /contact\n",
    "'''\n"
   ]
  },
  {
   "cell_type": "code",
   "execution_count": null,
   "id": "88c0c3c3-9248-4998-9b90-1eb516f0d1a2",
   "metadata": {},
   "outputs": [],
   "source": []
  }
 ],
 "metadata": {
  "kernelspec": {
   "display_name": "Python 3 (ipykernel)",
   "language": "python",
   "name": "python3"
  },
  "language_info": {
   "codemirror_mode": {
    "name": "ipython",
    "version": 3
   },
   "file_extension": ".py",
   "mimetype": "text/x-python",
   "name": "python",
   "nbconvert_exporter": "python",
   "pygments_lexer": "ipython3",
   "version": "3.10.8"
  }
 },
 "nbformat": 4,
 "nbformat_minor": 5
}
