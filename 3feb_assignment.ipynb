{
 "cells": [
  {
   "cell_type": "code",
   "execution_count": null,
   "id": "a0910ab5-c18c-4a19-a576-bb8601ad52e0",
   "metadata": {},
   "outputs": [],
   "source": [
    "1.The def keyword is used to create a function in Python. Here's a Python function that returns a list of odd numbers in the range of 1 to 25:\n",
    "def odd_numbers():\n",
    "    odd_nums = []\n",
    "    for num in range(1, 26):\n",
    "        if num % 2 != 0:\n",
    "            odd_nums.append(num)\n",
    "    return odd_nums\n",
    "\n",
    "print(odd_numbers())\n"
   ]
  },
  {
   "cell_type": "code",
   "execution_count": null,
   "id": "b9814dcd-05e2-4105-9b7a-88c951cb6eb2",
   "metadata": {},
   "outputs": [],
   "source": [
    "2.The *args and **kwargs syntax in Python functions is used to pass a variable number of arguments to the function.\n",
    "*args allows you to pass a variable number of non-keyworded arguments to the function, and **kwargs allows you to pass \n",
    "a variable number of keyworded arguments.\n",
    "\n",
    "Here's a Python function that demonstrates the use of *args:\n",
    "def sum_numbers(*args):\n",
    "    result = 0\n",
    "    for num in args:\n",
    "        result += num\n",
    "    return result\n",
    "\n",
    "print(sum_numbers(1, 2, 3, 4, 5))\n",
    "\n",
    "And here's a Python function that demonstrates the use of **kwargs:\n",
    "def print_keyword_args(**kwargs):\n",
    "    for key, value in kwargs.items():\n",
    "        print(f\"{key}: {value}\")\n",
    "\n",
    "print_keyword_args(name=\"John\", age=30, job=\"Data Scientist\")\n"
   ]
  },
  {
   "cell_type": "markdown",
   "id": "6397b86a-a9bd-4920-831a-f3be4cc2a3eb",
   "metadata": {},
   "source": [
    "3.An iterator in Python is an object that can be iterated (looped) upon. \n",
    "It implements two methods, __iter__() and __next__(), to allow iteration. \n",
    "The __iter__() method initializes the iterator, and the __next__() method returns the next value in the iteration sequence.\n",
    "\n",
    "numbers = [2, 4, 6, 8, 10, 12, 14, 16, 18, 20]\n",
    "\n",
    "# Initializing the iterator\n",
    "numbers_iterator = iter(numbers)\n",
    "\n",
    "# Iteration\n",
    "for i in range(5):\n",
    "    print(next(numbers_iterator))\n",
    "\n"
   ]
  },
  {
   "cell_type": "markdown",
   "id": "4c2f7a5f-698c-48fd-9d60-097b2a8c953a",
   "metadata": {},
   "source": [
    "4.A generator function in Python is a function that returns a generator iterator. It's defined like a normal function, but instead of using return, it uses the yield keyword. The yield keyword is used to return a value, but unlike the return statement, it retains the state of the function and can be resumed later on.\n",
    "\n",
    "The generator function can be used to generate a sequence of values, rather than returning a single value. This can be useful when you want to generate a large sequence of values, but don't want to store them all in memory.\n",
    "\n",
    "Here's an example of a generator function in Python that generates the Fibonacci sequence:\n",
    "\n",
    "def fibonacci(n):\n",
    "    a, b = 0, 1\n",
    "    for i in range(n):\n",
    "        yield a\n",
    "        a, b = b, a + b\n",
    "\n",
    "# Using the generator function\n",
    "fib = fibonacci(10)\n",
    "for i in fib:\n",
    "    print(i)\n"
   ]
  },
  {
   "cell_type": "markdown",
   "id": "4edb0df9-7bd0-4f34-8746-5dc9510b8149",
   "metadata": {},
   "source": [
    "5.def prime_numbers(limit):\n",
    "    for num in range(2, limit):\n",
    "        for i in range(2, num):\n",
    "            if (num % i) == 0:\n",
    "                break\n",
    "        else:\n",
    "            yield num\n",
    "\n",
    "# Using the generator function\n",
    "primes = prime_numbers(1000)\n",
    "\n",
    "# Printing the first 20 prime numbers\n",
    "for i in range(20):\n",
    "    print(next(primes))\n"
   ]
  },
  {
   "cell_type": "code",
   "execution_count": null,
   "id": "908286e0-1055-4274-b8ce-f9d09f7c3e85",
   "metadata": {},
   "outputs": [],
   "source": [
    "6.def fibonacci(n):\n",
    "    a, b = 0, 1\n",
    "    while n > 0:\n",
    "        print(a)\n",
    "        a, b = b, a + b\n",
    "        n -= 1\n",
    "\n",
    "fibonacci(10)\n"
   ]
  },
  {
   "cell_type": "code",
   "execution_count": null,
   "id": "9d4b1303-a0e2-4506-a4f8-91c9f9f332e3",
   "metadata": {},
   "outputs": [],
   "source": [
    "7.list comprehension in Python that iterates through the given string 'pwskills' and returns a list of individual characters:\n",
    "\n",
    "string = 'pwskills'\n",
    "characters = [char for char in string]\n",
    "print(characters)\n"
   ]
  },
  {
   "cell_type": "code",
   "execution_count": null,
   "id": "c0a4d9dd-cff0-4a57-9a5e-4b16f8baf18c",
   "metadata": {},
   "outputs": [],
   "source": [
    "8.Num = int(input(\"Enter a value:\"))  \n",
    "Temp = num  \n",
    "Rev = 0  \n",
    "while(num > 0):  \n",
    "    dig = num % 10  \n",
    "    revrev = rev * 10 + dig  \n",
    "    numnum = num // 10  \n",
    "if(temp == rev):  \n",
    "    print(\"This value is a palindrome number!\")  \n",
    "else:  \n",
    "    print(\"This value is not a palindrome number!\")  "
   ]
  },
  {
   "cell_type": "code",
   "execution_count": null,
   "id": "b1982726-711b-4f73-97f9-9f46a194ddc0",
   "metadata": {},
   "outputs": [],
   "source": [
    "9.\n",
    "numbers = [num for num in range(1, 101)]\n",
    "odd_numbers = [num for num in numbers if num % 2 != 0]\n",
    "print(odd_numbers)\n"
   ]
  }
 ],
 "metadata": {
  "kernelspec": {
   "display_name": "Python 3 (ipykernel)",
   "language": "python",
   "name": "python3"
  },
  "language_info": {
   "codemirror_mode": {
    "name": "ipython",
    "version": 3
   },
   "file_extension": ".py",
   "mimetype": "text/x-python",
   "name": "python",
   "nbconvert_exporter": "python",
   "pygments_lexer": "ipython3",
   "version": "3.10.8"
  }
 },
 "nbformat": 4,
 "nbformat_minor": 5
}
