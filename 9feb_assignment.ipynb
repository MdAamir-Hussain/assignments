{
 "cells": [
  {
   "cell_type": "code",
   "execution_count": 2,
   "id": "d691dc65-2281-4e6f-b1e5-f254174ebdb8",
   "metadata": {},
   "outputs": [],
   "source": [
    "#1.\n",
    "# implementation of a vehicle class in Python that takes the parameters name_of_vehicle, max_speed, and average_of_vehicle in the constructor (__init__ method):\n",
    "class Vehicle:\n",
    "    def __init__(self, name_of_vehicle, max_speed, average_of_vehicle):\n",
    "        self.name_of_vehicle = name_of_vehicle\n",
    "        self.max_speed = max_speed\n",
    "        self.average_of_vehicle = average_of_vehicle\n"
   ]
  },
  {
   "cell_type": "code",
   "execution_count": 3,
   "id": "bc5197b7-23fb-442d-bf80-d603257e7dc6",
   "metadata": {},
   "outputs": [],
   "source": [
    "#2.\n",
    "class Car(Vehicle):\n",
    "    def seating_capacity(self, capacity):\n",
    "        return f\"The {self.name_of_vehicle} has a seating capacity of {capacity}.\"\n"
   ]
  },
  {
   "cell_type": "code",
   "execution_count": 4,
   "id": "e5e713b5-230c-420e-996c-3e0c85875c9e",
   "metadata": {},
   "outputs": [],
   "source": [
    "#3.\n",
    "'''Multiple inheritance is a feature in object-oriented programming languages where a single class can inherit properties and attributes from multiple parent classes. This means that the child class can inherit attributes and methods from multiple parent classes, rather than just a single parent class.\n",
    "\n",
    "Here's an example of multiple inheritance in Python:'''\n",
    "class Parent1:\n",
    "    def method1(self):\n",
    "        print(\"Method 1 of Parent 1\")\n",
    "\n",
    "class Parent2:\n",
    "    def method2(self):\n",
    "        print(\"Method 2 of Parent 2\")\n",
    "\n",
    "class Child(Parent1, Parent2):\n",
    "    def method3(self):\n",
    "        print(\"Method 3 of Child\")\n"
   ]
  },
  {
   "cell_type": "code",
   "execution_count": 5,
   "id": "53159e5e-d472-43cf-84e0-850142034efc",
   "metadata": {},
   "outputs": [],
   "source": [
    "#4.\n",
    "'''In Python, getters and setters are methods that are used to retrieve or set the value of an instance variable, respectively. They are used to provide controlled access to the instance variables, allowing you to set constraints on the values that can be assigned to an instance variable.\n",
    "\n",
    "Here's an example of a class with a getter and setter method:'''\n",
    "class Person:\n",
    "    def __init__(self, name):\n",
    "        self._name = name\n",
    "\n",
    "    def get_name(self):\n",
    "        return self._name\n",
    "\n",
    "    def set_name(self, name):\n",
    "        if isinstance(name, str):\n",
    "            self._name = name\n",
    "        else:\n",
    "            raise TypeError(\"Name must be a string\")\n"
   ]
  },
  {
   "cell_type": "code",
   "execution_count": 6,
   "id": "2748d5ff-8d2c-4f6d-bd53-767715887bd6",
   "metadata": {},
   "outputs": [
    {
     "name": "stdout",
     "output_type": "stream",
     "text": [
      "Bark\n"
     ]
    }
   ],
   "source": [
    "#5.\n",
    "'''Method overriding is a feature in object-oriented programming languages that allows a child class to provide a new implementation of a method that is already defined in its parent class. The child class \"overrides\" the method in the parent class, and the new implementation is used when the method is called on an instance of the child class.\n",
    "\n",
    "Here's an example of method overriding in Python:'''\n",
    "class Animal:\n",
    "    def make_sound(self):\n",
    "        print(\"Animal Sound\")\n",
    "\n",
    "class Dog(Animal):\n",
    "    def make_sound(self):\n",
    "        print(\"Bark\")\n",
    "\n",
    "dog = Dog()\n",
    "dog.make_sound()\n"
   ]
  },
  {
   "cell_type": "code",
   "execution_count": null,
   "id": "f65b51dd-f0e7-4e48-823c-7b8107e155bf",
   "metadata": {},
   "outputs": [],
   "source": []
  }
 ],
 "metadata": {
  "kernelspec": {
   "display_name": "Python 3 (ipykernel)",
   "language": "python",
   "name": "python3"
  },
  "language_info": {
   "codemirror_mode": {
    "name": "ipython",
    "version": 3
   },
   "file_extension": ".py",
   "mimetype": "text/x-python",
   "name": "python",
   "nbconvert_exporter": "python",
   "pygments_lexer": "ipython3",
   "version": "3.10.8"
  }
 },
 "nbformat": 4,
 "nbformat_minor": 5
}
