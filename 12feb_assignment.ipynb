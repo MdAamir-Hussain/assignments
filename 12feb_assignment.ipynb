{
 "cells": [
  {
   "cell_type": "code",
   "execution_count": null,
   "id": "e4b4a62d-a3d3-4afa-82c3-54f1c7763848",
   "metadata": {},
   "outputs": [],
   "source": [
    "#1.\n",
    "'''An Exception in Python is an event that occurs during the execution of a program that disrupts the normal flow of instructions. It indicates that something went wrong and can be handled using a try-except block. Exceptions are used to alert the programmer to a problem that needs to be resolved, such as a missing file, a division by zero, or invalid user input.\n",
    "\n",
    "The difference between exceptions and syntax errors is that syntax errors occur when the Python interpreter encounters a line of code that it doesn't understand because it doesn't conform to the rules of the Python language. Syntax errors prevent a program from running and usually occur because of a typo or a missing colon, for example.\n",
    "\n",
    "On the other hand, exceptions are raised during the execution of a program and are a result of a runtime error. Unlike syntax errors, exceptions can be handled by the program and do not prevent the program from running.\n",
    "\n",
    "For example, consider the following code:'''"
   ]
  },
  {
   "cell_type": "code",
   "execution_count": null,
   "id": "337f4aa9-9975-4f47-b283-fbf1b89adaf6",
   "metadata": {},
   "outputs": [],
   "source": [
    "#2.\n",
    "'''When an exception is not handled in Python, it causes the program to terminate abnormally and raise an error message. This error message contains information about the type of the exception and the traceback of the error, which helps in identifying the cause of the exception.\n",
    "\n",
    "For example, let's say you have a code that divides two numbers, but you do not handle the ZeroDivisionError exception, which occurs when you try to divide by zero.'''\n",
    "a = 10\n",
    "b = 0\n",
    "c = a / b\n",
    "print(c)\n",
    "#When you run this code, you get the following error:"
   ]
  },
  {
   "cell_type": "code",
   "execution_count": null,
   "id": "3535b784-7a6d-45e1-b3fd-75a14f60f2c9",
   "metadata": {},
   "outputs": [],
   "source": [
    "#3.\n",
    "'''The try and except statements in Python are used to catch and handle exceptions. The try statement is used to define a block of code that might raise an exception, while the except statement is used to handle the exception if it occurs.\n",
    "\n",
    "Here is an example:'''\n",
    "try:\n",
    "    a = 10\n",
    "    b = 0\n",
    "    c = a / b\n",
    "    print(c)\n",
    "except ZeroDivisionError:\n",
    "    print(\"Error: Division by zero\")\n",
    "\n",
    "'''In this example, the try block contains the code that might raise an exception. The except block is used to handle the exception if it occurs. In this case, the exception being handled is ZeroDivisionError, which is raised when you try to divide by zero. If this exception occurs, the code inside the except block will be executed, and the error message \"Error: Division by zero\" will be displayed.\n",
    "\n",
    "It is possible to have multiple except blocks for different exceptions in a single try statement. This allows you to handle different exceptions in different ways, depending on the type of exception that is raised.'''\n"
   ]
  },
  {
   "cell_type": "code",
   "execution_count": null,
   "id": "ee9b5d8f-050c-403b-aa79-291db5eb4cbb",
   "metadata": {},
   "outputs": [],
   "source": [
    "#4.\n",
    "'''The try and except statements in Python are used to catch and handle exceptions. They allow you to handle errors and exceptions that occur during the execution of a program. The basic structure of the try and except statement is as follows:'''\n",
    "try:\n",
    "   a = int(input(\"Enter a number: \"))\n",
    "   b = int(input(\"Enter another number: \"))\n",
    "   c = a/b\n",
    "   print(\"The result is: \", c)\n",
    "except ZeroDivisionError:\n",
    "   print(\"The second number cannot be zero.\")\n"
   ]
  },
  {
   "cell_type": "code",
   "execution_count": null,
   "id": "5f6f44f7-551d-46d0-a3db-84daab7de15e",
   "metadata": {},
   "outputs": [],
   "source": [
    "'''The else statement in Python can be used along with the try and except statement. The code block inside the else statement is executed only if there are no exceptions raised in the try block.\n",
    "\n",
    "An example to demonstrate the try, except and else statement:'''\n",
    "try:\n",
    "   a = int(input(\"Enter a number: \"))\n",
    "   b = int(input(\"Enter another number: \"))\n",
    "   c = a/b\n",
    "   print(\"The result is: \", c)\n",
    "except ZeroDivisionError:\n",
    "   print(\"The second number cannot be zero.\")\n",
    "else:\n",
    "   print(\"No exceptions were raised.\")\n"
   ]
  },
  {
   "cell_type": "code",
   "execution_count": null,
   "id": "817155f2-f792-4fc0-898b-349a79b5524e",
   "metadata": {},
   "outputs": [],
   "source": [
    "'''The finally statement in Python can be used along with the try and except statement. The code block inside the finally statement is always executed, regardless of whether an exception was raised or not.\n",
    "\n",
    "An example to demonstrate the try, except and finally statement:'''\n",
    "try:\n",
    "   a = int(input(\"Enter a number: \"))\n",
    "   b = int(input(\"Enter another number: \"))\n",
    "   c = a/b\n",
    "   print(\"The result is: \", c)\n",
    "except ZeroDivisionError:\n",
    "   print(\"The second number cannot be zero.\")\n",
    "finally:\n",
    "   print(\"This code will always be executed.\")\n"
   ]
  },
  {
   "cell_type": "code",
   "execution_count": null,
   "id": "b9aa4a7e-d1f6-4e28-ab54-eb0ab3d84e27",
   "metadata": {},
   "outputs": [],
   "source": [
    "'''The raise statement in Python is used to raise an exception. You can raise an exception with the raise statement and provide an optional error message.\n",
    "\n",
    "An example to demonstrate the raise statement:'''\n",
    "def check_age(age):\n",
    "   if age < 18:\n",
    "      raise ValueError(\"Age must be 18 or above.\")\n",
    "\n",
    "try:\n",
    "   age = int(input(\"Enter your age: \"))\n",
    "   check_age(age)\n",
    "except ValueError as error:\n",
    "   print(error)\n"
   ]
  },
  {
   "cell_type": "code",
   "execution_count": null,
   "id": "0f08e025-7f1e-46db-8394-a643b7a866e0",
   "metadata": {},
   "outputs": [],
   "source": [
    "#5.\n",
    "'''Custom exceptions in Python are user-defined exceptions. They are created by inheriting the built-in Exception class or any of its subclasses. Custom exceptions are used when we want to raise exceptions that are specific to the application or a module.\n",
    "\n",
    "For example, if we are developing a library for a bank, we can raise a custom exception when the account balance is insufficient to withdraw the amount.\n",
    "\n",
    "Here's an example of a custom exception in Python:'''\n",
    "class InsufficientBalance(Exception):\n",
    "    pass\n",
    "\n",
    "class BankAccount:\n",
    "    def __init__(self, balance):\n",
    "        self.balance = balance\n",
    "    \n",
    "    def withdraw(self, amount):\n",
    "        if self.balance < amount:\n",
    "            raise InsufficientBalance(\"Insufficient balance in the account\")\n",
    "        self.balance -= amount\n",
    "        return self.balance\n"
   ]
  },
  {
   "cell_type": "code",
   "execution_count": null,
   "id": "350d1ff5-abf4-46a5-b96a-a1f035e10fb4",
   "metadata": {},
   "outputs": [],
   "source": [
    "#6.\n",
    "#Here's an example of creating a custom exception class in Python:\n",
    "class CustomException(Exception):\n",
    "    def __init__(self, message):\n",
    "        self.message = message\n",
    "\n",
    "try:\n",
    "    raise CustomException(\"This is a custom exception\")\n",
    "except CustomException as error:\n",
    "    print(\"Caught the custom exception:\", error)\n"
   ]
  }
 ],
 "metadata": {
  "kernelspec": {
   "display_name": "Python 3 (ipykernel)",
   "language": "python",
   "name": "python3"
  },
  "language_info": {
   "codemirror_mode": {
    "name": "ipython",
    "version": 3
   },
   "file_extension": ".py",
   "mimetype": "text/x-python",
   "name": "python",
   "nbconvert_exporter": "python",
   "pygments_lexer": "ipython3",
   "version": "3.10.8"
  }
 },
 "nbformat": 4,
 "nbformat_minor": 5
}
