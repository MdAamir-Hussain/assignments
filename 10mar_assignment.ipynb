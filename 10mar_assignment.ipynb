{
 "cells": [
  {
   "cell_type": "code",
   "execution_count": 1,
   "id": "6a8e9c83-1466-4cea-b16c-b838fdb1e7d6",
   "metadata": {},
   "outputs": [
    {
     "data": {
      "text/plain": [
       "'Estimation statistics is a branch of statistics that deals with estimating the characteristics of a population based on a sample of data. This is important when it is not feasible to measure the entire population, or when it is too expensive or time-consuming to collect data from every individual in the population.\\n\\nThere are two types of estimation in statistics: point estimate and interval estimate.\\n\\nPoint estimate: A point estimate is a single value that is used to approximate the value of a population parameter. For example, the sample mean is often used as a point estimate of the population mean. Point estimates can be obtained by using a variety of methods, such as maximum likelihood estimation or method of moments estimation.\\n\\nInterval estimate: An interval estimate provides a range of values within which the population parameter is likely to fall. For example, a confidence interval is an interval estimate that provides a range of values within which the true population parameter is expected to lie with a certain level of confidence. Interval estimates are often more informative than point estimates because they provide information about the precision of the estimate.'"
      ]
     },
     "execution_count": 1,
     "metadata": {},
     "output_type": "execute_result"
    }
   ],
   "source": [
    "#1.\n",
    "'''Estimation statistics is a branch of statistics that deals with estimating the characteristics of a population based on a sample of data. This is important when it is not feasible to measure the entire population, or when it is too expensive or time-consuming to collect data from every individual in the population.\n",
    "\n",
    "There are two types of estimation in statistics: point estimate and interval estimate.\n",
    "\n",
    "Point estimate: A point estimate is a single value that is used to approximate the value of a population parameter. For example, the sample mean is often used as a point estimate of the population mean. Point estimates can be obtained by using a variety of methods, such as maximum likelihood estimation or method of moments estimation.\n",
    "\n",
    "Interval estimate: An interval estimate provides a range of values within which the population parameter is likely to fall. For example, a confidence interval is an interval estimate that provides a range of values within which the true population parameter is expected to lie with a certain level of confidence. Interval estimates are often more informative than point estimates because they provide information about the precision of the estimate.'''"
   ]
  },
  {
   "cell_type": "code",
   "execution_count": 2,
   "id": "82390c8e-b42e-4e30-960e-2e40d66f5684",
   "metadata": {},
   "outputs": [],
   "source": [
    "#2.\n",
    "import math\n",
    "\n",
    "def estimate_population_mean(sample_mean, sample_std_dev, sample_size):\n",
    "    \"\"\"\n",
    "    Estimates the population mean using a sample mean, sample standard deviation, and sample size.\n",
    "    \"\"\"\n",
    "    standard_error = sample_std_dev / math.sqrt(sample_size)\n",
    "    margin_of_error = 1.96 * standard_error # assuming 95% confidence level\n",
    "    lower_bound = sample_mean - margin_of_error\n",
    "    upper_bound = sample_mean + margin_of_error\n",
    "    \n",
    "    return (lower_bound, upper_bound)\n"
   ]
  },
  {
   "cell_type": "code",
   "execution_count": 3,
   "id": "ec37aa06-486a-439f-b61e-a0ced9ced12d",
   "metadata": {},
   "outputs": [
    {
     "data": {
      "text/plain": [
       "'The function calculates the standard error of the sample mean using the formula sample_std_dev / sqrt(sample_size), where sqrt is the square root function from the math module. It then calculates the margin of error using the z-score associated with a 95% confidence level, which is 1.96. Finally, the function calculates the lower and upper bounds of the estimated population mean by subtracting and adding the margin of error to the sample mean, respectively.'"
      ]
     },
     "execution_count": 3,
     "metadata": {},
     "output_type": "execute_result"
    }
   ],
   "source": [
    "'''The function calculates the standard error of the sample mean using the formula sample_std_dev / sqrt(sample_size), where sqrt is the square root function from the math module. It then calculates the margin of error using the z-score associated with a 95% confidence level, which is 1.96. Finally, the function calculates the lower and upper bounds of the estimated population mean by subtracting and adding the margin of error to the sample mean, respectively.'''"
   ]
  },
  {
   "cell_type": "code",
   "execution_count": 4,
   "id": "286a01c4-17b6-45d3-8cb5-37f273c5ae0d",
   "metadata": {},
   "outputs": [
    {
     "data": {
      "text/plain": [
       "'Hypothesis testing is a statistical method used to make inferences about a population based on a sample of data. It involves testing a hypothesis by comparing the observed data to what would be expected if the hypothesis were true. The hypothesis being tested is often called the null hypothesis, denoted by H0.\\n\\nThe goal of hypothesis testing is to determine whether there is enough evidence to reject the null hypothesis in favor of an alternative hypothesis, denoted by Ha. The alternative hypothesis is typically what the researcher wants to show, such as a difference between two groups or a relationship between variables.\\n\\nHypothesis testing is important because it allows researchers to make objective conclusions about a population based on a sample of data. It provides a systematic way to test whether the observed data is consistent with what would be expected under the null hypothesis, which helps to avoid errors in judgment or biased conclusions.\\n\\nHypothesis testing involves several steps, including:\\n\\nStating the null hypothesis and the alternative hypothesis.\\nChoosing a level of significance, denoted by α, which determines the probability of rejecting the null hypothesis when it is actually true.\\nCollecting and analyzing data to calculate a test statistic.\\nComparing the test statistic to a critical value or p-value to determine whether to reject or fail to reject the null hypothesis.\\nDrawing conclusions based on the results of the hypothesis test.'"
      ]
     },
     "execution_count": 4,
     "metadata": {},
     "output_type": "execute_result"
    }
   ],
   "source": [
    "#3.\n",
    "'''Hypothesis testing is a statistical method used to make inferences about a population based on a sample of data. It involves testing a hypothesis by comparing the observed data to what would be expected if the hypothesis were true. The hypothesis being tested is often called the null hypothesis, denoted by H0.\n",
    "\n",
    "The goal of hypothesis testing is to determine whether there is enough evidence to reject the null hypothesis in favor of an alternative hypothesis, denoted by Ha. The alternative hypothesis is typically what the researcher wants to show, such as a difference between two groups or a relationship between variables.\n",
    "\n",
    "Hypothesis testing is important because it allows researchers to make objective conclusions about a population based on a sample of data. It provides a systematic way to test whether the observed data is consistent with what would be expected under the null hypothesis, which helps to avoid errors in judgment or biased conclusions.\n",
    "\n",
    "Hypothesis testing involves several steps, including:\n",
    "\n",
    "Stating the null hypothesis and the alternative hypothesis.\n",
    "Choosing a level of significance, denoted by α, which determines the probability of rejecting the null hypothesis when it is actually true.\n",
    "Collecting and analyzing data to calculate a test statistic.\n",
    "Comparing the test statistic to a critical value or p-value to determine whether to reject or fail to reject the null hypothesis.\n",
    "Drawing conclusions based on the results of the hypothesis test.'''"
   ]
  },
  {
   "cell_type": "code",
   "execution_count": 5,
   "id": "cdffa7ec-747e-4a17-8ff0-235576f3e21e",
   "metadata": {},
   "outputs": [
    {
     "data": {
      "text/plain": [
       "'H0: The average weight of male college students is equal to or less than the average weight of female college students.\\nHa: The average weight of male college students is greater than the average weight of female college students.\\n\\nNote: H0 always contains the \"equality\" sign and is the hypothesis we want to test, while Ha is the alternative hypothesis that we want to support if we reject H0 based on the evidence from the sample.\\n\\nThis hypothesis can be tested using a one-tailed t-test or z-test, depending on the sample size and the characteristics of the population. We would collect data on the weights of male and female college students, calculate the mean weight for each group, and compare them using a statistical test. If the test produces a p-value less than our chosen level of significance (usually 0.05), we can reject the null hypothesis in favor of the alternative hypothesis and conclude that the average weight of male college students is indeed greater than the average weight of female college students.'"
      ]
     },
     "execution_count": 5,
     "metadata": {},
     "output_type": "execute_result"
    }
   ],
   "source": [
    "#4.\n",
    "'''H0: The average weight of male college students is equal to or less than the average weight of female college students.\n",
    "Ha: The average weight of male college students is greater than the average weight of female college students.\n",
    "\n",
    "Note: H0 always contains the \"equality\" sign and is the hypothesis we want to test, while Ha is the alternative hypothesis that we want to support if we reject H0 based on the evidence from the sample.\n",
    "\n",
    "This hypothesis can be tested using a one-tailed t-test or z-test, depending on the sample size and the characteristics of the population. We would collect data on the weights of male and female college students, calculate the mean weight for each group, and compare them using a statistical test. If the test produces a p-value less than our chosen level of significance (usually 0.05), we can reject the null hypothesis in favor of the alternative hypothesis and conclude that the average weight of male college students is indeed greater than the average weight of female college students.'''"
   ]
  },
  {
   "cell_type": "code",
   "execution_count": 7,
   "id": "4610445f-5b67-4de3-b91a-f82478e8a566",
   "metadata": {},
   "outputs": [],
   "source": [
    "#5.\n",
    "import numpy as np\n",
    "from scipy.stats import t\n",
    "\n",
    "def two_sample_t_test(sample1, sample2, alpha, alternative):\n",
    "    \"\"\"\n",
    "    Conducts a two-sample t-test on the difference between two population means, given a sample from each population.\n",
    "    sample1: a numpy array containing the first sample\n",
    "    sample2: a numpy array containing the second sample\n",
    "    alpha: the level of significance (e.g., 0.05)\n",
    "    alternative: the alternative hypothesis, which can be either 'two-sided', 'greater', or 'less'\n",
    "    \"\"\"\n",
    "    n1, n2 = len(sample1), len(sample2)\n",
    "    mean1, mean2 = np.mean(sample1), np.mean(sample2)\n",
    "    var1, var2 = np.var(sample1, ddof=1), np.var(sample2, ddof=1)\n",
    "    pooled_std_error = np.sqrt(var1/n1 + var2/n2)\n",
    "    df = n1 + n2 - 2\n",
    "    t_statistic = (mean1 - mean2) / pooled_std_error\n",
    "    p_value = None\n",
    "    \n",
    "    if alternative == 'two-sided':\n",
    "        p_value = 2 * t.sf(abs(t_statistic), df)\n",
    "    elif alternative == 'greater':\n",
    "        p_value = t.sf(t_statistic, df)\n",
    "    elif alternative == 'less':\n",
    "        p_value = t.cdf(t_statistic, df)\n",
    "        \n",
    "    critical_value = t.ppf(1 - alpha/2, df) if alternative == 'two-sided' else t.ppf(1 - alpha, df)\n",
    "    \n",
    "    if abs(t_statistic) > critical_value or p_value < alpha:\n",
    "        print(\"Reject the null hypothesis.\")\n",
    "    else:\n",
    "        print(\"Fail to reject the null hypothesis.\")\n",
    "        \n",
    "    print(\"Sample 1 mean: {:.2f}\".format(mean1))\n",
    "    print(\"Sample 2 mean: {:.2f}\".format(mean2))\n",
    "    print(\"Standard error of the difference: {:.2f}\".format(pooled_std_error))\n",
    "    print(\"Degrees of freedom: {}\".format(df))\n",
    "    print(\"T-statistic: {:.2f}\".format(t_statistic))\n",
    "    print(\"P-value: {:.4f}\".format(p_value))\n",
    "    print(\"Critical value: {:.2f}\".format(critical_value))\n"
   ]
  },
  {
   "cell_type": "code",
   "execution_count": 8,
   "id": "a44ada80-3fd2-4478-a358-cb12d4ef4f20",
   "metadata": {},
   "outputs": [
    {
     "data": {
      "text/plain": [
       "'A null hypothesis (H0) is a statement that there is no significant difference or relationship between two variables or populations. An alternative hypothesis (Ha) is a statement that there is a significant difference or relationship between two variables or populations. Hypothesis testing is used to determine whether the null hypothesis should be rejected in favor of the alternative hypothesis.\\n\\nHere are some examples of null and alternative hypotheses:\\n\\nNull hypothesis: There is no significant difference in the mean height of men and women in a population.\\nAlternative hypothesis: The mean height of men is greater than the mean height of women in a population.\\n\\nNull hypothesis: There is no significant relationship between smoking and lung cancer.\\nAlternative hypothesis: Smoking is associated with a higher incidence of lung cancer.\\n\\nNull hypothesis: There is no significant difference in the average test scores between students who took a test with a blue pen and those who took it with a red pen.\\nAlternative hypothesis: Students who took the test with a blue pen have higher average test scores than those who took it with a red pen.\\n\\nNull hypothesis: There is no significant difference in the effectiveness of two different treatments for a particular disease.\\nAlternative hypothesis: One treatment is more effective than the other in treating the disease.\\n\\nNull hypothesis: There is no significant correlation between the amount of exercise a person gets and their blood pressure.\\nAlternative hypothesis: There is a negative correlation between the amount of exercise a person gets and their blood pressure, meaning that as exercise increases, blood pressure decreases.'"
      ]
     },
     "execution_count": 8,
     "metadata": {},
     "output_type": "execute_result"
    }
   ],
   "source": [
    "#6.\n",
    "'''A null hypothesis (H0) is a statement that there is no significant difference or relationship between two variables or populations. An alternative hypothesis (Ha) is a statement that there is a significant difference or relationship between two variables or populations. Hypothesis testing is used to determine whether the null hypothesis should be rejected in favor of the alternative hypothesis.\n",
    "\n",
    "Here are some examples of null and alternative hypotheses:\n",
    "\n",
    "Null hypothesis: There is no significant difference in the mean height of men and women in a population.\n",
    "Alternative hypothesis: The mean height of men is greater than the mean height of women in a population.\n",
    "\n",
    "Null hypothesis: There is no significant relationship between smoking and lung cancer.\n",
    "Alternative hypothesis: Smoking is associated with a higher incidence of lung cancer.\n",
    "\n",
    "Null hypothesis: There is no significant difference in the average test scores between students who took a test with a blue pen and those who took it with a red pen.\n",
    "Alternative hypothesis: Students who took the test with a blue pen have higher average test scores than those who took it with a red pen.\n",
    "\n",
    "Null hypothesis: There is no significant difference in the effectiveness of two different treatments for a particular disease.\n",
    "Alternative hypothesis: One treatment is more effective than the other in treating the disease.\n",
    "\n",
    "Null hypothesis: There is no significant correlation between the amount of exercise a person gets and their blood pressure.\n",
    "Alternative hypothesis: There is a negative correlation between the amount of exercise a person gets and their blood pressure, meaning that as exercise increases, blood pressure decreases.'''"
   ]
  },
  {
   "cell_type": "code",
   "execution_count": 9,
   "id": "553e07ce-9d72-4a3a-b58f-904a34136967",
   "metadata": {},
   "outputs": [
    {
     "data": {
      "text/plain": [
       "'Here are the general steps involved in hypothesis testing:\\n\\nState the null hypothesis (H0) and alternative hypothesis (Ha).\\nChoose a level of significance (alpha) to determine the critical value or p-value for rejecting the null hypothesis.\\nSelect a statistical test based on the type of data and hypothesis being tested.\\nCollect data and calculate the appropriate test statistic.\\nDetermine the critical value or p-value based on the level of significance and the degrees of freedom.\\nCompare the test statistic to the critical value or p-value and decide whether to reject or fail to reject the null hypothesis.\\nInterpret the results and draw conclusions based on the hypothesis test.\\nHere are the steps in more detail:\\n\\nState the null hypothesis (H0) and alternative hypothesis (Ha). The null hypothesis is the default assumption that there is no significant difference or relationship between two variables or populations. The alternative hypothesis is the statement that there is a significant difference or relationship between the two variables or populations.\\n\\nChoose a level of significance (alpha) to determine the critical value or p-value for rejecting the null hypothesis. The level of significance is the probability of making a Type I error, which is rejecting the null hypothesis when it is actually true. A common level of significance is 0.05, which corresponds to a 5% chance of making a Type I error.\\n\\nSelect a statistical test based on the type of data and hypothesis being tested. There are many different statistical tests, including t-tests, ANOVA, chi-squared tests, and regression analysis. The choice of test depends on the type of data being analyzed and the hypothesis being tested.\\n\\nCollect data and calculate the appropriate test statistic. The test statistic is a value calculated from the data that is used to determine whether to reject or fail to reject the null hypothesis. The calculation of the test statistic depends on the type of test being performed.\\n\\nDetermine the critical value or p-value based on the level of significance and the degrees of freedom. The critical value is the value that the test statistic must exceed to reject the null hypothesis. The p-value is the probability of obtaining a test statistic as extreme or more extreme than the observed test statistic, assuming that the null hypothesis is true. If the p-value is less than the level of significance, then the null hypothesis is rejected.\\n\\nCompare the test statistic to the critical value or p-value and decide whether to reject or fail to reject the null hypothesis. If the test statistic exceeds the critical value or the p-value is less than the level of significance, then the null hypothesis is rejected. If the test statistic does not exceed the critical value or the p-value is greater than the level of significance, then the null hypothesis is not rejected.\\n\\nInterpret the results and draw conclusions based on the hypothesis test. The conclusion is based on whether the null hypothesis was rejected or not. If the null hypothesis was rejected, then the alternative hypothesis is accepted, and it is concluded that there is a significant difference or relationship between the two variables or populations. If the null hypothesis was not rejected, then it is concluded that there is no significant difference or relationship between the two variables or populations.'"
      ]
     },
     "execution_count": 9,
     "metadata": {},
     "output_type": "execute_result"
    }
   ],
   "source": [
    "#7.\n",
    "'''Here are the general steps involved in hypothesis testing:\n",
    "\n",
    "State the null hypothesis (H0) and alternative hypothesis (Ha).\n",
    "Choose a level of significance (alpha) to determine the critical value or p-value for rejecting the null hypothesis.\n",
    "Select a statistical test based on the type of data and hypothesis being tested.\n",
    "Collect data and calculate the appropriate test statistic.\n",
    "Determine the critical value or p-value based on the level of significance and the degrees of freedom.\n",
    "Compare the test statistic to the critical value or p-value and decide whether to reject or fail to reject the null hypothesis.\n",
    "Interpret the results and draw conclusions based on the hypothesis test.\n",
    "Here are the steps in more detail:\n",
    "\n",
    "State the null hypothesis (H0) and alternative hypothesis (Ha). The null hypothesis is the default assumption that there is no significant difference or relationship between two variables or populations. The alternative hypothesis is the statement that there is a significant difference or relationship between the two variables or populations.\n",
    "\n",
    "Choose a level of significance (alpha) to determine the critical value or p-value for rejecting the null hypothesis. The level of significance is the probability of making a Type I error, which is rejecting the null hypothesis when it is actually true. A common level of significance is 0.05, which corresponds to a 5% chance of making a Type I error.\n",
    "\n",
    "Select a statistical test based on the type of data and hypothesis being tested. There are many different statistical tests, including t-tests, ANOVA, chi-squared tests, and regression analysis. The choice of test depends on the type of data being analyzed and the hypothesis being tested.\n",
    "\n",
    "Collect data and calculate the appropriate test statistic. The test statistic is a value calculated from the data that is used to determine whether to reject or fail to reject the null hypothesis. The calculation of the test statistic depends on the type of test being performed.\n",
    "\n",
    "Determine the critical value or p-value based on the level of significance and the degrees of freedom. The critical value is the value that the test statistic must exceed to reject the null hypothesis. The p-value is the probability of obtaining a test statistic as extreme or more extreme than the observed test statistic, assuming that the null hypothesis is true. If the p-value is less than the level of significance, then the null hypothesis is rejected.\n",
    "\n",
    "Compare the test statistic to the critical value or p-value and decide whether to reject or fail to reject the null hypothesis. If the test statistic exceeds the critical value or the p-value is less than the level of significance, then the null hypothesis is rejected. If the test statistic does not exceed the critical value or the p-value is greater than the level of significance, then the null hypothesis is not rejected.\n",
    "\n",
    "Interpret the results and draw conclusions based on the hypothesis test. The conclusion is based on whether the null hypothesis was rejected or not. If the null hypothesis was rejected, then the alternative hypothesis is accepted, and it is concluded that there is a significant difference or relationship between the two variables or populations. If the null hypothesis was not rejected, then it is concluded that there is no significant difference or relationship between the two variables or populations.'''"
   ]
  },
  {
   "cell_type": "code",
   "execution_count": 10,
   "id": "3ad1bc53-c744-484d-8515-2dc50d20be5e",
   "metadata": {},
   "outputs": [
    {
     "data": {
      "text/plain": [
       "'In hypothesis testing, the p-value is the probability of obtaining a test statistic as extreme or more extreme than the observed test statistic, assuming that the null hypothesis is true. The p-value represents the strength of evidence against the null hypothesis.\\n\\nThe significance of the p-value is that it provides a way to decide whether to reject or fail to reject the null hypothesis. If the p-value is less than or equal to the level of significance (usually 0.05), then the null hypothesis is rejected. This means that the observed data is unlikely to have occurred by chance if the null hypothesis were true, and that there is evidence in favor of the alternative hypothesis.\\n\\nOn the other hand, if the p-value is greater than the level of significance, then the null hypothesis is not rejected. This means that the observed data is likely to have occurred by chance if the null hypothesis were true, and that there is not enough evidence to support the alternative hypothesis.\\n\\nIn other words, a small p-value (typically less than 0.05) suggests that the observed difference or relationship between the two groups is statistically significant, and that the null hypothesis can be rejected. A larger p-value suggests that the observed difference or relationship is not statistically significant, and that the null hypothesis cannot be rejected.\\n\\nIt is important to note that the p-value does not tell us the effect size or the practical significance of the difference or relationship between the two groups. It only tells us whether the observed difference or relationship is statistically significant or not. Therefore, it is important to interpret the results of a hypothesis test in the context of the research question and the practical implications of the findings.'"
      ]
     },
     "execution_count": 10,
     "metadata": {},
     "output_type": "execute_result"
    }
   ],
   "source": [
    "#8.\n",
    "'''In hypothesis testing, the p-value is the probability of obtaining a test statistic as extreme or more extreme than the observed test statistic, assuming that the null hypothesis is true. The p-value represents the strength of evidence against the null hypothesis.\n",
    "\n",
    "The significance of the p-value is that it provides a way to decide whether to reject or fail to reject the null hypothesis. If the p-value is less than or equal to the level of significance (usually 0.05), then the null hypothesis is rejected. This means that the observed data is unlikely to have occurred by chance if the null hypothesis were true, and that there is evidence in favor of the alternative hypothesis.\n",
    "\n",
    "On the other hand, if the p-value is greater than the level of significance, then the null hypothesis is not rejected. This means that the observed data is likely to have occurred by chance if the null hypothesis were true, and that there is not enough evidence to support the alternative hypothesis.\n",
    "\n",
    "In other words, a small p-value (typically less than 0.05) suggests that the observed difference or relationship between the two groups is statistically significant, and that the null hypothesis can be rejected. A larger p-value suggests that the observed difference or relationship is not statistically significant, and that the null hypothesis cannot be rejected.\n",
    "\n",
    "It is important to note that the p-value does not tell us the effect size or the practical significance of the difference or relationship between the two groups. It only tells us whether the observed difference or relationship is statistically significant or not. Therefore, it is important to interpret the results of a hypothesis test in the context of the research question and the practical implications of the findings.'''"
   ]
  },
  {
   "cell_type": "code",
   "execution_count": 12,
   "id": "abc17d75-04e4-4522-bb7a-ea7f7e375c9e",
   "metadata": {},
   "outputs": [
    {
     "data": {
      "image/png": "[encoded data removed]",
      "text/plain": [
       "<Figure size 640x480 with 1 Axes>"
      ]
     },
     "metadata": {},
     "output_type": "display_data"
    }
   ],
   "source": [
    "#9.\n",
    "import matplotlib.pyplot as plt\n",
    "import numpy as np\n",
    "from scipy.stats import t\n",
    "\n",
    "# Set the degrees of freedom parameter\n",
    "df = 10\n",
    "\n",
    "# Define the x values for the plot\n",
    "x = np.linspace(t.ppf(0.01, df), t.ppf(0.99, df), 100)\n",
    "\n",
    "# Generate the Student's t-distribution with df degrees of freedom\n",
    "y = t.pdf(x, df)\n",
    "\n",
    "# Create the plot\n",
    "fig, ax = plt.subplots()\n",
    "ax.plot(x, y, 'r-', lw=2, alpha=0.6, label='t pdf')\n",
    "\n",
    "# Add title and axis labels\n",
    "ax.set_title(\"Student's t-distribution with df = 10\")\n",
    "ax.set_xlabel('x')\n",
    "ax.set_ylabel('Probability density')\n",
    "\n",
    "# Add legend and display the plot\n",
    "ax.legend(loc='best', frameon=False)\n",
    "plt.show()\n"
   ]
  },
  {
   "cell_type": "code",
   "execution_count": 13,
   "id": "14d28e4a-af07-468e-9e7a-16b992e25faa",
   "metadata": {},
   "outputs": [
    {
     "data": {
      "text/plain": [
       "'This code defines the degrees of freedom parameter df as 10, generates 100 x values using the linspace function, and computes the corresponding y values using the pdf method of the t distribution object from the scipy.stats module. It then plots the distribution using the plot method of the Axes object, and adds a title, axis labels, and legend using the corresponding methods. Finally, it displays the plot using the show function.'"
      ]
     },
     "execution_count": 13,
     "metadata": {},
     "output_type": "execute_result"
    }
   ],
   "source": [
    "'''This code defines the degrees of freedom parameter df as 10, generates 100 x values using the linspace function, and computes the corresponding y values using the pdf method of the t distribution object from the scipy.stats module. It then plots the distribution using the plot method of the Axes object, and adds a title, axis labels, and legend using the corresponding methods. Finally, it displays the plot using the show function.'''"
   ]
  },
  {
   "cell_type": "code",
   "execution_count": 14,
   "id": "2930fc36-9d89-40e2-b136-2d7c3c571896",
   "metadata": {},
   "outputs": [
    {
     "name": "stdout",
     "output_type": "stream",
     "text": [
      "Null hypothesis: the population means are equal\n",
      "Sample 1 mean: 9.597984672469975\n",
      "Sample 2 mean: 11.758290487505821\n",
      "t-statistic: -7.025439007747525\n",
      "p-value: 3.353704157514495e-11\n"
     ]
    }
   ],
   "source": [
    "#10.\n",
    "import numpy as np\n",
    "from scipy.stats import ttest_ind\n",
    "\n",
    "# Generate two random samples with equal size\n",
    "sample1 = np.random.normal(loc=10, scale=2, size=100)\n",
    "sample2 = np.random.normal(loc=12, scale=2, size=100)\n",
    "\n",
    "# Set the null hypothesis that the population means are equal\n",
    "null_hypothesis = 'the population means are equal'\n",
    "\n",
    "# Calculate the two-sample t-test\n",
    "t_statistic, p_value = ttest_ind(sample1, sample2)\n",
    "\n",
    "# Print the results\n",
    "print('Null hypothesis:', null_hypothesis)\n",
    "print('Sample 1 mean:', np.mean(sample1))\n",
    "print('Sample 2 mean:', np.mean(sample2))\n",
    "print('t-statistic:', t_statistic)\n",
    "print('p-value:', p_value)\n",
    "\n"
   ]
  },
  {
   "cell_type": "code",
   "execution_count": 15,
   "id": "e54a9f5f-1724-43bb-80d7-9dcdec2ec610",
   "metadata": {},
   "outputs": [
    {
     "data": {
      "text/plain": [
       "'In this example, we first generate two random samples of size 100 using the numpy.random.normal function, with means of 10 and 12 and standard deviations of 2. We then set the null hypothesis that the population means are equal.\\n\\nNext, we calculate the two-sample t-test using the ttest_ind function from the scipy.stats module, which takes the two samples as arguments and returns the t-statistic and p-value.\\n\\nFinally, we print out the null hypothesis, the means of the two samples, and the results of the t-test, including the t-statistic and p-value. If the p-value is less than the level of significance (e.g., 0.05), we can reject the null hypothesis and conclude that the population means are not equal.'"
      ]
     },
     "execution_count": 15,
     "metadata": {},
     "output_type": "execute_result"
    }
   ],
   "source": [
    "'''In this example, we first generate two random samples of size 100 using the numpy.random.normal function, with means of 10 and 12 and standard deviations of 2. We then set the null hypothesis that the population means are equal.\n",
    "\n",
    "Next, we calculate the two-sample t-test using the ttest_ind function from the scipy.stats module, which takes the two samples as arguments and returns the t-statistic and p-value.\n",
    "\n",
    "Finally, we print out the null hypothesis, the means of the two samples, and the results of the t-test, including the t-statistic and p-value. If the p-value is less than the level of significance (e.g., 0.05), we can reject the null hypothesis and conclude that the population means are not equal.'''"
   ]
  },
  {
   "cell_type": "code",
   "execution_count": 16,
   "id": "15e0e058-5b05-4882-8bea-cac559962298",
   "metadata": {},
   "outputs": [
    {
     "data": {
      "text/plain": [
       "\"Student's t-distribution is a probability distribution that arises when we estimate the mean of a normally distributed population with an unknown variance using a small sample. It is similar to the standard normal distribution, but it has heavier tails and a lower peak, which reflects the greater uncertainty associated with estimating the population mean from a small sample.\\n\\nThe t-distribution is used when the sample size is small (typically less than 30) or when the population standard deviation is unknown. In such cases, we use the sample standard deviation to estimate the population standard deviation, which introduces additional uncertainty into the estimation process. The t-distribution accounts for this additional uncertainty and provides a more accurate estimate of the sampling distribution of the sample mean.\\n\\nThe t-distribution is commonly used in hypothesis testing and confidence interval estimation for small sample sizes. For example, if we want to test a hypothesis about the population mean based on a sample of 10 observations, we would use the t-distribution to calculate the probability of observing a sample mean as extreme or more extreme than the one we observed, assuming the null hypothesis is true. Similarly, we would use the t-distribution to calculate a confidence interval for the population mean based on the sample mean and standard deviation.\""
      ]
     },
     "execution_count": 16,
     "metadata": {},
     "output_type": "execute_result"
    }
   ],
   "source": [
    "#11.\n",
    "'''Student's t-distribution is a probability distribution that arises when we estimate the mean of a normally distributed population with an unknown variance using a small sample. It is similar to the standard normal distribution, but it has heavier tails and a lower peak, which reflects the greater uncertainty associated with estimating the population mean from a small sample.\n",
    "\n",
    "The t-distribution is used when the sample size is small (typically less than 30) or when the population standard deviation is unknown. In such cases, we use the sample standard deviation to estimate the population standard deviation, which introduces additional uncertainty into the estimation process. The t-distribution accounts for this additional uncertainty and provides a more accurate estimate of the sampling distribution of the sample mean.\n",
    "\n",
    "The t-distribution is commonly used in hypothesis testing and confidence interval estimation for small sample sizes. For example, if we want to test a hypothesis about the population mean based on a sample of 10 observations, we would use the t-distribution to calculate the probability of observing a sample mean as extreme or more extreme than the one we observed, assuming the null hypothesis is true. Similarly, we would use the t-distribution to calculate a confidence interval for the population mean based on the sample mean and standard deviation.'''"
   ]
  },
  {
   "cell_type": "code",
   "execution_count": 1,
   "id": "3f34cdd7-26fa-4dc5-be0e-91b80e1cff26",
   "metadata": {},
   "outputs": [
    {
     "data": {
      "text/plain": [
       "'The t-statistic is a measure of how many standard errors the sample mean is away from the hypothesized population mean. It is used in hypothesis testing to determine whether the difference between the sample mean and the hypothesized population mean is statistically significant.\\n\\nThe formula for the t-statistic is:\\n\\nt = (x̄ - μ) / (s / sqrt(n))\\n\\nwhere:\\n\\nx̄ is the sample mean\\nμ is the hypothesized population mean\\ns is the sample standard deviation\\nn is the sample size\\nsqrt denotes the square root.\\nIn this formula, the numerator represents the difference between the sample mean and the hypothesized population mean, and the denominator represents the standard error of the sample mean. The t-statistic measures how many standard errors the sample mean is away from the hypothesized population mean. The greater the absolute value of the t-statistic, the more evidence we have against the null hypothesis.'"
      ]
     },
     "execution_count": 1,
     "metadata": {},
     "output_type": "execute_result"
    }
   ],
   "source": [
    "#12.\n",
    "'''The t-statistic is a measure of how many standard errors the sample mean is away from the hypothesized population mean. It is used in hypothesis testing to determine whether the difference between the sample mean and the hypothesized population mean is statistically significant.\n",
    "\n",
    "The formula for the t-statistic is:\n",
    "\n",
    "t = (x̄ - μ) / (s / sqrt(n))\n",
    "\n",
    "where:\n",
    "\n",
    "x̄ is the sample mean\n",
    "μ is the hypothesized population mean\n",
    "s is the sample standard deviation\n",
    "n is the sample size\n",
    "sqrt denotes the square root.\n",
    "In this formula, the numerator represents the difference between the sample mean and the hypothesized population mean, and the denominator represents the standard error of the sample mean. The t-statistic measures how many standard errors the sample mean is away from the hypothesized population mean. The greater the absolute value of the t-statistic, the more evidence we have against the null hypothesis.'''"
   ]
  },
  {
   "cell_type": "code",
   "execution_count": 3,
   "id": "567bca9b-d1c5-4c93-ab5a-0cc67acca2ea",
   "metadata": {},
   "outputs": [
    {
     "data": {
      "text/plain": [
       "'To estimate the population mean revenue with a 95% confidence interval, we can use the following formula:\\n\\nConfidence interval = sample mean ± (t-value * standard error)\\n\\nwhere the standard error is given by:\\n\\nstandard error = sample standard deviation / sqrt(sample size)\\n\\nSince the sample size is 50, the degrees of freedom for the t-distribution is 49 (n - 1). From the t-distribution table, the t-value for a 95% confidence level with 49 degrees of freedom is 2.009.\\n\\nSubstituting the values given in the problem, we have:\\n\\nstandard error = 50 / sqrt(50) = 7.07\\n\\nt-value = 2.009\\n\\nUsing the formula above, the 95% confidence interval for the population mean revenue is:\\n\\n$500 ± (2.009 * $7.07)\\n\\nwhich gives us a confidence interval of ($485.25, $514.75). Therefore, we can say with 95% confidence that the true population mean revenue is between $485.25 and $514.75.'"
      ]
     },
     "execution_count": 3,
     "metadata": {},
     "output_type": "execute_result"
    }
   ],
   "source": [
    "#13.\n",
    "'''To estimate the population mean revenue with a 95% confidence interval, we can use the following formula:\n",
    "\n",
    "Confidence interval = sample mean ± (t-value * standard error)\n",
    "\n",
    "where the standard error is given by:\n",
    "\n",
    "standard error = sample standard deviation / sqrt(sample size)\n",
    "\n",
    "Since the sample size is 50, the degrees of freedom for the t-distribution is 49 (n - 1). From the t-distribution table, the t-value for a 95% confidence level with 49 degrees of freedom is 2.009.\n",
    "\n",
    "Substituting the values given in the problem, we have:\n",
    "\n",
    "standard error = 50 / sqrt(50) = 7.07\n",
    "\n",
    "t-value = 2.009\n",
    "\n",
    "Using the formula above, the 95% confidence interval for the population mean revenue is:\n",
    "\n",
    "$500 ± (2.009 * $7.07)\n",
    "\n",
    "which gives us a confidence interval of ($485.25, $514.75). Therefore, we can say with 95% confidence that the true population mean revenue is between $485.25 and $514.75.'''"
   ]
  },
  {
   "cell_type": "code",
   "execution_count": 4,
   "id": "89f01410-d20a-49ad-9001-612dca6660ee",
   "metadata": {},
   "outputs": [
    {
     "data": {
      "text/plain": [
       "'To test the hypothesis with a significance level of 0.05, we can use a one-sample t-test with the following null and alternative hypotheses:\\n\\nNull hypothesis: The true mean decrease in blood pressure is equal to 10 mmHg.\\nAlternative hypothesis: The true mean decrease in blood pressure is less than 10 mmHg.\\n\\nWe will use a significance level of 0.05, which corresponds to a t-value of -1.645 (for a one-tailed test with 99 degrees of freedom).\\n\\nThe t-statistic for the sample is:\\n\\nt = (sample mean - hypothesized mean) / (sample standard deviation / sqrt(sample size))\\n\\nt = (8 - 10) / (3 / sqrt(100)) = -6.67\\n\\nThe t-value is -6.67, which is less than the critical value of -1.645. Therefore, we reject the null hypothesis and conclude that the true mean decrease in blood pressure is less than 10 mmHg at a significance level of 0.05. In other words, the new drug is effective in reducing blood pressure.'"
      ]
     },
     "execution_count": 4,
     "metadata": {},
     "output_type": "execute_result"
    }
   ],
   "source": [
    "#14.\n",
    "'''To test the hypothesis with a significance level of 0.05, we can use a one-sample t-test with the following null and alternative hypotheses:\n",
    "\n",
    "Null hypothesis: The true mean decrease in blood pressure is equal to 10 mmHg.\n",
    "Alternative hypothesis: The true mean decrease in blood pressure is less than 10 mmHg.\n",
    "\n",
    "We will use a significance level of 0.05, which corresponds to a t-value of -1.645 (for a one-tailed test with 99 degrees of freedom).\n",
    "\n",
    "The t-statistic for the sample is:\n",
    "\n",
    "t = (sample mean - hypothesized mean) / (sample standard deviation / sqrt(sample size))\n",
    "\n",
    "t = (8 - 10) / (3 / sqrt(100)) = -6.67\n",
    "\n",
    "The t-value is -6.67, which is less than the critical value of -1.645. Therefore, we reject the null hypothesis and conclude that the true mean decrease in blood pressure is less than 10 mmHg at a significance level of 0.05. In other words, the new drug is effective in reducing blood pressure.'''"
   ]
  },
  {
   "cell_type": "code",
   "execution_count": 5,
   "id": "9d622336-c58a-4405-87f6-314091cd56aa",
   "metadata": {},
   "outputs": [
    {
     "data": {
      "text/plain": [
       "'To test the hypothesis that the true mean weight of the products is less than 5 pounds with a significance level of 0.01, we can use a one-sample t-test with the following null and alternative hypotheses:\\n\\nNull hypothesis: The true mean weight of the products is equal to 5 pounds.\\nAlternative hypothesis: The true mean weight of the products is less than 5 pounds.\\n\\nWe will use a significance level of 0.01, which corresponds to a t-value of -2.492 (for a one-tailed test with 24 degrees of freedom).\\n\\nThe t-statistic for the sample is:\\n\\nt = (sample mean - hypothesized mean) / (sample standard deviation / sqrt(sample size))\\n\\nt = (4.8 - 5) / (0.5 / sqrt(25)) = -2.0\\n\\nThe t-value is -2.0, which is greater than the critical value of -2.492. Therefore, we fail to reject the null hypothesis and conclude that there is not enough evidence to suggest that the true mean weight of the products is less than 5 pounds at a significance level of 0.01. In other words, the sample does not provide strong enough evidence to suggest that the mean weight of the products has decreased.'"
      ]
     },
     "execution_count": 5,
     "metadata": {},
     "output_type": "execute_result"
    }
   ],
   "source": [
    "#15.\n",
    "'''To test the hypothesis that the true mean weight of the products is less than 5 pounds with a significance level of 0.01, we can use a one-sample t-test with the following null and alternative hypotheses:\n",
    "\n",
    "Null hypothesis: The true mean weight of the products is equal to 5 pounds.\n",
    "Alternative hypothesis: The true mean weight of the products is less than 5 pounds.\n",
    "\n",
    "We will use a significance level of 0.01, which corresponds to a t-value of -2.492 (for a one-tailed test with 24 degrees of freedom).\n",
    "\n",
    "The t-statistic for the sample is:\n",
    "\n",
    "t = (sample mean - hypothesized mean) / (sample standard deviation / sqrt(sample size))\n",
    "\n",
    "t = (4.8 - 5) / (0.5 / sqrt(25)) = -2.0\n",
    "\n",
    "The t-value is -2.0, which is greater than the critical value of -2.492. Therefore, we fail to reject the null hypothesis and conclude that there is not enough evidence to suggest that the true mean weight of the products is less than 5 pounds at a significance level of 0.01. In other words, the sample does not provide strong enough evidence to suggest that the mean weight of the products has decreased.'''"
   ]
  },
  {
   "cell_type": "code",
   "execution_count": 6,
   "id": "b3f1483b-dfed-4b14-aaf2-e2435722b593",
   "metadata": {},
   "outputs": [
    {
     "data": {
      "text/plain": [
       "'To test the hypothesis that the population means for the two groups are equal with a significance level of 0.01, we can use a two-sample t-test with equal variances and the following null and alternative hypotheses:\\n\\nNull hypothesis: The population means for the two groups are equal.\\nAlternative hypothesis: The population means for the two groups are not equal.\\n\\nWe will use a significance level of 0.01, which corresponds to a t-value of ±2.617 (for a two-tailed test with 68 degrees of freedom).\\n\\nThe pooled standard deviation for the two samples is:\\n\\ns_p = sqrt(((n1 - 1) * s1^2 + (n2 - 1) * s2^2) / (n1 + n2 - 2))\\ns_p = sqrt(((30 - 1) * 10^2 + (40 - 1) * 8^2) / (30 + 40 - 2))\\ns_p = 9.22\\n\\nThe t-statistic for the sample is:\\n\\nt = (sample mean difference - hypothesized mean difference) / (s_p * sqrt(1/n1 + 1/n2))\\n\\nt = (80 - 75 - 0) / (9.22 * sqrt(1/30 + 1/40)) = 2.82\\n\\nThe absolute t-value is 2.82, which is greater than the critical value of 2.617. Therefore, we reject the null hypothesis and conclude that there is enough evidence to suggest that the population means for the two groups are not equal at a significance level of 0.01. In other words, the study materials have had different effects on the two groups.'"
      ]
     },
     "execution_count": 6,
     "metadata": {},
     "output_type": "execute_result"
    }
   ],
   "source": [
    "#16.\n",
    "'''To test the hypothesis that the population means for the two groups are equal with a significance level of 0.01, we can use a two-sample t-test with equal variances and the following null and alternative hypotheses:\n",
    "\n",
    "Null hypothesis: The population means for the two groups are equal.\n",
    "Alternative hypothesis: The population means for the two groups are not equal.\n",
    "\n",
    "We will use a significance level of 0.01, which corresponds to a t-value of ±2.617 (for a two-tailed test with 68 degrees of freedom).\n",
    "\n",
    "The pooled standard deviation for the two samples is:\n",
    "\n",
    "s_p = sqrt(((n1 - 1) * s1^2 + (n2 - 1) * s2^2) / (n1 + n2 - 2))\n",
    "s_p = sqrt(((30 - 1) * 10^2 + (40 - 1) * 8^2) / (30 + 40 - 2))\n",
    "s_p = 9.22\n",
    "\n",
    "The t-statistic for the sample is:\n",
    "\n",
    "t = (sample mean difference - hypothesized mean difference) / (s_p * sqrt(1/n1 + 1/n2))\n",
    "\n",
    "t = (80 - 75 - 0) / (9.22 * sqrt(1/30 + 1/40)) = 2.82\n",
    "\n",
    "The absolute t-value is 2.82, which is greater than the critical value of 2.617. Therefore, we reject the null hypothesis and conclude that there is enough evidence to suggest that the population means for the two groups are not equal at a significance level of 0.01. In other words, the study materials have had different effects on the two groups.'''"
   ]
  },
  {
   "cell_type": "code",
   "execution_count": 7,
   "id": "d8eb0886-367c-4335-8fdf-3bb2708ba710",
   "metadata": {},
   "outputs": [
    {
     "data": {
      "text/plain": [
       "'To estimate the population mean with a 99% confidence interval, we can use the following formula:\\n\\nCI = sample mean ± z*(standard error)\\n\\nWhere:\\n\\nCI: confidence interval\\nsample mean: the mean of the sample (4 in this case)\\nz: the critical value for the desired confidence level (99% in this case)\\nstandard error: the standard error of the sample mean, calculated as the standard deviation divided by the square root of the sample size\\nThe critical value for a 99% confidence interval can be found using a t-distribution with 49 degrees of freedom (n-1), since the sample size is less than 30:\\n\\nz = t(0.995, 49) = ±2.678\\n\\nwhere t(0.995, 49) is the t-value that corresponds to a 99% confidence level and 49 degrees of freedom.\\n\\nThe standard error can be calculated as:\\n\\nstandard error = standard deviation / sqrt(sample size)\\nstandard error = 1.5 / sqrt(50)\\nstandard error = 0.2121\\n\\nSubstituting the values into the formula, we get:\\n\\nCI = 4 ± 2.678*(0.2121)\\nCI = [3.432, 4.568]\\n\\nTherefore, we can be 99% confident that the true population mean number of ads watched by viewers during a TV program falls between 3.432 and 4.568.'"
      ]
     },
     "execution_count": 7,
     "metadata": {},
     "output_type": "execute_result"
    }
   ],
   "source": [
    "#17.\n",
    "'''To estimate the population mean with a 99% confidence interval, we can use the following formula:\n",
    "\n",
    "CI = sample mean ± z*(standard error)\n",
    "\n",
    "Where:\n",
    "\n",
    "CI: confidence interval\n",
    "sample mean: the mean of the sample (4 in this case)\n",
    "z: the critical value for the desired confidence level (99% in this case)\n",
    "standard error: the standard error of the sample mean, calculated as the standard deviation divided by the square root of the sample size\n",
    "The critical value for a 99% confidence interval can be found using a t-distribution with 49 degrees of freedom (n-1), since the sample size is less than 30:\n",
    "\n",
    "z = t(0.995, 49) = ±2.678\n",
    "\n",
    "where t(0.995, 49) is the t-value that corresponds to a 99% confidence level and 49 degrees of freedom.\n",
    "\n",
    "The standard error can be calculated as:\n",
    "\n",
    "standard error = standard deviation / sqrt(sample size)\n",
    "standard error = 1.5 / sqrt(50)\n",
    "standard error = 0.2121\n",
    "\n",
    "Substituting the values into the formula, we get:\n",
    "\n",
    "CI = 4 ± 2.678*(0.2121)\n",
    "CI = [3.432, 4.568]\n",
    "\n",
    "Therefore, we can be 99% confident that the true population mean number of ads watched by viewers during a TV program falls between 3.432 and 4.568.'''"
   ]
  },
  {
   "cell_type": "code",
   "execution_count": null,
   "id": "0d65746e-1623-445d-8a7d-7205eeb00bf4",
   "metadata": {},
   "outputs": [],
   "source": []
  }
 ],
 "metadata": {
  "kernelspec": {
   "display_name": "Python 3 (ipykernel)",
   "language": "python",
   "name": "python3"
  },
  "language_info": {
   "codemirror_mode": {
    "name": "ipython",
    "version": 3
   },
   "file_extension": ".py",
   "mimetype": "text/x-python",
   "name": "python",
   "nbconvert_exporter": "python",
   "pygments_lexer": "ipython3",
   "version": "3.10.8"
  }
 },
 "nbformat": 4,
 "nbformat_minor": 5
}
