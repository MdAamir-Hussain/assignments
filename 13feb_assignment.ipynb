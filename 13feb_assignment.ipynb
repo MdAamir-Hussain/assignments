{
 "cells": [
  {
   "cell_type": "code",
   "execution_count": null,
   "id": "5a79488a-578b-44b8-81c9-91bcabee6ea4",
   "metadata": {},
   "outputs": [],
   "source": [
    "#1.\n",
    "'''When creating a custom exception in Python, it is best practice to inherit from the built-in Exception class. This is because the Exception class provides important functionality that is necessary for proper error handling, such as support for the try-except statement and the ability to access the error message and traceback.\n",
    "\n",
    "Inheriting from the Exception class also ensures that your custom exception is compatible with the built-in error handling mechanisms in Python, such as the raise statement and logging modules. By following this convention, your code will be more consistent and easier to understand for other developers who are familiar with Python's error handling mechanisms.\n",
    "\n",
    "Additionally, by inheriting from the Exception class, your custom exception can take advantage of the existing methods and attributes that are available to all exceptions, such as __str__ and args, which make it easy to customize the error message and provide additional information about the error.'''\n"
   ]
  },
  {
   "cell_type": "code",
   "execution_count": null,
   "id": "e3cf77da-fcae-4839-a0da-6ef2183b0317",
   "metadata": {},
   "outputs": [],
   "source": [
    "#2.Python program that prints the Python Exception Hierarchy:\n",
    "def print_exception_hierarchy(exception_class, indent=0):\n",
    "    print(' ' * indent + exception_class.__name__)\n",
    "    for subclass in exception_class.__subclasses__():\n",
    "        print_exception_hierarchy(subclass, indent + 2)\n",
    "\n",
    "print_exception_hierarchy(BaseException)\n"
   ]
  },
  {
   "cell_type": "code",
   "execution_count": null,
   "id": "68b000bf-2e37-417d-b137-bbbdfeb3bff7",
   "metadata": {},
   "outputs": [],
   "source": [
    "#3.\n",
    "'''The ArithmeticError class is a built-in Python exception class that serves as the base class for exceptions that occur during arithmetic operations. The following exceptions are defined in the ArithmeticError class:\n",
    "\n",
    "ZeroDivisionError: This exception is raised when you try to divide a number by zero.\n",
    "\n",
    "Example:'''\n",
    "x = 5\n",
    "y = 0\n",
    "z = x / y  # Raises ZeroDivisionError\n"
   ]
  },
  {
   "cell_type": "code",
   "execution_count": null,
   "id": "196bfe91-febc-4280-8de9-9c23150f3ab9",
   "metadata": {},
   "outputs": [],
   "source": [
    "'''OverflowError: This exception is raised when a mathematical operation exceeds the maximum representable value.\n",
    "\n",
    "Example:'''\n",
    "import sys\n",
    "x = sys.maxsize\n",
    "y = x + 1  # Raises OverflowError\n"
   ]
  },
  {
   "cell_type": "code",
   "execution_count": null,
   "id": "4d32c787-f0ff-4d7e-bad6-995c69dbf7ac",
   "metadata": {},
   "outputs": [],
   "source": [
    "#4.\n",
    "'''The LookupError class is a built-in Python exception class that serves as the base class for exceptions that occur when a key or index is not found in a dictionary, list, tuple, or other container.\n",
    "\n",
    "Two common subclasses of LookupError are KeyError and IndexError. Here's an explanation of both with an example:\n",
    "\n",
    "KeyError: This exception is raised when you try to access a dictionary key that doesn't exist.\n",
    "\n",
    "Example:'''\n",
    "\n",
    "my_dict = {'foo': 42, 'bar': 23}\n",
    "value = my_dict['baz']  # Raises KeyError\n"
   ]
  },
  {
   "cell_type": "code",
   "execution_count": null,
   "id": "27b9c557-7350-49d2-aa1d-b739525a91bf",
   "metadata": {},
   "outputs": [],
   "source": [
    "'''IndexError: This exception is raised when you try to access a list or tuple index that is out of range.\n",
    "\n",
    "Example:'''\n",
    "\n",
    "my_list = [1, 2, 3]\n",
    "value = my_list[3]  # Raises IndexError\n"
   ]
  },
  {
   "cell_type": "code",
   "execution_count": null,
   "id": "31496ff1-4c1d-49db-bee1-400df9872405",
   "metadata": {},
   "outputs": [],
   "source": [
    "#5.\n",
    "'''ImportError is a built-in Python exception class that is raised when a module, which is a file containing Python definitions and statements, cannot be imported. This can happen for several reasons, such as the module file not existing, the module name being misspelled, or the module file not being located in a directory that Python searches for modules.\n",
    "\n",
    "ModuleNotFoundError is a subclass of ImportError that was introduced in Python 3.6. It is raised when a module is not found during an import statement.\n",
    "\n",
    "Here's an example to illustrate the difference between ImportError and ModuleNotFoundError:'''\n",
    "\n",
    "try:\n",
    "    import my_module\n",
    "except ImportError as e:\n",
    "    print(\"ImportError:\", e)\n",
    "\n",
    "try:\n",
    "    import non_existent_module\n",
    "except ModuleNotFoundError as e:\n",
    "    print(\"ModuleNotFoundError:\", e)\n"
   ]
  },
  {
   "cell_type": "code",
   "execution_count": null,
   "id": "63f5bd85-0325-4d2a-a9ad-b6e431632938",
   "metadata": {},
   "outputs": [],
   "source": [
    "#6.\n",
    "'''Here are some best practices for exception handling in Python:\n",
    "\n",
    "1. Use built-in exceptions when possible: Python provides many built-in exceptions for common error conditions. Instead of creating a custom exception, use a built-in exception that accurately describes the error that occurred.\n",
    "\n",
    "2. Catch specific exceptions: When catching exceptions, catch only the exceptions that you expect and that you know how to handle. This allows other exceptions to propagate up the call stack and be handled elsewhere.\n",
    "\n",
    "3. Keep exception handlers short: Exception handlers should only contain the code necessary to handle the exception. Any other code should be placed outside the handler to keep the handler concise and easy to understand.\n",
    "\n",
    "4. Use finally blocks for cleanup: If you need to perform cleanup actions, such as closing a file or releasing a resource, use a finally block to ensure that the cleanup code is always executed, even if an exception is raised.\n",
    "\n",
    "5. Use try-except-else blocks: Use try-except-else blocks to separate error handling code from normal code. The else block is executed only if no exception is raised, allowing you to keep normal code separate from error handling code.\n",
    "\n",
    "6. Log exceptions: When an exception occurs, log the error message and any relevant information, such as the input that caused the error. This makes it easier to diagnose and fix the problem.\n",
    "\n",
    "7. Don't catch all exceptions: Catching all exceptions with a broad except block can mask errors and make debugging more difficult. Instead, catch only the exceptions you expect and that you know how to handle.\n",
    "\n",
    "8. Avoid catching Exception: Catching the base Exception class can catch all exceptions, including those that you may not expect, such as SystemExit or KeyboardInterrupt. Catch only the exceptions that you expect and that you know how to handle.'''"
   ]
  }
 ],
 "metadata": {
  "kernelspec": {
   "display_name": "Python 3 (ipykernel)",
   "language": "python",
   "name": "python3"
  },
  "language_info": {
   "codemirror_mode": {
    "name": "ipython",
    "version": 3
   },
   "file_extension": ".py",
   "mimetype": "text/x-python",
   "name": "python",
   "nbconvert_exporter": "python",
   "pygments_lexer": "ipython3",
   "version": "3.10.8"
  }
 },
 "nbformat": 4,
 "nbformat_minor": 5
}
