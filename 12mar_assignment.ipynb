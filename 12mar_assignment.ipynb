{
 "cells": [
  {
   "cell_type": "code",
   "execution_count": 1,
   "id": "8e5d8d34-6e5b-42bb-85b5-0a99d192e4e6",
   "metadata": {},
   "outputs": [
    {
     "data": {
      "text/plain": [
       "\"To calculate the 95% confidence interval for a sample of data with a mean of 50 and a standard deviation of 5 usin python,we can use the 'stats' module from the 'scipy' library.\""
      ]
     },
     "execution_count": 1,
     "metadata": {},
     "output_type": "execute_result"
    }
   ],
   "source": [
    "#1.\n",
    "'''To calculate the 95% confidence interval for a sample of data with a mean of 50 and a standard deviation of 5 usin python,we can use the 'stats' module from the 'scipy' library.'''\n"
   ]
  },
  {
   "cell_type": "code",
   "execution_count": 2,
   "id": "2f4560a3-abe5-4da6-95b4-e83765cffd73",
   "metadata": {},
   "outputs": [
    {
     "name": "stdout",
     "output_type": "stream",
     "text": [
      "95% confidence interval: (49.01, 50.99)\n"
     ]
    }
   ],
   "source": [
    "from scipy import stats\n",
    "\n",
    "sample_mean = 50\n",
    "sample_std = 5\n",
    "sample_size = 100\n",
    "\n",
    "# Calculate the standard error\n",
    "se = sample_std / (sample_size ** 0.5)\n",
    "\n",
    "# Calculate the t-value for a 95% confidence level and 99 degrees of freedom\n",
    "t_value = stats.t.ppf(0.975, sample_size-1)\n",
    "\n",
    "# Calculate the margin of error\n",
    "margin_of_error = t_value * se\n",
    "\n",
    "# Calculate the confidence interval\n",
    "lower_ci = sample_mean - margin_of_error\n",
    "upper_ci = sample_mean + margin_of_error\n",
    "\n",
    "print(\"95% confidence interval: ({:.2f}, {:.2f})\".format(lower_ci, upper_ci))\n"
   ]
  },
  {
   "cell_type": "code",
   "execution_count": 7,
   "id": "899f1287-867d-4c82-9dbc-a202eeaf5f90",
   "metadata": {},
   "outputs": [
    {
     "name": "stdout",
     "output_type": "stream",
     "text": [
      "Chi-square statistic: 1.4000\n",
      "P-value: 0.9243\n",
      "Fail to reject the null hypothesis - the distribution of colors of M&Ms in the bag matches the expected distribution.\n"
     ]
    }
   ],
   "source": [
    "#2.\n",
    "from scipy import stats\n",
    "import numpy as np\n",
    "\n",
    "observed = np.array([23, 17, 19, 12, 10, 19])  # Observed counts of each color\n",
    "expected = np.array([0.2, 0.2, 0.2, 0.1, 0.1, 0.2]) * sum(observed)  # Expected counts of each color\n",
    "\n",
    "# Perform the chi-square goodness of fit test\n",
    "statistic, p_value = stats.chisquare(observed, expected)\n",
    "\n",
    "# Set the significance level\n",
    "alpha = 0.05\n",
    "\n",
    "# Print the results\n",
    "print(f\"Chi-square statistic: {statistic:.4f}\")\n",
    "print(f\"P-value: {p_value:.4f}\")\n",
    "\n",
    "if p_value < alpha:\n",
    "    print(\"Reject the null hypothesis - the distribution of colors of M&Ms in the bag does not match the expected distribution.\")\n",
    "else:\n",
    "    print(\"Fail to reject the null hypothesis - the distribution of colors of M&Ms in the bag matches the expected distribution.\")\n"
   ]
  },
  {
   "cell_type": "code",
   "execution_count": 9,
   "id": "b31a9b53-96db-4dc6-9f47-fcfe344241de",
   "metadata": {},
   "outputs": [
    {
     "name": "stdout",
     "output_type": "stream",
     "text": [
      "Chi-square statistic: 5.8333\n",
      "P-value: 0.0541\n",
      "Fail to reject the null hypothesis - there is no significant association between the two variables.\n"
     ]
    }
   ],
   "source": [
    "#3.\n",
    "from scipy import stats\n",
    "import numpy as np\n",
    "\n",
    "data = np.array([[20, 15],\n",
    "                 [10, 25],\n",
    "                 [15, 20]])\n",
    "\n",
    "# Perform the chi-square test\n",
    "statistic, p_value, dof, expected = stats.chi2_contingency(data)\n",
    "\n",
    "# Set the significance level\n",
    "alpha = 0.05\n",
    "\n",
    "# Print the results\n",
    "print(f\"Chi-square statistic: {statistic:.4f}\")\n",
    "print(f\"P-value: {p_value:.4f}\")\n",
    "\n",
    "if p_value < alpha:\n",
    "    print(\"Reject the null hypothesis - there is a significant association between the two variables.\")\n",
    "else:\n",
    "    print(\"Fail to reject the null hypothesis - there is no significant association between the two variables.\")\n"
   ]
  },
  {
   "cell_type": "code",
   "execution_count": 10,
   "id": "5de6505c-de8d-42db-9064-7da59cf814d5",
   "metadata": {},
   "outputs": [
    {
     "data": {
      "text/plain": [
       "'In this code, we first define the contingency table as a numpy array (data). We then perform the chi-square test using the chi2_contingency() function, which returns the chi-square statistic, the corresponding p-value, the degrees of freedom, and the expected frequencies based on the null hypothesis of independence.\\n\\nWe set the significance level to 0.05 and then print the results. Finally, we interpret the results by checking if the p-value is less than the significance level. If it is, we reject the null hypothesis and conclude that there is a significant association between the two variables. If the p-value is greater than the significance level, we fail to reject the null hypothesis and conclude that there is no significant association between the two variables.'"
      ]
     },
     "execution_count": 10,
     "metadata": {},
     "output_type": "execute_result"
    }
   ],
   "source": [
    "'''In this code, we first define the contingency table as a numpy array (data). We then perform the chi-square test using the chi2_contingency() function, which returns the chi-square statistic, the corresponding p-value, the degrees of freedom, and the expected frequencies based on the null hypothesis of independence.\n",
    "\n",
    "We set the significance level to 0.05 and then print the results. Finally, we interpret the results by checking if the p-value is less than the significance level. If it is, we reject the null hypothesis and conclude that there is a significant association between the two variables. If the p-value is greater than the significance level, we fail to reject the null hypothesis and conclude that there is no significant association between the two variables.'''"
   ]
  },
  {
   "cell_type": "code",
   "execution_count": 11,
   "id": "d88a680c-8d6e-4dbc-8de7-9f8a6360242a",
   "metadata": {},
   "outputs": [
    {
     "name": "stdout",
     "output_type": "stream",
     "text": [
      "The 95% confidence interval for the true proportion of individuals who smoke is (0.0915, 0.1485)\n"
     ]
    }
   ],
   "source": [
    "#4.\n",
    "from scipy.stats import norm\n",
    "import math\n",
    "\n",
    "# Sample size\n",
    "n = 500\n",
    "\n",
    "# Number of individuals who smoke\n",
    "x = 60\n",
    "\n",
    "# Sample proportion\n",
    "p = x / n\n",
    "\n",
    "# Z-score for 95% confidence level\n",
    "z = norm.ppf(0.975)\n",
    "\n",
    "# Calculate the margin of error\n",
    "margin_of_error = z * math.sqrt(p * (1 - p) / n)\n",
    "\n",
    "# Calculate the confidence interval\n",
    "lower_bound = p - margin_of_error\n",
    "upper_bound = p + margin_of_error\n",
    "\n",
    "# Print the result\n",
    "print(f\"The 95% confidence interval for the true proportion of individuals who smoke is ({lower_bound:.4f}, {upper_bound:.4f})\")\n"
   ]
  },
  {
   "cell_type": "code",
   "execution_count": 12,
   "id": "17392ef2-bcdd-48e3-8ac1-0f47bc782733",
   "metadata": {},
   "outputs": [
    {
     "name": "stdout",
     "output_type": "stream",
     "text": [
      "The 90% confidence interval is (73.0262, 76.9738)\n"
     ]
    }
   ],
   "source": [
    "#5.\n",
    "from scipy.stats import norm\n",
    "import math\n",
    "\n",
    "# Sample mean\n",
    "x_bar = 75\n",
    "\n",
    "# Population standard deviation\n",
    "sigma = 12\n",
    "\n",
    "# Sample size\n",
    "n = 100\n",
    "\n",
    "# Z-score for 90% confidence level\n",
    "z = norm.ppf(0.95)\n",
    "\n",
    "# Calculate the margin of error\n",
    "margin_of_error = z * (sigma / math.sqrt(n))\n",
    "\n",
    "# Calculate the confidence interval\n",
    "lower_bound = x_bar - margin_of_error\n",
    "upper_bound = x_bar + margin_of_error\n",
    "\n",
    "# Print the result\n",
    "print(f\"The 90% confidence interval is ({lower_bound:.4f}, {upper_bound:.4f})\")\n"
   ]
  },
  {
   "cell_type": "code",
   "execution_count": 13,
   "id": "f9d25241-59e2-4f82-99d6-daf9bcdbc9f1",
   "metadata": {},
   "outputs": [
    {
     "data": {
      "image/png": "[encoded data removed]",
      "text/plain": [
       "<Figure size 640x480 with 1 Axes>"
      ]
     },
     "metadata": {},
     "output_type": "display_data"
    }
   ],
   "source": [
    "#6.\n",
    "import numpy as np\n",
    "import matplotlib.pyplot as plt\n",
    "from scipy.stats import chi2\n",
    "\n",
    "# Define the degrees of freedom\n",
    "df = 10\n",
    "\n",
    "# Create an array of x-values\n",
    "x = np.linspace(0, 30, 200)\n",
    "\n",
    "# Plot the chi-square distribution\n",
    "plt.plot(x, chi2.pdf(x, df), 'b-', lw=2)\n",
    "\n",
    "# Shade the area corresponding to a chi-square statistic of 15\n",
    "x_fill = np.linspace(15, 30, 100)\n",
    "y_fill = chi2.pdf(x_fill, df)\n",
    "plt.fill_between(x_fill, y_fill, 0, color='grey', alpha=0.5)\n",
    "\n",
    "# Add labels to the plot\n",
    "plt.xlabel('Chi-square statistic')\n",
    "plt.ylabel('Probability density')\n",
    "plt.title('Chi-square Distribution (df=10)')\n",
    "\n",
    "# Show the plot\n",
    "plt.show()\n"
   ]
  },
  {
   "cell_type": "code",
   "execution_count": 22,
   "id": "378773fb-6538-4b72-b6b1-4e3fa49816b1",
   "metadata": {},
   "outputs": [
    {
     "name": "stdout",
     "output_type": "stream",
     "text": [
      "99% Confidence Interval: [0.4793, 0.5607]\n"
     ]
    }
   ],
   "source": [
    "#7.\n",
    "import math\n",
    "\n",
    "# Sample size\n",
    "n = 1000\n",
    "\n",
    "# Number of people who prefer Coke\n",
    "x = 520\n",
    "\n",
    "# Sample proportion\n",
    "p_hat = x / n\n",
    "\n",
    "# Z-score for a 99% confidence interval (two-tailed)\n",
    "z = 2.576\n",
    "\n",
    "# Standard error of the sample proportion\n",
    "SE = math.sqrt(p_hat*(1-p_hat)/n)\n",
    "\n",
    "# Compute the confidence interval\n",
    "lower = p_hat - z*SE\n",
    "upper = p_hat + z*SE\n",
    "\n",
    "# Print the results\n",
    "print(\"99% Confidence Interval: [{:.4f}, {:.4f}]\".format(lower, upper))\n"
   ]
  },
  {
   "cell_type": "code",
   "execution_count": 23,
   "id": "fadd4129-03e6-4f0e-9b39-81554ab73454",
   "metadata": {},
   "outputs": [
    {
     "data": {
      "text/plain": [
       "'chi2 = sum((observed - expected)^2 / expected)\\nwhere observed are the observed frequencies (in this case, 45 tails and 55 heads), expected are the expected frequencies (50 tails and 50 heads), and the sum is taken over all categories (in this case, just two categories: heads and tails). The resulting test statistic follows a chi-square distribution with one degree of freedom, since we have one parameter (the expected frequency of tails) that we estimate from the data.\\n\\nWe can use Python to calculate the test statistic and the p-value:'"
      ]
     },
     "execution_count": 23,
     "metadata": {},
     "output_type": "execute_result"
    }
   ],
   "source": [
    "#8.\n",
    "'''chi2 = sum((observed - expected)^2 / expected)\n",
    "where observed are the observed frequencies (in this case, 45 tails and 55 heads), expected are the expected frequencies (50 tails and 50 heads), and the sum is taken over all categories (in this case, just two categories: heads and tails). The resulting test statistic follows a chi-square distribution with one degree of freedom, since we have one parameter (the expected frequency of tails) that we estimate from the data.\n",
    "\n",
    "We can use Python to calculate the test statistic and the p-value:'''"
   ]
  },
  {
   "cell_type": "code",
   "execution_count": 16,
   "id": "cfc0f1ec-7b84-4620-bcd0-a6f667670aab",
   "metadata": {},
   "outputs": [
    {
     "name": "stdout",
     "output_type": "stream",
     "text": [
      "Chi-square test statistic: 1.0000\n",
      "p-value: 0.3173\n"
     ]
    }
   ],
   "source": [
    "import scipy.stats as stats\n",
    "\n",
    "# Observed frequencies\n",
    "observed = [45, 55]\n",
    "\n",
    "# Expected frequencies (under the null hypothesis)\n",
    "expected = [50, 50]\n",
    "\n",
    "# Calculate chi-square test statistic and p-value\n",
    "chi2, p_value = stats.chisquare(observed, expected)\n",
    "\n",
    "# Print results\n",
    "print(\"Chi-square test statistic: {:.4f}\".format(chi2))\n",
    "print(\"p-value: {:.4f}\".format(p_value))\n"
   ]
  },
  {
   "cell_type": "code",
   "execution_count": 24,
   "id": "ead8d4e7-72f2-40b5-89dd-f80427e78452",
   "metadata": {},
   "outputs": [
    {
     "name": "stdout",
     "output_type": "stream",
     "text": [
      "Chi-square test statistic: 12.0573\n",
      "p-value: 0.0005\n"
     ]
    }
   ],
   "source": [
    "#9.\n",
    "import scipy.stats as stats\n",
    "import numpy as np\n",
    "\n",
    "# Observed frequencies\n",
    "observed = np.array([[60, 140], [30, 170]])\n",
    "\n",
    "# Calculate chi-square test statistic and p-value\n",
    "chi2, p_value, dof, expected = stats.chi2_contingency(observed)\n",
    "\n",
    "# Print results\n",
    "print(\"Chi-square test statistic: {:.4f}\".format(chi2))\n",
    "print(\"p-value: {:.4f}\".format(p_value))\n"
   ]
  },
  {
   "cell_type": "code",
   "execution_count": 25,
   "id": "ded64a1c-a572-4995-a283-17613eb16524",
   "metadata": {},
   "outputs": [
    {
     "name": "stdout",
     "output_type": "stream",
     "text": [
      "Chi-square test statistic: 13.3937\n",
      "p-value: 0.0012\n"
     ]
    }
   ],
   "source": [
    "#10.\n",
    "import scipy.stats as stats\n",
    "import numpy as np\n",
    "\n",
    "# Observed frequencies\n",
    "observed = np.array([[200, 150, 150], [225, 175, 100]])\n",
    "\n",
    "# Calculate chi-square test statistic and p-value\n",
    "chi2, p_value, dof, expected = stats.chi2_contingency(observed)\n",
    "\n",
    "# Print results\n",
    "print(\"Chi-square test statistic: {:.4f}\".format(chi2))\n",
    "print(\"p-value: {:.4f}\".format(p_value))\n"
   ]
  },
  {
   "cell_type": "code",
   "execution_count": 26,
   "id": "d118c247-3495-463b-ab3e-aa00c058bde4",
   "metadata": {},
   "outputs": [
    {
     "name": "stdout",
     "output_type": "stream",
     "text": [
      "t-test statistic: 1.3330\n",
      "p-value: 0.1929\n"
     ]
    }
   ],
   "source": [
    "#11.\n",
    "import scipy.stats as stats\n",
    "import numpy as np\n",
    "\n",
    "# Sample statistics\n",
    "n = 30\n",
    "sample_mean = 72\n",
    "sample_std = 10\n",
    "\n",
    "# Null hypothesis\n",
    "null_mean = 70\n",
    "\n",
    "# Calculate t-test statistic and p-value\n",
    "t_stat, p_value = stats.ttest_1samp(np.random.normal(sample_mean, sample_std, n), null_mean)\n",
    "\n",
    "# Print results\n",
    "print(\"t-test statistic: {:.4f}\".format(t_stat))\n",
    "print(\"p-value: {:.4f}\".format(p_value))\n"
   ]
  },
  {
   "cell_type": "code",
   "execution_count": null,
   "id": "0ec75a8f-bd5f-42e3-8fb7-5423bc7012e9",
   "metadata": {},
   "outputs": [],
   "source": []
  }
 ],
 "metadata": {
  "kernelspec": {
   "display_name": "Python 3 (ipykernel)",
   "language": "python",
   "name": "python3"
  },
  "language_info": {
   "codemirror_mode": {
    "name": "ipython",
    "version": 3
   },
   "file_extension": ".py",
   "mimetype": "text/x-python",
   "name": "python",
   "nbconvert_exporter": "python",
   "pygments_lexer": "ipython3",
   "version": "3.10.8"
  }
 },
 "nbformat": 4,
 "nbformat_minor": 5
}
