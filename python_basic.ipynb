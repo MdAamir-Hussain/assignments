{
 "cells": [
  {
   "cell_type": "code",
   "execution_count": 5,
   "id": "d4050acb-fbf0-4689-96aa-96578f9b1288",
   "metadata": {},
   "outputs": [
    {
     "data": {
      "text/plain": [
       "2"
      ]
     },
     "execution_count": 5,
     "metadata": {},
     "output_type": "execute_result"
    }
   ],
   "source": [
    "1+1"
   ]
  },
  {
   "cell_type": "code",
   "execution_count": 6,
   "id": "8d348cf7-290c-40d2-adb7-4e77f49b8b96",
   "metadata": {},
   "outputs": [
    {
     "data": {
      "text/plain": [
       "25"
      ]
     },
     "execution_count": 6,
     "metadata": {},
     "output_type": "execute_result"
    }
   ],
   "source": [
    "5*5"
   ]
  },
  {
   "cell_type": "code",
   "execution_count": null,
   "id": "40c1a1fd-abf5-473d-88bf-4187d3a4695b",
   "metadata": {},
   "outputs": [],
   "source": [
    "a=10"
   ]
  },
  {
   "cell_type": "code",
   "execution_count": 8,
   "id": "f2feac5c-3855-4f46-a83b-00467617f27f",
   "metadata": {},
   "outputs": [
    {
     "data": {
      "text/plain": [
       "10"
      ]
     },
     "execution_count": 8,
     "metadata": {},
     "output_type": "execute_result"
    }
   ],
   "source": [
    "a"
   ]
  },
  {
   "cell_type": "code",
   "execution_count": 9,
   "id": "5865da74-5ee8-4673-a3b7-a70cea52a9ab",
   "metadata": {},
   "outputs": [],
   "source": [
    "aamir=30"
   ]
  },
  {
   "cell_type": "code",
   "execution_count": 10,
   "id": "293501a6-e5c5-4976-aa6c-d1552780a930",
   "metadata": {},
   "outputs": [
    {
     "data": {
      "text/plain": [
       "30"
      ]
     },
     "execution_count": 10,
     "metadata": {},
     "output_type": "execute_result"
    }
   ],
   "source": [
    "aamir"
   ]
  },
  {
   "cell_type": "code",
   "execution_count": 11,
   "id": "d9ec5e91-50d6-4c46-90b9-6d8d93aed50b",
   "metadata": {},
   "outputs": [
    {
     "data": {
      "text/plain": [
       "40"
      ]
     },
     "execution_count": 11,
     "metadata": {},
     "output_type": "execute_result"
    }
   ],
   "source": [
    "a+aamir"
   ]
  },
  {
   "cell_type": "code",
   "execution_count": 12,
   "id": "ec201505-a8f4-49b9-a25f-5107626dbb9e",
   "metadata": {},
   "outputs": [
    {
     "data": {
      "text/plain": [
       "int"
      ]
     },
     "execution_count": 12,
     "metadata": {},
     "output_type": "execute_result"
    }
   ],
   "source": [
    "type(a)"
   ]
  },
  {
   "cell_type": "code",
   "execution_count": 13,
   "id": "7ee3cf54-ba32-426c-9ac0-544068cebe1e",
   "metadata": {
    "tags": []
   },
   "outputs": [
    {
     "data": {
      "text/plain": [
       "int"
      ]
     },
     "execution_count": 13,
     "metadata": {},
     "output_type": "execute_result"
    }
   ],
   "source": [
    "type(aamir)"
   ]
  },
  {
   "cell_type": "code",
   "execution_count": 14,
   "id": "83359d34-8059-4bdd-a9e2-0d7cae6afc28",
   "metadata": {},
   "outputs": [],
   "source": [
    "b=2.09"
   ]
  },
  {
   "cell_type": "code",
   "execution_count": 15,
   "id": "53cf8d6f-8f4e-4db4-a28c-9f9c0bac36d0",
   "metadata": {},
   "outputs": [
    {
     "data": {
      "text/plain": [
       "2.09"
      ]
     },
     "execution_count": 15,
     "metadata": {},
     "output_type": "execute_result"
    }
   ],
   "source": [
    "b"
   ]
  },
  {
   "cell_type": "code",
   "execution_count": 16,
   "id": "166dfd12-996e-4c8b-9866-9c1eb83f2462",
   "metadata": {},
   "outputs": [
    {
     "data": {
      "text/plain": [
       "float"
      ]
     },
     "execution_count": 16,
     "metadata": {},
     "output_type": "execute_result"
    }
   ],
   "source": [
    "type(b)"
   ]
  },
  {
   "cell_type": "code",
   "execution_count": 17,
   "id": "434099a7-5fed-4655-9130-04ef5b1f76ae",
   "metadata": {},
   "outputs": [],
   "source": [
    "c=45.23232"
   ]
  },
  {
   "cell_type": "code",
   "execution_count": 18,
   "id": "91285414-65f5-4c0b-9bcf-d001432af4b9",
   "metadata": {},
   "outputs": [
    {
     "data": {
      "text/plain": [
       "45.23232"
      ]
     },
     "execution_count": 18,
     "metadata": {},
     "output_type": "execute_result"
    }
   ],
   "source": [
    "c"
   ]
  },
  {
   "cell_type": "code",
   "execution_count": 19,
   "id": "9f59dd27-cf44-4876-942b-e5e9af2c0e8f",
   "metadata": {},
   "outputs": [
    {
     "data": {
      "text/plain": [
       "float"
      ]
     },
     "execution_count": 19,
     "metadata": {},
     "output_type": "execute_result"
    }
   ],
   "source": [
    "type(c)"
   ]
  },
  {
   "cell_type": "code",
   "execution_count": 20,
   "id": "dea4a420-0abb-4653-ae8b-4502b0666ab9",
   "metadata": {},
   "outputs": [],
   "source": [
    "d=\"aamir\""
   ]
  },
  {
   "cell_type": "code",
   "execution_count": 21,
   "id": "2cc989c1-2dbd-437d-b1bd-5dead0d73527",
   "metadata": {},
   "outputs": [
    {
     "data": {
      "text/plain": [
       "str"
      ]
     },
     "execution_count": 21,
     "metadata": {},
     "output_type": "execute_result"
    }
   ],
   "source": [
    "type(d)"
   ]
  },
  {
   "cell_type": "code",
   "execution_count": 22,
   "id": "f1f47d22-b04c-4cab-8f7e-9a473c8098fc",
   "metadata": {},
   "outputs": [],
   "source": [
    "e='this is my first tech class'"
   ]
  },
  {
   "cell_type": "code",
   "execution_count": 23,
   "id": "215d1980-4984-40e1-bcb6-fd7558f6d850",
   "metadata": {},
   "outputs": [
    {
     "data": {
      "text/plain": [
       "str"
      ]
     },
     "execution_count": 23,
     "metadata": {},
     "output_type": "execute_result"
    }
   ],
   "source": [
    "type(e)"
   ]
  },
  {
   "cell_type": "code",
   "execution_count": 24,
   "id": "8fae49f2-d167-423f-ae32-d7f00b128010",
   "metadata": {},
   "outputs": [],
   "source": [
    "n=True"
   ]
  },
  {
   "cell_type": "code",
   "execution_count": 25,
   "id": "d58fedba-3aa0-4104-9a09-8ab56ed4a45c",
   "metadata": {},
   "outputs": [
    {
     "data": {
      "text/plain": [
       "bool"
      ]
     },
     "execution_count": 25,
     "metadata": {},
     "output_type": "execute_result"
    }
   ],
   "source": [
    "type(n)"
   ]
  },
  {
   "cell_type": "code",
   "execution_count": 26,
   "id": "01c97b8a-ab8d-4718-82c0-9ba08f95b414",
   "metadata": {},
   "outputs": [],
   "source": [
    "m=False"
   ]
  },
  {
   "cell_type": "code",
   "execution_count": 27,
   "id": "81026a36-6908-4905-b723-43d734cc9edc",
   "metadata": {},
   "outputs": [
    {
     "data": {
      "text/plain": [
       "bool"
      ]
     },
     "execution_count": 27,
     "metadata": {},
     "output_type": "execute_result"
    }
   ],
   "source": [
    "type(m)"
   ]
  },
  {
   "cell_type": "code",
   "execution_count": 28,
   "id": "309c413a-44a5-4694-a8bc-7f4cde8d9dfd",
   "metadata": {},
   "outputs": [
    {
     "data": {
      "text/plain": [
       "1"
      ]
     },
     "execution_count": 28,
     "metadata": {},
     "output_type": "execute_result"
    }
   ],
   "source": [
    "n+m"
   ]
  },
  {
   "cell_type": "code",
   "execution_count": 29,
   "id": "501cb3f1-fc2d-4169-af26-3a42bf05faef",
   "metadata": {},
   "outputs": [
    {
     "data": {
      "text/plain": [
       "0"
      ]
     },
     "execution_count": 29,
     "metadata": {},
     "output_type": "execute_result"
    }
   ],
   "source": [
    "n*m"
   ]
  },
  {
   "cell_type": "code",
   "execution_count": 30,
   "id": "70a43281-f146-4f66-87b1-a99614a9c975",
   "metadata": {},
   "outputs": [
    {
     "ename": "ZeroDivisionError",
     "evalue": "division by zero",
     "output_type": "error",
     "traceback": [
      "\u001b[0;31m---------------------------------------------------------------------------\u001b[0m",
      "\u001b[0;31mZeroDivisionError\u001b[0m                         Traceback (most recent call last)",
      "Cell \u001b[0;32mIn[30], line 1\u001b[0m\n\u001b[0;32m----> 1\u001b[0m \u001b[43mn\u001b[49m\u001b[38;5;241;43m/\u001b[39;49m\u001b[43mm\u001b[49m\n",
      "\u001b[0;31mZeroDivisionError\u001b[0m: division by zero"
     ]
    }
   ],
   "source": [
    "n/m"
   ]
  },
  {
   "cell_type": "code",
   "execution_count": 31,
   "id": "f0e72285-929f-4420-bcfb-2c987df14d56",
   "metadata": {},
   "outputs": [
    {
     "data": {
      "text/plain": [
       "1"
      ]
     },
     "execution_count": 31,
     "metadata": {},
     "output_type": "execute_result"
    }
   ],
   "source": [
    "True*True"
   ]
  },
  {
   "cell_type": "code",
   "execution_count": 32,
   "id": "c5d7ecae-5a63-4654-b0c9-806a84d9c5a4",
   "metadata": {},
   "outputs": [],
   "source": [
    "com=5+8j"
   ]
  },
  {
   "cell_type": "code",
   "execution_count": 33,
   "id": "f93ef969-1f6e-435c-8d38-94f5a544d8bb",
   "metadata": {},
   "outputs": [
    {
     "data": {
      "text/plain": [
       "complex"
      ]
     },
     "execution_count": 33,
     "metadata": {},
     "output_type": "execute_result"
    }
   ],
   "source": [
    "type(com)"
   ]
  },
  {
   "cell_type": "code",
   "execution_count": 34,
   "id": "79a56e65-b3db-4234-a51b-c885b9425e14",
   "metadata": {},
   "outputs": [
    {
     "data": {
      "text/plain": [
       "5.0"
      ]
     },
     "execution_count": 34,
     "metadata": {},
     "output_type": "execute_result"
    }
   ],
   "source": [
    "com.real"
   ]
  },
  {
   "cell_type": "code",
   "execution_count": 35,
   "id": "4f9fabcb-f979-4c34-8f71-034a02303417",
   "metadata": {},
   "outputs": [
    {
     "data": {
      "text/plain": [
       "8.0"
      ]
     },
     "execution_count": 35,
     "metadata": {},
     "output_type": "execute_result"
    }
   ],
   "source": [
    "com.imag"
   ]
  },
  {
   "cell_type": "code",
   "execution_count": 36,
   "id": "df01e3c4-da3b-4734-9682-70ad6d8a4499",
   "metadata": {},
   "outputs": [
    {
     "name": "stdout",
     "output_type": "stream",
     "text": [
      "my name is aamir_hussain\n"
     ]
    }
   ],
   "source": [
    "print(\"my name is aamir_hussain\")"
   ]
  },
  {
   "cell_type": "code",
   "execution_count": 37,
   "id": "38ebc0ff-002a-4ebb-bc89-3c2ac917a3d9",
   "metadata": {},
   "outputs": [
    {
     "name": "stdout",
     "output_type": "stream",
     "text": [
      "(5+8j)\n"
     ]
    }
   ],
   "source": [
    "print(com)"
   ]
  },
  {
   "cell_type": "code",
   "execution_count": 38,
   "id": "0ab55414-7a6a-4bd0-bc3a-e1ce82f05c5a",
   "metadata": {},
   "outputs": [],
   "source": [
    "s=\"aamirhussain\""
   ]
  },
  {
   "cell_type": "code",
   "execution_count": 39,
   "id": "99a882bb-6ea4-4fbc-9256-56c4b77a09e8",
   "metadata": {},
   "outputs": [
    {
     "data": {
      "text/plain": [
       "'r'"
      ]
     },
     "execution_count": 39,
     "metadata": {},
     "output_type": "execute_result"
    }
   ],
   "source": [
    "s[4]"
   ]
  },
  {
   "cell_type": "code",
   "execution_count": 40,
   "id": "8d12db75-cb02-4c1f-b1dc-232910663391",
   "metadata": {},
   "outputs": [
    {
     "data": {
      "text/plain": [
       "'n'"
      ]
     },
     "execution_count": 40,
     "metadata": {},
     "output_type": "execute_result"
    }
   ],
   "source": [
    "s[-1]"
   ]
  },
  {
   "cell_type": "code",
   "execution_count": 41,
   "id": "a2c67b24-284d-452c-8a5d-48534cf5a213",
   "metadata": {},
   "outputs": [
    {
     "data": {
      "text/plain": [
       "'a'"
      ]
     },
     "execution_count": 41,
     "metadata": {},
     "output_type": "execute_result"
    }
   ],
   "source": [
    "s[-11]"
   ]
  },
  {
   "cell_type": "code",
   "execution_count": 42,
   "id": "97eaeea1-c5d4-4b39-9c48-8e1ebbb22ff7",
   "metadata": {},
   "outputs": [
    {
     "data": {
      "text/plain": [
       "'aam'"
      ]
     },
     "execution_count": 42,
     "metadata": {},
     "output_type": "execute_result"
    }
   ],
   "source": [
    "s[0:3]"
   ]
  },
  {
   "cell_type": "code",
   "execution_count": 43,
   "id": "f48593eb-4666-445a-9d11-75ae8fbb1017",
   "metadata": {},
   "outputs": [
    {
     "data": {
      "text/plain": [
       "'aamir'"
      ]
     },
     "execution_count": 43,
     "metadata": {},
     "output_type": "execute_result"
    }
   ],
   "source": [
    "s[0:5]"
   ]
  },
  {
   "cell_type": "code",
   "execution_count": 44,
   "id": "b25852d6-4654-428d-9304-091077d0923b",
   "metadata": {},
   "outputs": [
    {
     "data": {
      "text/plain": [
       "'amrusi'"
      ]
     },
     "execution_count": 44,
     "metadata": {},
     "output_type": "execute_result"
    }
   ],
   "source": [
    "s[0:11:2]"
   ]
  },
  {
   "cell_type": "code",
   "execution_count": 45,
   "id": "5b8af30d-1b22-4284-b954-7d989533a19b",
   "metadata": {},
   "outputs": [
    {
     "data": {
      "text/plain": [
       "'niassuhrimaa'"
      ]
     },
     "execution_count": 45,
     "metadata": {},
     "output_type": "execute_result"
    }
   ],
   "source": [
    "s[::-1]"
   ]
  },
  {
   "cell_type": "code",
   "execution_count": 46,
   "id": "ba44fd2a-590d-4390-90df-abe2a546ffd5",
   "metadata": {},
   "outputs": [
    {
     "data": {
      "text/plain": [
       "''"
      ]
     },
     "execution_count": 46,
     "metadata": {},
     "output_type": "execute_result"
    }
   ],
   "source": [
    "s[2:11:-1]"
   ]
  },
  {
   "cell_type": "code",
   "execution_count": 47,
   "id": "057c8945-ee25-41c0-b9b2-7e85e6aff77d",
   "metadata": {},
   "outputs": [
    {
     "data": {
      "text/plain": [
       "''"
      ]
     },
     "execution_count": 47,
     "metadata": {},
     "output_type": "execute_result"
    }
   ],
   "source": [
    "s[11:0]"
   ]
  },
  {
   "cell_type": "code",
   "execution_count": 48,
   "id": "b92119f0-592c-48a7-8f86-71a4d69bb058",
   "metadata": {},
   "outputs": [
    {
     "data": {
      "text/plain": [
       "''"
      ]
     },
     "execution_count": 48,
     "metadata": {},
     "output_type": "execute_result"
    }
   ],
   "source": [
    "s[11:-1:-1]"
   ]
  },
  {
   "cell_type": "code",
   "execution_count": 49,
   "id": "14d6da48-7784-4a21-a235-04e72959ced6",
   "metadata": {},
   "outputs": [
    {
     "data": {
      "text/plain": [
       "'niassuhrima'"
      ]
     },
     "execution_count": 49,
     "metadata": {},
     "output_type": "execute_result"
    }
   ],
   "source": [
    "s[11:0:-1]"
   ]
  },
  {
   "cell_type": "code",
   "execution_count": 50,
   "id": "123bd20e-5ca4-4ee5-9e61-ae32ec8c08b7",
   "metadata": {},
   "outputs": [
    {
     "data": {
      "text/plain": [
       "'niassuhrima'"
      ]
     },
     "execution_count": 50,
     "metadata": {},
     "output_type": "execute_result"
    }
   ],
   "source": [
    "s[12:0:-1]"
   ]
  },
  {
   "cell_type": "code",
   "execution_count": 51,
   "id": "a7c2d7f6-1de6-430d-bc98-2911d9a2daa1",
   "metadata": {},
   "outputs": [
    {
     "data": {
      "text/plain": [
       "'niassuhrimaa'"
      ]
     },
     "execution_count": 51,
     "metadata": {},
     "output_type": "execute_result"
    }
   ],
   "source": [
    "s[::-1]"
   ]
  },
  {
   "cell_type": "code",
   "execution_count": 52,
   "id": "8f5229f1-37d6-4aa3-a713-002d9138bcec",
   "metadata": {},
   "outputs": [
    {
     "data": {
      "text/plain": [
       "'aamirhussain'"
      ]
     },
     "execution_count": 52,
     "metadata": {},
     "output_type": "execute_result"
    }
   ],
   "source": [
    "s[::]"
   ]
  },
  {
   "cell_type": "code",
   "execution_count": 3,
   "id": "a4a34bb9-e892-40fc-9935-3171c7313b7a",
   "metadata": {},
   "outputs": [
    {
     "data": {
      "text/plain": [
       "True"
      ]
     },
     "execution_count": 3,
     "metadata": {},
     "output_type": "execute_result"
    }
   ],
   "source": [
    "'pwskills'.upper().lower().isalnum()"
   ]
  },
  {
   "cell_type": "code",
   "execution_count": 1,
   "id": "78f6cb82-a225-4789-a322-30e08ed13c64",
   "metadata": {},
   "outputs": [],
   "source": [
    "s=\"aamir hussain\""
   ]
  },
  {
   "cell_type": "code",
   "execution_count": 2,
   "id": "9dad3e2f-a39a-48de-82d0-99c038d5e9f0",
   "metadata": {},
   "outputs": [
    {
     "data": {
      "text/plain": [
       "13"
      ]
     },
     "execution_count": 2,
     "metadata": {},
     "output_type": "execute_result"
    }
   ],
   "source": [
    "len(s)"
   ]
  },
  {
   "cell_type": "code",
   "execution_count": 3,
   "id": "dcfb5329-db1d-4966-80fa-39e4bc25659d",
   "metadata": {},
   "outputs": [
    {
     "data": {
      "text/plain": [
       "6"
      ]
     },
     "execution_count": 3,
     "metadata": {},
     "output_type": "execute_result"
    }
   ],
   "source": [
    "s.find('h')"
   ]
  },
  {
   "cell_type": "code",
   "execution_count": 4,
   "id": "2d98b781-f043-4d18-86d0-ba8c2fadbf0e",
   "metadata": {},
   "outputs": [
    {
     "data": {
      "text/plain": [
       "6"
      ]
     },
     "execution_count": 4,
     "metadata": {},
     "output_type": "execute_result"
    }
   ],
   "source": [
    "s.find(\"hu\")"
   ]
  },
  {
   "cell_type": "code",
   "execution_count": 6,
   "id": "b99dbeeb-1815-4544-b726-6826526c4929",
   "metadata": {},
   "outputs": [
    {
     "data": {
      "text/plain": [
       "-1"
      ]
     },
     "execution_count": 6,
     "metadata": {},
     "output_type": "execute_result"
    }
   ],
   "source": [
    "s.find(\"Hu\")"
   ]
  },
  {
   "cell_type": "code",
   "execution_count": 7,
   "id": "f159db3c-a2ab-4733-8fa9-5feca08c942c",
   "metadata": {},
   "outputs": [
    {
     "data": {
      "text/plain": [
       "3"
      ]
     },
     "execution_count": 7,
     "metadata": {},
     "output_type": "execute_result"
    }
   ],
   "source": [
    "s.count('a')"
   ]
  },
  {
   "cell_type": "code",
   "execution_count": 9,
   "id": "adfe82fd-52a3-4461-ac52-22bdb28bd260",
   "metadata": {},
   "outputs": [
    {
     "data": {
      "text/plain": [
       "0"
      ]
     },
     "execution_count": 9,
     "metadata": {},
     "output_type": "execute_result"
    }
   ],
   "source": [
    "s.count('z')"
   ]
  },
  {
   "cell_type": "code",
   "execution_count": 10,
   "id": "948a54c5-8f0e-4f83-80b1-9132effc4830",
   "metadata": {},
   "outputs": [
    {
     "data": {
      "text/plain": [
       "'AAMIR HUSSAIN'"
      ]
     },
     "execution_count": 10,
     "metadata": {},
     "output_type": "execute_result"
    }
   ],
   "source": [
    "s.upper()"
   ]
  },
  {
   "cell_type": "code",
   "execution_count": 11,
   "id": "95183c5a-ab0d-46dc-a9f8-0e95b3fe2f91",
   "metadata": {},
   "outputs": [
    {
     "data": {
      "text/plain": [
       "'aamir hussain'"
      ]
     },
     "execution_count": 11,
     "metadata": {},
     "output_type": "execute_result"
    }
   ],
   "source": [
    "s.lower()"
   ]
  },
  {
   "cell_type": "code",
   "execution_count": 12,
   "id": "c955d160-579c-4ecc-936e-bcf0bcd7a986",
   "metadata": {},
   "outputs": [
    {
     "data": {
      "text/plain": [
       "'aamir hussain'"
      ]
     },
     "execution_count": 12,
     "metadata": {},
     "output_type": "execute_result"
    }
   ],
   "source": [
    "s"
   ]
  },
  {
   "cell_type": "code",
   "execution_count": 13,
   "id": "c71f8f85-60ea-4764-bf68-9c21cd30f44e",
   "metadata": {},
   "outputs": [
    {
     "data": {
      "text/plain": [
       "'Aamir Hussain'"
      ]
     },
     "execution_count": 13,
     "metadata": {},
     "output_type": "execute_result"
    }
   ],
   "source": [
    "s.title()"
   ]
  },
  {
   "cell_type": "code",
   "execution_count": 14,
   "id": "e1cdb2c1-9fac-4b78-ade8-d513ac4df267",
   "metadata": {},
   "outputs": [
    {
     "data": {
      "text/plain": [
       "'Aamir hussain'"
      ]
     },
     "execution_count": 14,
     "metadata": {},
     "output_type": "execute_result"
    }
   ],
   "source": [
    "s.capitalize()"
   ]
  },
  {
   "cell_type": "code",
   "execution_count": 15,
   "id": "d13bad93-c86d-49da-870b-e279660f139b",
   "metadata": {},
   "outputs": [
    {
     "data": {
      "text/plain": [
       "'aamir hussain11'"
      ]
     },
     "execution_count": 15,
     "metadata": {},
     "output_type": "execute_result"
    }
   ],
   "source": [
    "s+str(11)"
   ]
  }
 ],
 "metadata": {
  "kernelspec": {
   "display_name": "Python 3 (ipykernel)",
   "language": "python",
   "name": "python3"
  },
  "language_info": {
   "codemirror_mode": {
    "name": "ipython",
    "version": 3
   },
   "file_extension": ".py",
   "mimetype": "text/x-python",
   "name": "python",
   "nbconvert_exporter": "python",
   "pygments_lexer": "ipython3",
   "version": "3.10.8"
  }
 },
 "nbformat": 4,
 "nbformat_minor": 5
}
