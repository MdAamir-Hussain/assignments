{
 "cells": [
  {
   "cell_type": "code",
   "execution_count": 1,
   "id": "b6894622-896c-4b96-8bcf-6899d2aec639",
   "metadata": {},
   "outputs": [],
   "source": [
    "#1.\n",
    "def check_password(password):\n",
    "    import re\n",
    "\n",
    "    if len(password) != 10:\n",
    "        return \"Invalid Password\"\n",
    "    \n",
    "    upper_case_count = len(re.findall(r'[A-Z]', password))\n",
    "    lower_case_count = len(re.findall(r'[a-z]', password))\n",
    "    number_count = len(re.findall(r'[0-9]', password))\n",
    "    special_char_count = len(re.findall(r'[!@#$%^&*]', password))\n",
    "    \n",
    "    if upper_case_count < 2 or lower_case_count < 2 or number_count < 1 or special_char_count < 3:\n",
    "        return \"Invalid Password\"\n",
    "    \n",
    "    return \"Valid Password\"\n"
   ]
  },
  {
   "cell_type": "code",
   "execution_count": 2,
   "id": "2799e3c9-d824-4a52-b499-cc818dde230e",
   "metadata": {},
   "outputs": [
    {
     "name": "stdout",
     "output_type": "stream",
     "text": [
      "Invalid Password\n"
     ]
    }
   ],
   "source": [
    "password = \"Abcde@$1\"\n",
    "result = check_password(password)\n",
    "print(result)\n"
   ]
  },
  {
   "cell_type": "code",
   "execution_count": null,
   "id": "edc4f385-2eeb-4bd0-aa53-b84377a7a508",
   "metadata": {},
   "outputs": [],
   "source": [
    "#2nd question answer below"
   ]
  },
  {
   "cell_type": "code",
   "execution_count": 1,
   "id": "f55aa30f-def0-4527-8b9f-0d3ac522236d",
   "metadata": {},
   "outputs": [
    {
     "name": "stdout",
     "output_type": "stream",
     "text": [
      "True\n",
      "False\n"
     ]
    }
   ],
   "source": [
    "#. Check if the string starts with a particular letter:\n",
    "def check_start_letter(string, letter):\n",
    "    return True if string.startswith(letter) else False\n",
    "\n",
    "print(check_start_letter(\"Hello World!\", \"H\")) # True\n",
    "print(check_start_letter(\"Hello World!\", \"h\")) # False\n",
    "\n",
    "\n"
   ]
  },
  {
   "cell_type": "code",
   "execution_count": 4,
   "id": "5692491b-2930-4451-8fed-56645c4d678f",
   "metadata": {},
   "outputs": [
    {
     "name": "stdout",
     "output_type": "stream",
     "text": [
      "True\n",
      "False\n"
     ]
    }
   ],
   "source": [
    "#Check if the string is numeric:\n",
    "def check_numeric(string):\n",
    "    return string.isnumeric()\n",
    "\n",
    "print(check_numeric(\"12345\")) # True\n",
    "print(check_numeric(\"abcde\")) # False\n",
    "\n"
   ]
  },
  {
   "cell_type": "code",
   "execution_count": 3,
   "id": "c862f503-c877-4803-8455-17a3e9052907",
   "metadata": {},
   "outputs": [
    {
     "name": "stdout",
     "output_type": "stream",
     "text": [
      "[('orange', 80), ('mango', 99), ('grapes', 1000)]\n"
     ]
    }
   ],
   "source": [
    "#Sort a list of tuples having fruit names and their quantity:\n",
    "def sort_fruit_list(fruits_list):\n",
    "    return sorted(fruits_list, key=lambda x: x[1])\n",
    "\n",
    "print(sort_fruit_list([(\"mango\", 99), (\"orange\", 80), (\"grapes\", 1000)])) # [(\"orange\", 80), (\"mango\", 99), (\"grapes\", 1000)]\n"
   ]
  },
  {
   "cell_type": "code",
   "execution_count": 2,
   "id": "e0b786ca-d913-47c6-a653-21e49f753d33",
   "metadata": {},
   "outputs": [
    {
     "name": "stdout",
     "output_type": "stream",
     "text": [
      "[1, 4, 9, 16, 25, 36, 49, 64, 81, 100]\n"
     ]
    }
   ],
   "source": [
    "#ind the squares of numbers from 1 to 10:\n",
    "def square_numbers(numbers):\n",
    "    return [x**2 for x in numbers]\n",
    "\n",
    "print(square_numbers(range(1, 11))) # [1, 4, 9, 16, 25, 36, 49, 64, 81, 100]\n",
    "\n"
   ]
  },
  {
   "cell_type": "code",
   "execution_count": 5,
   "id": "7f19b463-1886-4043-a065-df83f96eb509",
   "metadata": {},
   "outputs": [
    {
     "name": "stdout",
     "output_type": "stream",
     "text": [
      "[1.0, 1.2599210498948732, 1.4422495703074083, 1.5874010519681994, 1.7099759466766968, 1.8171205928321397, 1.912931182772389, 2.0, 2.080083823051904, 2.154434690031884]\n"
     ]
    }
   ],
   "source": [
    "#Find the cube root of numbers from 1 to 10:\n",
    "import math\n",
    "def cube_root_numbers(numbers):\n",
    "    return [math.pow(x, 1/3) for x in numbers]\n",
    "\n",
    "print(cube_root_numbers(range(1, 11))) # [1.0, 1.2599210498948732, 1.442249570307408, 1.5874010519681994, 1.7099759466766968, 1.8171205928321397, 1.912931182772389, 2.0, 2.080083823051904, 2.154434690031884]\n"
   ]
  },
  {
   "cell_type": "code",
   "execution_count": 6,
   "id": "205543f5-3b6c-462f-9e6d-5e6b8d9ab57b",
   "metadata": {},
   "outputs": [
    {
     "name": "stdout",
     "output_type": "stream",
     "text": [
      "True\n",
      "False\n"
     ]
    }
   ],
   "source": [
    "#Check if a given number is even:\n",
    "def is_even(number):\n",
    "    return True if number % 2 == 0 else False\n",
    "\n",
    "print(is_even(4)) # True\n",
    "print(is_even(5)) # False\n",
    "\n"
   ]
  },
  {
   "cell_type": "code",
   "execution_count": 7,
   "id": "04af1696-a672-495f-a46f-899122183b94",
   "metadata": {},
   "outputs": [
    {
     "name": "stdout",
     "output_type": "stream",
     "text": [
      "[1, 3, 5, 7, 9]\n"
     ]
    }
   ],
   "source": [
    "#Filter odd numbers from the given list:\n",
    "def filter_odd_numbers(numbers):\n",
    "    return list(filter(lambda x: x % 2 != 0, numbers))\n",
    "\n",
    "print(filter_odd_numbers(range(1, 11))) # [1, 3, 5, 7, 9]\n"
   ]
  },
  {
   "cell_type": "code",
   "execution_count": 8,
   "id": "08c72d62-0401-4d02-8a0f-e98894bd57ec",
   "metadata": {},
   "outputs": [
    {
     "name": "stdout",
     "output_type": "stream",
     "text": [
      "([1, 2, 3, 4, 5, 6], [-1, -2, -3, -4, -5])\n"
     ]
    }
   ],
   "source": [
    "#Sort a list of integers into positive and negative integers lists:\n",
    "def sort_integers(numbers):\n",
    "    positive_numbers = list(filter(lambda x: x > 0, numbers))\n",
    "    negative_numbers = list(filter(lambda x: x < 0, numbers))\n",
    "    return positive_numbers, negative_numbers\n",
    "\n",
    "print(sort_integers([1, 2, 3, 4, 5, 6, -1, -2, -3, -4, -5, 0])) # ([1, 2, 3, 4, 5, 6], [-\n"
   ]
  },
  {
   "cell_type": "code",
   "execution_count": 9,
   "id": "6ef1f856-e148-43ff-a3a2-7b4ef86ff193",
   "metadata": {},
   "outputs": [],
   "source": [
    "import re\n",
    "\n",
    "def check_password(password):\n",
    "    # Check length of password\n",
    "    if len(password) != 10:\n",
    "        return \"Invalid Password\"\n",
    "\n",
    "    # Check for at least two uppercase letters and two lowercase letters\n",
    "    upper_count = sum(1 for c in password if c.isupper())\n",
    "    lower_count = sum(1 for c in password if c.islower())\n",
    "    if upper_count < 2 or lower_count < 2:\n",
    "        return \"Invalid Password\"\n",
    "\n",
    "    # Check for at least a number and three special characters\n",
    "    number_count = sum(1 for c in password if c.isdigit())\n",
    "    special_char_count = len(re.findall(r'[^a-zA-Z0-9]', password))\n",
    "    if number_count < 1 or special_char_count < 3:\n",
    "        return \"Invalid Password\"\n",
    "\n",
    "    # Password is valid\n",
    "    return \"Valid Password\"\n"
   ]
  },
  {
   "cell_type": "code",
   "execution_count": null,
   "id": "ae0f320f-7f7f-4306-86e1-086486764b2b",
   "metadata": {},
   "outputs": [],
   "source": []
  }
 ],
 "metadata": {
  "kernelspec": {
   "display_name": "Python 3 (ipykernel)",
   "language": "python",
   "name": "python3"
  },
  "language_info": {
   "codemirror_mode": {
    "name": "ipython",
    "version": 3
   },
   "file_extension": ".py",
   "mimetype": "text/x-python",
   "name": "python",
   "nbconvert_exporter": "python",
   "pygments_lexer": "ipython3",
   "version": "3.10.8"
  }
 },
 "nbformat": 4,
 "nbformat_minor": 5
}
