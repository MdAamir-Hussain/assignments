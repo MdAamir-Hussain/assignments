{
 "cells": [
  {
   "cell_type": "code",
   "execution_count": 1,
   "id": "a50b5361-f483-495e-ac7a-07e99103c0cb",
   "metadata": {},
   "outputs": [],
   "source": [
    "#1.\n",
    "import numpy as np\n",
    "from scipy.stats import f\n",
    "\n",
    "def variance_ratio_test(data1, data2):\n",
    "    \"\"\"\n",
    "    Performs a variance ratio test on two arrays of data.\n",
    "    \n",
    "    Parameters:\n",
    "        data1 (array-like): First array of data.\n",
    "        data2 (array-like): Second array of data.\n",
    "        \n",
    "    Returns:\n",
    "        f_value (float): The F-value for the test.\n",
    "        p_value (float): The corresponding p-value for the test.\n",
    "    \"\"\"\n",
    "    n1 = len(data1)\n",
    "    n2 = len(data2)\n",
    "    var1 = np.var(data1, ddof=1)\n",
    "    var2 = np.var(data2, ddof=1)\n",
    "    f_value = var1/var2\n",
    "    p_value = f.sf(f_value, n1-1, n2-1) # sf = survival function = 1 - cdf\n",
    "    return f_value, p_value\n"
   ]
  },
  {
   "cell_type": "code",
   "execution_count": 2,
   "id": "8f52da98-3c41-4d37-91e2-6ec9b1af5c0e",
   "metadata": {},
   "outputs": [
    {
     "name": "stdout",
     "output_type": "stream",
     "text": [
      "F-value:  0.25\n",
      "p-value:  0.896\n"
     ]
    }
   ],
   "source": [
    "#Here's an example usage of the function:\n",
    "data1 = [1, 2, 3, 4, 5]\n",
    "data2 = [2, 4, 6, 8, 10]\n",
    "f_value, p_value = variance_ratio_test(data1, data2)\n",
    "print(\"F-value: \", f_value)\n",
    "print(\"p-value: \", p_value)\n"
   ]
  },
  {
   "cell_type": "code",
   "execution_count": 3,
   "id": "8e056afb-f934-4242-9c46-8b69813f12e2",
   "metadata": {},
   "outputs": [],
   "source": [
    "#2.\n",
    "from scipy.stats import f\n",
    "\n",
    "def critical_f_value(alpha, dfn, dfd):\n",
    "    \"\"\"\n",
    "    Calculates the critical F-value for a two-tailed test.\n",
    "    \n",
    "    Parameters:\n",
    "        alpha (float): Significance level.\n",
    "        dfn (int): Degrees of freedom for the numerator.\n",
    "        dfd (int): Degrees of freedom for the denominator.\n",
    "        \n",
    "    Returns:\n",
    "        crit_f (float): Critical F-value for the test.\n",
    "    \"\"\"\n",
    "    crit_f = f.ppf(alpha/2, dfn, dfd)\n",
    "    return crit_f\n"
   ]
  },
  {
   "cell_type": "code",
   "execution_count": 5,
   "id": "43597e2e-3e53-4afd-8940-0b5f8a377719",
   "metadata": {},
   "outputs": [
    {
     "name": "stdout",
     "output_type": "stream",
     "text": [
      "Critical F-value:  0.07026656300420833\n"
     ]
    }
   ],
   "source": [
    "#Here's an example usage of the function:\n",
    "alpha = 0.05\n",
    "dfn = 3\n",
    "dfd = 16\n",
    "crit_f = critical_f_value(alpha, dfn, dfd)\n",
    "print(\"Critical F-value: \", crit_f)\n"
   ]
  },
  {
   "cell_type": "code",
   "execution_count": 6,
   "id": "6ba4f8b6-a491-4265-bd2f-b5d738cafdf8",
   "metadata": {},
   "outputs": [
    {
     "name": "stdout",
     "output_type": "stream",
     "text": [
      "F-value:  1.1972580971671474\n",
      "Degrees of freedom (numerator):  49\n",
      "Degrees of freedom (denominator):  49\n",
      "p-value:  0.5309921389937089\n",
      "Equal variances:  True\n"
     ]
    }
   ],
   "source": [
    "#3.\n",
    "import numpy as np\n",
    "from scipy.stats import f\n",
    "\n",
    "def equal_variance_test(sample1, sample2, alpha=0.05):\n",
    "    \"\"\"\n",
    "    Performs an F-test to determine if two samples have equal variances.\n",
    "    \n",
    "    Parameters:\n",
    "        sample1 (array-like): First sample.\n",
    "        sample2 (array-like): Second sample.\n",
    "        alpha (float): Significance level. Defaults to 0.05.\n",
    "        \n",
    "    Returns:\n",
    "        f_value (float): The F-value for the test.\n",
    "        dfn (int): Degrees of freedom for the numerator.\n",
    "        dfd (int): Degrees of freedom for the denominator.\n",
    "        p_value (float): The corresponding p-value for the test.\n",
    "        equal_variances (bool): Whether or not the variances are considered equal.\n",
    "    \"\"\"\n",
    "    n1 = len(sample1)\n",
    "    n2 = len(sample2)\n",
    "    var1 = np.var(sample1, ddof=1)\n",
    "    var2 = np.var(sample2, ddof=1)\n",
    "    if var1 >= var2:\n",
    "        f_value = var1 / var2\n",
    "        dfn = n1 - 1\n",
    "        dfd = n2 - 1\n",
    "    else:\n",
    "        f_value = var2 / var1\n",
    "        dfn = n2 - 1\n",
    "        dfd = n1 - 1\n",
    "    p_value = 2 * f.sf(f_value, dfn, dfd)\n",
    "    equal_variances = p_value > alpha\n",
    "    return f_value, dfn, dfd, p_value, equal_variances\n",
    "\n",
    "# Generate two random samples with known variances\n",
    "mean1 = 10\n",
    "std1 = 2\n",
    "n1 = 50\n",
    "sample1 = np.random.normal(mean1, std1, n1)\n",
    "\n",
    "mean2 = 10\n",
    "std2 = 2\n",
    "n2 = 50\n",
    "sample2 = np.random.normal(mean2, std2, n2)\n",
    "\n",
    "# Perform the F-test\n",
    "f_value, dfn, dfd, p_value, equal_variances = equal_variance_test(sample1, sample2)\n",
    "\n",
    "# Print the results\n",
    "print(\"F-value: \", f_value)\n",
    "print(\"Degrees of freedom (numerator): \", dfn)\n",
    "print(\"Degrees of freedom (denominator): \", dfd)\n",
    "print(\"p-value: \", p_value)\n",
    "print(\"Equal variances: \", equal_variances)\n"
   ]
  },
  {
   "cell_type": "code",
   "execution_count": 7,
   "id": "c9e21ca9-6ed1-44e7-8086-ba9f562dae1b",
   "metadata": {},
   "outputs": [
    {
     "data": {
      "text/plain": [
       "'To conduct an F-test at the 5% significance level to determine if the variances of two populations are significantly different, we can use the following steps:\\n\\nState the null and alternative hypotheses.\\n\\nDetermine the significance level and degrees of freedom for the test.\\n\\nCalculate the F-test statistic.\\n\\nDetermine the p-value.\\n\\nMake a decision and interpret the results.\\n\\nState the null and alternative hypotheses:\\n\\nNull hypothesis (H0): The variances of the two populations are equal.\\n\\nAlternative hypothesis (Ha): The variances of the two populations are significantly different.\\n\\nDetermine the significance level and degrees of freedom for the test:\\n\\nThe significance level is 0.05.\\n\\nThe degrees of freedom for the numerator is (n1 - 1) = (12 - 1) = 11, and the degrees of freedom for the denominator is (n2 - 1) = (12 - 1) = 11, where n1 and n2 are the sample sizes.\\n\\nCalculate the F-test statistic:\\n\\nThe F-test statistic is calculated as the ratio of the larger sample variance to the smaller sample variance. Here, the larger variance is 15 and the smaller variance is 10. Therefore, the F-test statistic is:\\n\\nF = 15 / 10 = 1.5\\n\\nDetermine the p-value:\\n\\nThe p-value is calculated using the F-distribution with 11 degrees of freedom in the numerator and 11 degrees of freedom in the denominator. From the F-distribution table, we find that the critical value of F for a two-tailed test at the 5% significance level is 2.54. Since the calculated F-value (1.5) is less than the critical value (2.54), we fail to reject the null hypothesis. The p-value for the F-test is the probability of observing an F-value less extreme than the calculated F-value under the null hypothesis. Since the F-value is less than the critical value, the p-value is greater than 0.05. From the F-distribution table, the p-value is approximately 0.261.\\nMake a decision and interpret the results:\\n\\nSince the p-value (0.261) is greater than the significance level (0.05), we fail to reject the null hypothesis. Therefore, we do not have enough evidence to conclude that the variances of the two populations are significantly different at the 5% significance level.'"
      ]
     },
     "execution_count": 7,
     "metadata": {},
     "output_type": "execute_result"
    }
   ],
   "source": [
    "#4.\n",
    "'''To conduct an F-test at the 5% significance level to determine if the variances of two populations are significantly different, we can use the following steps:\n",
    "\n",
    "State the null and alternative hypotheses.\n",
    "\n",
    "Determine the significance level and degrees of freedom for the test.\n",
    "\n",
    "Calculate the F-test statistic.\n",
    "\n",
    "Determine the p-value.\n",
    "\n",
    "Make a decision and interpret the results.\n",
    "\n",
    "State the null and alternative hypotheses:\n",
    "\n",
    "Null hypothesis (H0): The variances of the two populations are equal.\n",
    "\n",
    "Alternative hypothesis (Ha): The variances of the two populations are significantly different.\n",
    "\n",
    "Determine the significance level and degrees of freedom for the test:\n",
    "\n",
    "The significance level is 0.05.\n",
    "\n",
    "The degrees of freedom for the numerator is (n1 - 1) = (12 - 1) = 11, and the degrees of freedom for the denominator is (n2 - 1) = (12 - 1) = 11, where n1 and n2 are the sample sizes.\n",
    "\n",
    "Calculate the F-test statistic:\n",
    "\n",
    "The F-test statistic is calculated as the ratio of the larger sample variance to the smaller sample variance. Here, the larger variance is 15 and the smaller variance is 10. Therefore, the F-test statistic is:\n",
    "\n",
    "F = 15 / 10 = 1.5\n",
    "\n",
    "Determine the p-value:\n",
    "\n",
    "The p-value is calculated using the F-distribution with 11 degrees of freedom in the numerator and 11 degrees of freedom in the denominator. From the F-distribution table, we find that the critical value of F for a two-tailed test at the 5% significance level is 2.54. Since the calculated F-value (1.5) is less than the critical value (2.54), we fail to reject the null hypothesis. The p-value for the F-test is the probability of observing an F-value less extreme than the calculated F-value under the null hypothesis. Since the F-value is less than the critical value, the p-value is greater than 0.05. From the F-distribution table, the p-value is approximately 0.261.\n",
    "Make a decision and interpret the results:\n",
    "\n",
    "Since the p-value (0.261) is greater than the significance level (0.05), we fail to reject the null hypothesis. Therefore, we do not have enough evidence to conclude that the variances of the two populations are significantly different at the 5% significance level.'''"
   ]
  },
  {
   "cell_type": "code",
   "execution_count": 8,
   "id": "d31665d3-1722-4cb2-adee-95fc1c31efd8",
   "metadata": {},
   "outputs": [
    {
     "data": {
      "text/plain": [
       "\"To conduct an F-test at the 1% significance level to determine if the manufacturer's claim about the variance of the diameter of a certain product is justified, we can use the following steps:\\n\\nState the null and alternative hypotheses.\\n\\nDetermine the significance level and degrees of freedom for the test.\\n\\nCalculate the F-test statistic.\\n\\nDetermine the p-value.\\n\\nMake a decision and interpret the results.\\n\\nState the null and alternative hypotheses:\\n\\nNull hypothesis (H0): The variance of the diameter of the product is 0.005.\\n\\nAlternative hypothesis (Ha): The variance of the diameter of the product is greater than 0.005.\\n\\nDetermine the significance level and degrees of freedom for the test:\\n\\nThe significance level is 0.01.\\n\\nThe degrees of freedom for the numerator is (n - 1) = (25 - 1) = 24, and the degrees of freedom for the denominator is infinity.\\n\\nCalculate the F-test statistic:\\n\\nThe F-test statistic is calculated as the ratio of the sample variance to the hypothesized variance. Here, the sample variance is 0.006 and the hypothesized variance is 0.005. Therefore, the F-test statistic is:\\n\\nF = 0.006 / 0.005 = 1.2\\n\\nDetermine the p-value:\\n\\nThe p-value is calculated using the F-distribution with 24 degrees of freedom in the numerator and infinity degrees of freedom in the denominator. From the F-distribution table, we find that the critical value of F for a one-tailed test at the 1% significance level is 2.75. Since the calculated F-value (1.2) is less than the critical value (2.75), we fail to reject the null hypothesis. The p-value for the F-test is the probability of observing an F-value less extreme than the calculated F-value under the null hypothesis. Since the F-value is less than the critical value, the p-value is greater than 0.01. From the F-distribution table, the p-value is approximately 0.24.\\nMake a decision and interpret the results:\\n\\nSince the p-value (0.24) is greater than the significance level (0.01), we fail to reject the null hypothesis. Therefore, we do not have enough evidence to conclude that the variance of the diameter of the product is greater than 0.005 at the 1% significance level. The manufacturer's claim about the variance of the diameter of the product is justified at the 1% significance level.\""
      ]
     },
     "execution_count": 8,
     "metadata": {},
     "output_type": "execute_result"
    }
   ],
   "source": [
    "#5.\n",
    "'''To conduct an F-test at the 1% significance level to determine if the manufacturer's claim about the variance of the diameter of a certain product is justified, we can use the following steps:\n",
    "\n",
    "State the null and alternative hypotheses.\n",
    "\n",
    "Determine the significance level and degrees of freedom for the test.\n",
    "\n",
    "Calculate the F-test statistic.\n",
    "\n",
    "Determine the p-value.\n",
    "\n",
    "Make a decision and interpret the results.\n",
    "\n",
    "State the null and alternative hypotheses:\n",
    "\n",
    "Null hypothesis (H0): The variance of the diameter of the product is 0.005.\n",
    "\n",
    "Alternative hypothesis (Ha): The variance of the diameter of the product is greater than 0.005.\n",
    "\n",
    "Determine the significance level and degrees of freedom for the test:\n",
    "\n",
    "The significance level is 0.01.\n",
    "\n",
    "The degrees of freedom for the numerator is (n - 1) = (25 - 1) = 24, and the degrees of freedom for the denominator is infinity.\n",
    "\n",
    "Calculate the F-test statistic:\n",
    "\n",
    "The F-test statistic is calculated as the ratio of the sample variance to the hypothesized variance. Here, the sample variance is 0.006 and the hypothesized variance is 0.005. Therefore, the F-test statistic is:\n",
    "\n",
    "F = 0.006 / 0.005 = 1.2\n",
    "\n",
    "Determine the p-value:\n",
    "\n",
    "The p-value is calculated using the F-distribution with 24 degrees of freedom in the numerator and infinity degrees of freedom in the denominator. From the F-distribution table, we find that the critical value of F for a one-tailed test at the 1% significance level is 2.75. Since the calculated F-value (1.2) is less than the critical value (2.75), we fail to reject the null hypothesis. The p-value for the F-test is the probability of observing an F-value less extreme than the calculated F-value under the null hypothesis. Since the F-value is less than the critical value, the p-value is greater than 0.01. From the F-distribution table, the p-value is approximately 0.24.\n",
    "Make a decision and interpret the results:\n",
    "\n",
    "Since the p-value (0.24) is greater than the significance level (0.01), we fail to reject the null hypothesis. Therefore, we do not have enough evidence to conclude that the variance of the diameter of the product is greater than 0.005 at the 1% significance level. The manufacturer's claim about the variance of the diameter of the product is justified at the 1% significance level.'''"
   ]
  },
  {
   "cell_type": "code",
   "execution_count": 11,
   "id": "4f78fd21-9281-4668-966a-c8dafc7fdb78",
   "metadata": {},
   "outputs": [],
   "source": [
    "#6.\n",
    "import math\n",
    "\n",
    "def f_distribution_mean_var(numerator_df, denominator_df):\n",
    "    \"\"\"\n",
    "    Calculates the mean and variance of an F-distribution.\n",
    "    \n",
    "    Parameters:\n",
    "    numerator_df (int): Degrees of freedom for the numerator.\n",
    "    denominator_df (int): Degrees of freedom for the denominator.\n",
    "    \n",
    "    Returns:\n",
    "    tuple: Mean and variance of the F-distribution.\n",
    "    \"\"\"\n",
    "    if numerator_df <= 0 or denominator_df <= 0:\n",
    "        raise ValueError(\"Degrees of freedom must be positive.\")\n",
    "    \n",
    "    mean = denominator_df / (denominator_df - 2)\n",
    "    variance = (2 * denominator_df**2 * (numerator_df + denominator_df - 2)) / (numerator_df * (denominator_df - 2)**2 * (denominator_df - 4))\n",
    "    \n",
    "    return mean, variance\n"
   ]
  },
  {
   "cell_type": "code",
   "execution_count": 12,
   "id": "7c2992f6-da4c-4646-8828-8cbcf81a48d4",
   "metadata": {},
   "outputs": [
    {
     "name": "stdout",
     "output_type": "stream",
     "text": [
      "Mean: 1.1111111111111112\n",
      "Variance: 0.43209876543209874\n"
     ]
    }
   ],
   "source": [
    "#Here's an example of how to use this function:\n",
    "mean, variance = f_distribution_mean_var(10, 20)\n",
    "print(\"Mean:\", mean)\n",
    "print(\"Variance:\", variance)\n"
   ]
  },
  {
   "cell_type": "code",
   "execution_count": 17,
   "id": "1a87f41f-ff1c-4fb5-ac8d-438a279ce031",
   "metadata": {},
   "outputs": [
    {
     "data": {
      "text/plain": [
       "'To test whether the variances of two normal populations are equal, we can use an F-test. The null hypothesis is that the variances are equal, while the alternative hypothesis is that they are not equal. We can conduct the test as follows:\\n\\nCalculate the sample variances and sample sizes of the two populations.\\n\\nCalculate the ratio of the larger sample variance to the smaller sample variance.\\n\\nCalculate the F-statistic using the formula:\\n\\nF = larger_sample_variance / smaller_sample_variance\\n\\nCalculate the degrees of freedom for the F-distribution using the formulas:\\n\\ndf1 = n1 - 1, where n1 is the sample size of the first population.\\n\\ndf2 = n2 - 1, where n2 is the sample size of the second population.\\n\\nCalculate the p-value associated with the F-statistic using the cumulative distribution function (CDF) of the F-distribution with df1 and df2 degrees of freedom.\\n\\nCompare the p-value to the significance level. If the p-value is less than the significance level, reject the null hypothesis and conclude that the variances are significantly different. Otherwise, fail to reject the null hypothesis and conclude that there is not enough evidence to say that the variances are significantly different.\\n\\nUsing this procedure and the given information, we can conduct the F-test as follows:\\n\\nCalculate the sample variances and sample sizes:\\n\\ns1^2 = 25, n1 = 10\\n\\ns2^2 = 20, n2 = 15\\n\\nSince s1^2 is the larger sample variance, we can calculate the ratio of the larger sample variance to the smaller sample variance:\\n\\ns1^2 / s2^2 = 25 / 20 = 1.25\\n\\nCalculate the F-statistic:\\n\\nF = s1^2 / s2^2 = 1.25\\n\\nCalculate the degrees of freedom:\\n\\ndf1 = n1 - 1 = 10 - 1 = 9\\n\\ndf2 = n2 - 1 = 15 - 1 = 14\\n\\nCalculate the p-value associated with the F-statistic:\\n\\nWe can use the cumulative distribution function (CDF) of the F-distribution to find the probability that a random variable with df1 = 9 and df2 = 14 degrees of freedom is less than or equal to the F-statistic we calculated. We can do this using the scipy.stats.f.cdf() function in Python:'"
      ]
     },
     "execution_count": 17,
     "metadata": {},
     "output_type": "execute_result"
    }
   ],
   "source": [
    "#7.\n",
    "'''To test whether the variances of two normal populations are equal, we can use an F-test. The null hypothesis is that the variances are equal, while the alternative hypothesis is that they are not equal. We can conduct the test as follows:\n",
    "\n",
    "Calculate the sample variances and sample sizes of the two populations.\n",
    "\n",
    "Calculate the ratio of the larger sample variance to the smaller sample variance.\n",
    "\n",
    "Calculate the F-statistic using the formula:\n",
    "\n",
    "F = larger_sample_variance / smaller_sample_variance\n",
    "\n",
    "Calculate the degrees of freedom for the F-distribution using the formulas:\n",
    "\n",
    "df1 = n1 - 1, where n1 is the sample size of the first population.\n",
    "\n",
    "df2 = n2 - 1, where n2 is the sample size of the second population.\n",
    "\n",
    "Calculate the p-value associated with the F-statistic using the cumulative distribution function (CDF) of the F-distribution with df1 and df2 degrees of freedom.\n",
    "\n",
    "Compare the p-value to the significance level. If the p-value is less than the significance level, reject the null hypothesis and conclude that the variances are significantly different. Otherwise, fail to reject the null hypothesis and conclude that there is not enough evidence to say that the variances are significantly different.\n",
    "\n",
    "Using this procedure and the given information, we can conduct the F-test as follows:\n",
    "\n",
    "Calculate the sample variances and sample sizes:\n",
    "\n",
    "s1^2 = 25, n1 = 10\n",
    "\n",
    "s2^2 = 20, n2 = 15\n",
    "\n",
    "Since s1^2 is the larger sample variance, we can calculate the ratio of the larger sample variance to the smaller sample variance:\n",
    "\n",
    "s1^2 / s2^2 = 25 / 20 = 1.25\n",
    "\n",
    "Calculate the F-statistic:\n",
    "\n",
    "F = s1^2 / s2^2 = 1.25\n",
    "\n",
    "Calculate the degrees of freedom:\n",
    "\n",
    "df1 = n1 - 1 = 10 - 1 = 9\n",
    "\n",
    "df2 = n2 - 1 = 15 - 1 = 14\n",
    "\n",
    "Calculate the p-value associated with the F-statistic:\n",
    "\n",
    "We can use the cumulative distribution function (CDF) of the F-distribution to find the probability that a random variable with df1 = 9 and df2 = 14 degrees of freedom is less than or equal to the F-statistic we calculated. We can do this using the scipy.stats.f.cdf() function in Python:'''"
   ]
  },
  {
   "cell_type": "code",
   "execution_count": 18,
   "id": "9dedf464-d452-42a3-bfef-933cea6e822e",
   "metadata": {},
   "outputs": [
    {
     "data": {
      "text/plain": [
       "0.6832194382585954"
      ]
     },
     "execution_count": 18,
     "metadata": {},
     "output_type": "execute_result"
    }
   ],
   "source": [
    "import scipy.stats as stats\n",
    "\n",
    "\n",
    "\n",
    "p_value = 2 * (1 - stats.f.cdf(1.25, 9, 14))\n",
    "p_value\n"
   ]
  },
  {
   "cell_type": "code",
   "execution_count": 20,
   "id": "e20c77ec-3d15-4b4f-a2ee-e5b49e0f71e0",
   "metadata": {},
   "outputs": [
    {
     "name": "stdout",
     "output_type": "stream",
     "text": [
      "Fail to reject H0: The variances are not significantly different.\n"
     ]
    }
   ],
   "source": [
    "#8.\n",
    "import numpy as np\n",
    "from scipy.stats import f\n",
    "\n",
    "a = np.array([24, 25, 28, 23, 22, 20, 27])\n",
    "b = np.array([31, 33, 35, 30, 32, 36])\n",
    "\n",
    "# Calculate the sample variances\n",
    "var_a = np.var(a, ddof=1)\n",
    "var_b = np.var(b, ddof=1)\n",
    "\n",
    "# Calculate the F-value and p-value\n",
    "f_value = var_a / var_b\n",
    "p_value = f.cdf(f_value, len(a)-1, len(b)-1)\n",
    "p_value = min(p_value, 1-p_value)*2\n",
    "\n",
    "# Compare p-value with the significance level\n",
    "alpha = 0.05\n",
    "if p_value < alpha:\n",
    "    print(\"Reject H0: The variances are significantly different.\")\n",
    "else:\n",
    "    print(\"Fail to reject H0: The variances are not significantly different.\")\n"
   ]
  },
  {
   "cell_type": "code",
   "execution_count": null,
   "id": "9113c3eb-6a4d-4b17-a98b-269a178d7690",
   "metadata": {},
   "outputs": [],
   "source": []
  },
  {
   "cell_type": "code",
   "execution_count": 22,
   "id": "6e81cff9-8958-46e3-94e8-835790a8106b",
   "metadata": {},
   "outputs": [
    {
     "name": "stdout",
     "output_type": "stream",
     "text": [
      "Fail to reject H0: The variances are not significantly different.\n"
     ]
    }
   ],
   "source": [
    "#9.\n",
    "import numpy as np\n",
    "from scipy.stats import f\n",
    "\n",
    "a = np.array([80, 85, 90, 92, 87, 83])\n",
    "b = np.array([75, 78, 82, 79, 81, 84])\n",
    "\n",
    "# Calculate the sample variances\n",
    "var_a = np.var(a, ddof=1)\n",
    "var_b = np.var(b, ddof=1)\n",
    "\n",
    "# Calculate the F-value and p-value\n",
    "f_value = var_a / var_b\n",
    "p_value = f.cdf(f_value, len(a)-1, len(b)-1)\n",
    "p_value = min(p_value, 1-p_value)*2\n",
    "\n",
    "# Compare p-value with the significance level\n",
    "alpha = 0.01\n",
    "if p_value < alpha:\n",
    "    print(\"Reject H0: The variances are significantly different.\")\n",
    "else:\n",
    "    print(\"Fail to reject H0: The variances are not significantly different.\")\n"
   ]
  },
  {
   "cell_type": "code",
   "execution_count": null,
   "id": "6cf075a9-8b68-49a0-99fa-2afb92505d34",
   "metadata": {},
   "outputs": [],
   "source": []
  }
 ],
 "metadata": {
  "kernelspec": {
   "display_name": "Python 3 (ipykernel)",
   "language": "python",
   "name": "python3"
  },
  "language_info": {
   "codemirror_mode": {
    "name": "ipython",
    "version": 3
   },
   "file_extension": ".py",
   "mimetype": "text/x-python",
   "name": "python",
   "nbconvert_exporter": "python",
   "pygments_lexer": "ipython3",
   "version": "3.10.8"
  }
 },
 "nbformat": 4,
 "nbformat_minor": 5
}
