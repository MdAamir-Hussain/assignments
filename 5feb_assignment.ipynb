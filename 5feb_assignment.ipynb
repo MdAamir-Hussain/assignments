{
 "cells": [
  {
   "cell_type": "code",
   "execution_count": 7,
   "id": "ca0f3d81-bd9e-474d-af1c-cfa6830616bb",
   "metadata": {},
   "outputs": [
    {
     "name": "stdout",
     "output_type": "stream",
     "text": [
      "Hello, my name is John\n",
      "Jane is walking\n"
     ]
    }
   ],
   "source": [
    "#1.\n",
    "'''Class and object are fundamental concepts in Object-Oriented Programming (OOP).\n",
    "\n",
    "A class is a blueprint for creating objects. It defines a set of attributes and behaviors that the objects created from the class will have. For example, you could define a Person class that has attributes such as name, age, and gender and behaviors such as speak and walk.\n",
    "\n",
    "An object, on the other hand, is an instance of a class. It has its own unique set of attribute values and can perform the behaviors defined in the class. For example, you could create several Person objects, each with a different set of attribute values, and each object would be able to perform the speak and walk behaviors.\n",
    "\n",
    "Here is an example that demonstrates the use of a class and object in Python:'''\n",
    "class Person:\n",
    "    def __init__(self, name, age, gender):\n",
    "        self.name = name\n",
    "        self.age = age\n",
    "        self.gender = gender\n",
    "\n",
    "    def speak(self):\n",
    "        print(\"Hello, my name is {}\".format(self.name))\n",
    "\n",
    "    def walk(self):\n",
    "        print(\"{} is walking\".format(self.name))\n",
    "\n",
    "person1 = Person(\"John\", 30, \"Male\")\n",
    "person2 = Person(\"Jane\", 25, \"Female\")\n",
    "\n",
    "person1.speak() # prints \"Hello, my name is John\"\n",
    "person2.walk() # prints \"Jane is walking\"\n"
   ]
  },
  {
   "cell_type": "code",
   "execution_count": null,
   "id": "15a955af-426b-49e7-929a-ebbc554be305",
   "metadata": {},
   "outputs": [],
   "source": [
    "#2.\n",
    "'''The four pillars of Object-Oriented Programming (OOP) are:\n",
    "\n",
    "Encapsulation: The idea of wrapping data and functions within an object, so that the data is protected from outside access and modification. Encapsulation is achieved by defining the class variables and methods as private, protected or public, thus controlling the access of these entities.\n",
    "\n",
    "Abstraction: The concept of hiding implementation details and exposing only the necessary information to the user. Abstraction is achieved through inheritance and polymorphism in OOP.\n",
    "\n",
    "Inheritance: The process of creating a new class from an existing class, by inheriting its attributes and behavior. This allows for code reuse and reduces the complexity of code maintenance.\n",
    "\n",
    "Polymorphism: The ability of an object to take on many forms. In OOP, polymorphism refers to the ability of a class or object to respond to the same method call in different ways, based on the context in which the method is used.'''\n"
   ]
  },
  {
   "cell_type": "code",
   "execution_count": 13,
   "id": "b3ee5ab4-edbc-4ad8-a9ad-3efa5008f39b",
   "metadata": {},
   "outputs": [],
   "source": [
    "#3.\n",
    "'''The __init__ method, also known as the constructor method, is used in Object-Oriented Programming (OOP) to initialize the attributes of an object when it is created. This method is automatically called when a new object is created from a class and it allows you to set the initial values for the attributes of the object. for example'''\n",
    "\n",
    "class Person:\n",
    "    def __init__(self, name, age, gender):\n",
    "        self.name = name\n",
    "        self.age = age\n",
    "        self.gender = gender\n",
    "\n",
    "person1 = Person(\"John\", 30, \"Male\")\n",
    "person2 = Person(\"Jane\", 25, \"Female\")\n"
   ]
  },
  {
   "cell_type": "code",
   "execution_count": null,
   "id": "700e08c3-a734-4bb1-b584-b5d6018c9384",
   "metadata": {},
   "outputs": [],
   "source": [
    "#4.\n",
    "'''In Object-Oriented Programming (OOP), self is a reference to the instance of the object that is being operated on. It is used to access the attributes and methods of the current object.\n",
    "\n",
    "In Python, when you define a method within a class, the first parameter of the method is usually self, which refers to the instance of the object that the method is being called on. When you call the method on an object, self is automatically passed as the first argument to the method, so that you can access the attributes and methods of the object within the method.'''\n",
    "\n"
   ]
  },
  {
   "cell_type": "code",
   "execution_count": null,
   "id": "5f2a98c7-e498-4a5d-b9a1-8957de83941b",
   "metadata": {},
   "outputs": [],
   "source": [
    "#5.\n",
    "'''Inheritance is a mechanism in Object-Oriented Programming (OOP) that allows you to create a new class that is a modified version of an existing class. The new class is called a subclass, and the existing class is called the superclass. The subclass inherits the attributes and behaviors of the superclass and can add new attributes or override existing ones.\n",
    "\n",
    "There are several types of inheritance in OOP, including:\n",
    "\n",
    "Single inheritance: In single inheritance, a subclass inherits from a single superclass. The subclass has access to all the attributes and methods of the superclass, but can also add new attributes and override existing ones.\n",
    "Example:'''\n",
    "class Animal:\n",
    "    def __init__(self, name, species):\n",
    "        self.name = name\n",
    "        self.species = species\n",
    "\n",
    "    def make_sound(self):\n",
    "        print(\"Some generic animal sound\")\n",
    "\n",
    "class Dog(Animal):\n",
    "    def __init__(self, name, breed):\n",
    "        Animal.__init__(self, name, species=\"Dog\")\n",
    "        self.breed = breed\n",
    "\n",
    "    def make_sound(self):\n",
    "        print(\"Woof!\")\n",
    "\n",
    "dog = Dog(\"Fido\", \"Labrador\")\n",
    "dog.make_sound() # prints \"Woof!\"\n"
   ]
  },
  {
   "cell_type": "code",
   "execution_count": null,
   "id": "85f07945-c590-4e5d-8f91-8ff95e31835b",
   "metadata": {},
   "outputs": [],
   "source": [
    "'''Multi-level inheritance: In multi-level inheritance, a subclass inherits from a superclass, which in turn inherits from another superclass. The subclass has access to all the attributes and methods of all the superclasses in the hierarchy.\n",
    "Example:'''\n",
    "class GrandParent:\n",
    "    def __init__(self, name, age):\n",
    "        self.name = name\n",
    "        self.age = age\n",
    "\n",
    "class Parent(GrandParent):\n",
    "    def __init__(self, name, age, occupation):\n",
    "        GrandParent.__init__(self, name, age)\n",
    "        self.occupation = occupation\n",
    "\n",
    "class Child(Parent):\n",
    "    def __init__(self, name, age, school):\n",
    "        Parent.__init__(self, name, age, occupation=\"Student\")\n",
    "        self.school = school\n",
    "\n",
    "child = Child(\"Alice\", 10, \"ABC School\")\n",
    "print(child.name) # prints \"Alice\"\n",
    "print(child.age) # prints 10\n",
    "print(child.occupation) # prints \"Student\"\n",
    "print(child.school) # prints \"ABC School\"\n"
   ]
  },
  {
   "cell_type": "code",
   "execution_count": 15,
   "id": "6165829d-2ccd-4fa5-a415-b98cbc9f3281",
   "metadata": {},
   "outputs": [],
   "source": [
    "'''Multiple inheritance: In multiple inheritance, a subclass inherits from multiple superclasses. The subclass has access to all the attributes and methods of all the superclasses.\n",
    "Example:'''\n",
    "class Mother:\n",
    "    def __init__(self, name, hair_color):\n",
    "        self.name = name\n",
    "        self.hair_color = hair_color\n",
    "\n",
    "class Father:\n",
    "    def __init__(self, name, eye_color):\n",
    "        self.name = name\n",
    "        self\n"
   ]
  },
  {
   "cell_type": "code",
   "execution_count": 17,
   "id": "cda68c18-1144-42ca-a3eb-65e7175f384e",
   "metadata": {},
   "outputs": [
    {
     "name": "stdout",
     "output_type": "stream",
     "text": [
      "4\n",
      "Full\n",
      "21\n"
     ]
    }
   ],
   "source": [
    "'''Hierarchical Inheritance: In this type of inheritance, multiple derived classes inherit from a single base class. This is a way of creating a hierarchy of classes that represent more and more specialized concepts. For example, a class Vehicle could be the base class, and classes such as Car, Truck, and Bicycle could be derived classes.'''\n",
    "class Vehicle:\n",
    "    def __init__(self, num_wheels):\n",
    "        self.num_wheels = num_wheels\n",
    "\n",
    "class Car(Vehicle):\n",
    "    def __init__(self, make, model):\n",
    "        Vehicle.__init__(self, num_wheels=4)\n",
    "        self.make = make\n",
    "        self.model = model\n",
    "\n",
    "class Truck(Vehicle):\n",
    "    def __init__(self, make, bed_size):\n",
    "        Vehicle.__init__(self, num_wheels=6)\n",
    "        self.make = make\n",
    "        self.bed_size = bed_size\n",
    "\n",
    "class Bicycle(Vehicle):\n",
    "    def __init__(self, make, num_gears):\n",
    "        Vehicle.__init__(self, num_wheels=2)\n",
    "        self.make = make\n",
    "        self.num_gears = num_gears\n",
    "\n",
    "car1 = Car(\"Toyota\", \"Camry\")\n",
    "truck1 = Truck(\"Ford\", \"Full\")\n",
    "bicycle1 = Bicycle(\"Giant\", 21)\n",
    "\n",
    "print(car1.num_wheels) # prints 4\n",
    "print(truck1.bed_size) # prints \"Full\"\n",
    "print(bicycle1.num_gears) # prints 21\n",
    "\n"
   ]
  },
  {
   "cell_type": "code",
   "execution_count": null,
   "id": "ffdc7746-c591-4545-b08f-ed1d50e2095b",
   "metadata": {},
   "outputs": [],
   "source": []
  }
 ],
 "metadata": {
  "kernelspec": {
   "display_name": "Python 3 (ipykernel)",
   "language": "python",
   "name": "python3"
  },
  "language_info": {
   "codemirror_mode": {
    "name": "ipython",
    "version": 3
   },
   "file_extension": ".py",
   "mimetype": "text/x-python",
   "name": "python",
   "nbconvert_exporter": "python",
   "pygments_lexer": "ipython3",
   "version": "3.10.8"
  }
 },
 "nbformat": 4,
 "nbformat_minor": 5
}
