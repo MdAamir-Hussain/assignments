{
 "cells": [
  {
   "cell_type": "code",
   "execution_count": null,
   "id": "28b6087a-0687-4f72-8edb-19bd8da3ca45",
   "metadata": {},
   "outputs": [],
   "source": [
    "#1.\n",
    "The open() function is used to open a file in Python. It takes the file name and mode as arguments.\n",
    "\n",
    "There are several modes in which a file can be opened in Python:\n",
    "\n",
    "'r' (Read Only): This is the default mode in which the file is opened. The file is opened in read-only mode and cannot be written to. If the file does not exist, an error is raised.\n",
    "\n",
    "'w' (Write Only): The file is opened in write-only mode. If the file already exists, its contents will be overwritten. If the file does not exist, a new file with the specified name will be created.\n",
    "\n",
    "'a' (Append Only): The file is opened in append mode. If the file already exists, new data will be appended to the end of the file. If the file does not exist, a new file with the specified name will be created.\n",
    "\n",
    "'x' (Exclusive Creation): The file is opened in exclusive creation mode. If the file already exists, an error will be raised. If the file does not exist, a new file with the specified name will be created.\n",
    "\n",
    "'b' (Binary Mode): The file is opened in binary mode. This mode is used when reading or writing binary files, such as images or audio files.\n",
    "\n",
    "'t' (Text Mode): The file is opened in text mode. This is the default mode in which text files are opened.\n",
    "\n",
    "It is possible to combine modes when opening a file. For example, to open a file in binary read mode, the mode 'rb' can be used. Similarly, to open a file in text write mode, the mode 'wt' can be used."
   ]
  },
  {
   "cell_type": "code",
   "execution_count": null,
   "id": "8a5fd776-0c8b-468d-9df7-8f11adb28e55",
   "metadata": {},
   "outputs": [],
   "source": [
    "#2.\n",
    "The close() function is used to close an open file. When you're done working with a file, it's important to close it so that the operating system can release any resources that were being used by the file, such as memory and file handles.\n",
    "\n",
    "If you don't close a file after you're done with it, the operating system might keep the file open indefinitely, which can lead to resource exhaustion and cause other problems. For example, if you open a file in write mode, any changes you make to the file won't be saved until you close it. If you open a file in read mode, you might not be able to access the file again until you close it.\n",
    "\n",
    "In addition, when you're working with multiple files, it's possible to run into conflicts if you don't close the files you're done with. For example, if you have two processes that are trying to access the same file at the same time, one process might not be able to access the file until the other process closes it.\n",
    "\n",
    "By using the close() function, you can ensure that files are closed when you're done with them, which helps to prevent these types of problems.\n",
    "\n",
    "Note: In Python, you can use the with statement to automatically close a file after you're done with it, so you don't have to worry about explicitly calling the close() function."
   ]
  },
  {
   "cell_type": "code",
   "execution_count": 1,
   "id": "8d4436cf-b7f2-40aa-a019-39fe2085f1ee",
   "metadata": {},
   "outputs": [
    {
     "name": "stdout",
     "output_type": "stream",
     "text": [
      "I want to become a Data Scientist\n"
     ]
    }
   ],
   "source": [
    "#3.\n",
    "'''python program that creates a text file, writes the text \"I want to become a Data Scientist\" to the file, closes the file, and then opens the file and reads its contents:'''\n",
    "# Create a text file and write to it\n",
    "with open(\"file.txt\", \"w\") as f:\n",
    "    f.write(\"I want to become a Data Scientist\")\n",
    "\n",
    "# Open the file and read its contents\n",
    "with open(\"file.txt\", \"r\") as f:\n",
    "    contents = f.read()\n",
    "    print(contents)\n"
   ]
  },
  {
   "cell_type": "code",
   "execution_count": null,
   "id": "467ddef8-de7c-478b-b767-0d3b3dc97e85",
   "metadata": {},
   "outputs": [],
   "source": [
    "#4.\n",
    "'''read() is a method in Python that is used to read the entire contents of a file as a string.'''\n",
    "with open(\"file.txt\", \"r\") as f:\n",
    "    contents = f.read()\n",
    "    print(contents)\n",
    "'''In this code, we use the open() function to open the file \"file.txt\" in read mode. The read() method is then used to read the entire contents of the file into the contents variable, which is then printed to the console.'''\n"
   ]
  },
  {
   "cell_type": "code",
   "execution_count": null,
   "id": "1abb27ad-7cd4-46fc-8a86-e19f17d1c275",
   "metadata": {},
   "outputs": [],
   "source": [
    "'''readline() is another method in Python that is used to read a single line of a file at a time. Here is an example:'''\n",
    "with open(\"file.txt\", \"r\") as f:\n",
    "    line = f.readline()\n",
    "    while line:\n",
    "        print(line)\n",
    "        line = f.readline()\n"
   ]
  },
  {
   "cell_type": "code",
   "execution_count": null,
   "id": "7fd3dddf-f3dc-4e14-93ea-50c59aaecda0",
   "metadata": {},
   "outputs": [],
   "source": [
    "'''readlines() is another method in Python that is used to read all the lines of a file as a list of strings, where each element of the list represents a single line of the file. Here is an example:'''\n",
    "with open(\"file.txt\", \"r\") as f:\n",
    "    lines = f.readlines()\n",
    "    for line in lines:\n",
    "        print(line)\n"
   ]
  },
  {
   "cell_type": "code",
   "execution_count": null,
   "id": "dff41a59-4aaa-4f81-b19d-02dd2fcfbd59",
   "metadata": {},
   "outputs": [],
   "source": [
    "#5.\n",
    "'''The with statement is used in Python to automatically manage the lifetime of objects such as files. When using with in combination with open(), it ensures that the file is properly closed, even if an exception is raised during the execution of the code block inside the with statement.\n",
    "\n",
    "The advantage of using the with statement and open() together is that it helps to prevent resource leaks in the program. When a file is opened using the open() function, it needs to be properly closed using the close() method to release system resources. However, if an exception is raised during the execution of the code, the file may not be properly closed. The with statement provides a way to ensure that the file is closed automatically, even if an exception is raised.\n",
    "\n",
    "Here is an example to illustrate this:'''\n",
    "try:\n",
    "    f = open(\"file.txt\", \"r\")\n",
    "    # Read file contents\n",
    "    # Do some processing\n",
    "finally:\n",
    "    f.close()\n"
   ]
  },
  {
   "cell_type": "code",
   "execution_count": null,
   "id": "942e4124-b9b8-45fc-ad47-24ebcf67fe3e",
   "metadata": {},
   "outputs": [],
   "source": [
    "#6.\n",
    "'''The write() and writelines() functions are used to write to a file in Python.\n",
    "\n",
    "The write() function is used to write a string to a file. The string is specified as the argument to the write() function and is written to the file at the current file position. If the file does not exist, the write() function creates a new file and writes the string to it.\n",
    "\n",
    "Here is an example to illustrate the use of the write() function:'''\n",
    "with open(\"file.txt\", \"w\") as f:\n",
    "    f.write(\"I want to become a Data Scientist.\")\n"
   ]
  },
  {
   "cell_type": "code",
   "execution_count": null,
   "id": "7f4550c4-516f-4c5e-a0a3-af6015023e88",
   "metadata": {},
   "outputs": [],
   "source": [
    "'''The writelines() function is used to write a list of strings to a file. Each string in the list is written to a separate line in the file. The list of strings is specified as the argument to the writelines() function and is written to the file at the current file position. If the file does not exist, the writelines() function creates a new file and writes the strings to it.\n",
    "\n",
    "Here is an example to illustrate the use of the writelines() function:'''\n",
    "with open(\"file.txt\", \"w\") as f:\n",
    "    f.writelines([\"I want to become a Data Scientist.\", \"Data Science is my passion.\"])\n"
   ]
  }
 ],
 "metadata": {
  "kernelspec": {
   "display_name": "Python 3 (ipykernel)",
   "language": "python",
   "name": "python3"
  },
  "language_info": {
   "codemirror_mode": {
    "name": "ipython",
    "version": 3
   },
   "file_extension": ".py",
   "mimetype": "text/x-python",
   "name": "python",
   "nbconvert_exporter": "python",
   "pygments_lexer": "ipython3",
   "version": "3.10.8"
  }
 },
 "nbformat": 4,
 "nbformat_minor": 5
}
