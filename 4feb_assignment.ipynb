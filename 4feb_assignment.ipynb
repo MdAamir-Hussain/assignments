{
 "cells": [
  {
   "cell_type": "code",
   "execution_count": null,
   "id": "cf753b32-6a4a-44f2-972b-bf71c81d5eda",
   "metadata": {},
   "outputs": [],
   "source": [
    "1.player_runs = [('Sachin Tendulkar', 34357), ('Ricky Ponting', 27483), ('Jack Kallis', 25534), ('Virat Kohli', 24936)]\n",
    "sorted_player_runs = sorted(player_runs, key=lambda x: x[1], reverse=True)\n",
    "print(sorted_player_runs)\n"
   ]
  },
  {
   "cell_type": "code",
   "execution_count": null,
   "id": "611f10e1-11a8-4bef-b033-479a47036dab",
   "metadata": {},
   "outputs": [],
   "source": [
    "2.Python code to find the squares of all the numbers in the given list of integers using lambda and map functions:\n",
    "\n",
    "numbers = [1, 2, 3, 4, 5, 6, 7, 8, 9, 10]\n",
    "squared_numbers = list(map(lambda x: x**2, numbers))\n",
    "print(squared_numbers)\n"
   ]
  },
  {
   "cell_type": "code",
   "execution_count": null,
   "id": "6f2232ae-546b-4ff3-8113-7788818bbcca",
   "metadata": {},
   "outputs": [],
   "source": [
    "3.Python code to convert the given list of integers into a tuple of strings using map and lambda functions:\n",
    "\n",
    "numbers = [1, 2, 3, 4, 5, 6, 7, 8, 9, 10]\n",
    "strings = tuple(map(lambda x: str(x), numbers))\n",
    "print(strings)\n"
   ]
  },
  {
   "cell_type": "code",
   "execution_count": null,
   "id": "a925f67f-d0ea-4ecf-852f-d44356be464b",
   "metadata": {},
   "outputs": [],
   "source": [
    "4.\n",
    "from functools import reduce\n",
    "\n",
    "numbers = [x for x in range(1, 26)]\n",
    "product = reduce(lambda x, y: x * y, numbers)\n",
    "print(product)\n"
   ]
  },
  {
   "cell_type": "code",
   "execution_count": null,
   "id": "ad22576b-e7eb-4efd-aeb6-75ae9410e759",
   "metadata": {},
   "outputs": [],
   "source": [
    "5.\n",
    "numbers = [2, 3, 6, 9, 27, 60, 90, 120, 55, 46]\n",
    "filtered_numbers = list(filter(lambda x: x % 2 == 0 and x % 3 == 0, numbers))\n",
    "print(filtered_numbers)\n",
    "\n"
   ]
  },
  {
   "cell_type": "code",
   "execution_count": null,
   "id": "248abbd1-1531-4918-8a78-bcb0d29d4ae6",
   "metadata": {},
   "outputs": [],
   "source": [
    "6.\n",
    "strings = ['python', 'php', 'aba', 'radar', 'level']\n",
    "palindromes = list(filter(lambda x: x == x[::-1], strings))\n",
    "print(palindromes)\n"
   ]
  }
 ],
 "metadata": {
  "kernelspec": {
   "display_name": "Python 3 (ipykernel)",
   "language": "python",
   "name": "python3"
  },
  "language_info": {
   "codemirror_mode": {
    "name": "ipython",
    "version": 3
   },
   "file_extension": ".py",
   "mimetype": "text/x-python",
   "name": "python",
   "nbconvert_exporter": "python",
   "pygments_lexer": "ipython3",
   "version": "3.10.8"
  }
 },
 "nbformat": 4,
 "nbformat_minor": 5
}
